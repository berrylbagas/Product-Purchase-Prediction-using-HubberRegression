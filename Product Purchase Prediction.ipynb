{
 "cells": [
  {
   "cell_type": "markdown",
   "metadata": {
    "id": "2YttQyvt8Rlp"
   },
   "source": [
    "# **Product Purchase Prediction - Facebook Ads**"
   ]
  },
  {
   "cell_type": "markdown",
   "metadata": {
    "id": "2qFNbHE78bcB"
   },
   "source": [
    "\n",
    "\n",
    "> Nama: Berryl Bagas Wirawan\n",
    "\n",
    "\n",
    "> Bahasa Pemrograman: Python\n",
    "\n",
    "\n",
    "\n"
   ]
  },
  {
   "cell_type": "markdown",
   "metadata": {
    "id": "VHRgTCn5mwH8"
   },
   "source": [
    "# Data Understanding"
   ]
  },
  {
   "cell_type": "markdown",
   "metadata": {
    "id": "Rj7Vs7y_nu0J"
   },
   "source": [
    "## Introduction to Dataset"
   ]
  },
  {
   "cell_type": "code",
   "execution_count": 1,
   "metadata": {
    "executionInfo": {
     "elapsed": 588,
     "status": "ok",
     "timestamp": 1638778797296,
     "user": {
      "displayName": "006_Berryl Bagas",
      "photoUrl": "https://lh3.googleusercontent.com/a-/AOh14GiDZMNEtuSWWuS-fsix3MeuvW88AemkkLEu8OFTyg=s64",
      "userId": "09798621404980976797"
     },
     "user_tz": -420
    },
    "id": "CGzqh82hmU1s"
   },
   "outputs": [],
   "source": [
    "import numpy as np\n",
    "import pandas as pd\n",
    "import matplotlib.pyplot as plt\n",
    "import seaborn as sns"
   ]
  },
  {
   "cell_type": "code",
   "execution_count": 2,
   "metadata": {
    "executionInfo": {
     "elapsed": 10,
     "status": "ok",
     "timestamp": 1638778801387,
     "user": {
      "displayName": "006_Berryl Bagas",
      "photoUrl": "https://lh3.googleusercontent.com/a-/AOh14GiDZMNEtuSWWuS-fsix3MeuvW88AemkkLEu8OFTyg=s64",
      "userId": "09798621404980976797"
     },
     "user_tz": -420
    },
    "id": "oQ4dO1wx01OQ"
   },
   "outputs": [],
   "source": [
    "import warnings\n",
    "warnings.filterwarnings('ignore')"
   ]
  },
  {
   "cell_type": "code",
   "execution_count": 3,
   "metadata": {
    "colab": {
     "base_uri": "https://localhost:8080/",
     "height": 206
    },
    "executionInfo": {
     "elapsed": 96,
     "status": "ok",
     "timestamp": 1638778805653,
     "user": {
      "displayName": "006_Berryl Bagas",
      "photoUrl": "https://lh3.googleusercontent.com/a-/AOh14GiDZMNEtuSWWuS-fsix3MeuvW88AemkkLEu8OFTyg=s64",
      "userId": "09798621404980976797"
     },
     "user_tz": -420
    },
    "id": "8TVjxmD2njWo",
    "outputId": "42970d9a-780e-4737-fc76-916733c1ff23"
   },
   "outputs": [
    {
     "data": {
      "text/html": [
       "<div>\n",
       "<style scoped>\n",
       "    .dataframe tbody tr th:only-of-type {\n",
       "        vertical-align: middle;\n",
       "    }\n",
       "\n",
       "    .dataframe tbody tr th {\n",
       "        vertical-align: top;\n",
       "    }\n",
       "\n",
       "    .dataframe thead th {\n",
       "        text-align: right;\n",
       "    }\n",
       "</style>\n",
       "<table border=\"1\" class=\"dataframe\">\n",
       "  <thead>\n",
       "    <tr style=\"text-align: right;\">\n",
       "      <th></th>\n",
       "      <th>ad_id</th>\n",
       "      <th>xyz_campaign_id</th>\n",
       "      <th>fb_campaign_id</th>\n",
       "      <th>age</th>\n",
       "      <th>gender</th>\n",
       "      <th>interest</th>\n",
       "      <th>Impressions</th>\n",
       "      <th>Clicks</th>\n",
       "      <th>Spent</th>\n",
       "      <th>Total_Conversion</th>\n",
       "      <th>Approved_Conversion</th>\n",
       "    </tr>\n",
       "  </thead>\n",
       "  <tbody>\n",
       "    <tr>\n",
       "      <th>0</th>\n",
       "      <td>708746</td>\n",
       "      <td>916</td>\n",
       "      <td>103916</td>\n",
       "      <td>30-34</td>\n",
       "      <td>M</td>\n",
       "      <td>15</td>\n",
       "      <td>7350</td>\n",
       "      <td>1</td>\n",
       "      <td>1.43</td>\n",
       "      <td>2</td>\n",
       "      <td>1</td>\n",
       "    </tr>\n",
       "    <tr>\n",
       "      <th>1</th>\n",
       "      <td>708749</td>\n",
       "      <td>916</td>\n",
       "      <td>103917</td>\n",
       "      <td>30-34</td>\n",
       "      <td>M</td>\n",
       "      <td>16</td>\n",
       "      <td>17861</td>\n",
       "      <td>2</td>\n",
       "      <td>1.82</td>\n",
       "      <td>2</td>\n",
       "      <td>0</td>\n",
       "    </tr>\n",
       "    <tr>\n",
       "      <th>2</th>\n",
       "      <td>708771</td>\n",
       "      <td>916</td>\n",
       "      <td>103920</td>\n",
       "      <td>30-34</td>\n",
       "      <td>M</td>\n",
       "      <td>20</td>\n",
       "      <td>693</td>\n",
       "      <td>0</td>\n",
       "      <td>0.00</td>\n",
       "      <td>1</td>\n",
       "      <td>0</td>\n",
       "    </tr>\n",
       "    <tr>\n",
       "      <th>3</th>\n",
       "      <td>708815</td>\n",
       "      <td>916</td>\n",
       "      <td>103928</td>\n",
       "      <td>30-34</td>\n",
       "      <td>M</td>\n",
       "      <td>28</td>\n",
       "      <td>4259</td>\n",
       "      <td>1</td>\n",
       "      <td>1.25</td>\n",
       "      <td>1</td>\n",
       "      <td>0</td>\n",
       "    </tr>\n",
       "    <tr>\n",
       "      <th>4</th>\n",
       "      <td>708818</td>\n",
       "      <td>916</td>\n",
       "      <td>103928</td>\n",
       "      <td>30-34</td>\n",
       "      <td>M</td>\n",
       "      <td>28</td>\n",
       "      <td>4133</td>\n",
       "      <td>1</td>\n",
       "      <td>1.29</td>\n",
       "      <td>1</td>\n",
       "      <td>1</td>\n",
       "    </tr>\n",
       "  </tbody>\n",
       "</table>\n",
       "</div>"
      ],
      "text/plain": [
       "    ad_id  xyz_campaign_id  ...  Total_Conversion Approved_Conversion\n",
       "0  708746              916  ...                 2                   1\n",
       "1  708749              916  ...                 2                   0\n",
       "2  708771              916  ...                 1                   0\n",
       "3  708815              916  ...                 1                   0\n",
       "4  708818              916  ...                 1                   1\n",
       "\n",
       "[5 rows x 11 columns]"
      ]
     },
     "execution_count": 3,
     "metadata": {},
     "output_type": "execute_result"
    }
   ],
   "source": [
    "df=pd.read_csv(\"/content/Dataset_10 - Advertising.csv\")\n",
    "df.head()"
   ]
  },
  {
   "cell_type": "markdown",
   "metadata": {
    "id": "BwCjnHt4oHES"
   },
   "source": [
    "**Data:**\n",
    "\n",
    "1.) ad_id: angka unik untuk setiap ad yang diluncurkan.\n",
    "\n",
    "2.) xyzcampaignid: ID yang terkait pada setiap campaign dari tiga perusahaan XYZ.\n",
    "\n",
    "3.) fbcampaignid: ID yang menunjukkan bagaimana Facebook melacak setiap campaign. ID ini digunakan oleh sistem di Facebook untuk mengelompokkan setiap konten yang diunggah.\n",
    "\n",
    "4.) age: umur seseorang yang menerima iklan tersebut.\n",
    "\n",
    "5.) gender: jenis kelamin seseorang yang menerima iklan tersebut\n",
    "\n",
    "6.) interest: jumlah akun FB yang profilenya sesuai dengan campaign iklan tersebut.\n",
    "\n",
    "7.) Impressions: : berapa kali iklan ditampilkan.\n",
    "\n",
    "8.) Clicks: jumlah klik terhadap iklan tersebut.\n",
    "\n",
    "9.) Spent:  jumlah yang dibayarkan perusahaan kepada fb ad.\n",
    "\n",
    "10.) Total conversion:  jumlah total orang yang bertanya tentang produk setelah melihat iklan.\n",
    "\n",
    "11.) Approved conversion: jumlah total orang yang membeli produk setelah melihat iklan."
   ]
  },
  {
   "cell_type": "markdown",
   "metadata": {
    "id": "h2wFzHyVnzFO"
   },
   "source": [
    "## Business Problem"
   ]
  },
  {
   "cell_type": "markdown",
   "metadata": {
    "id": "c9_FVEXzp_5h"
   },
   "source": [
    "\n",
    "\n",
    "1.  Bagaimana agar perusahaan bisa memanfaatkan FB Ads dengan maksimal?\n",
    "2.  Bagaimana cara untuk memprediksi jumlah penjualan dan menentukan peubah yang paling berpengaruh terhadap penjualan?\n",
    "\n"
   ]
  },
  {
   "cell_type": "markdown",
   "metadata": {
    "id": "E0idwjsQm4Ew"
   },
   "source": [
    "# Data Preparation"
   ]
  },
  {
   "cell_type": "markdown",
   "metadata": {
    "id": "dOc7W_EiqhCd"
   },
   "source": [
    "## Check Missing Value"
   ]
  },
  {
   "cell_type": "code",
   "execution_count": 4,
   "metadata": {
    "colab": {
     "base_uri": "https://localhost:8080/"
    },
    "executionInfo": {
     "elapsed": 603,
     "status": "ok",
     "timestamp": 1638778817576,
     "user": {
      "displayName": "006_Berryl Bagas",
      "photoUrl": "https://lh3.googleusercontent.com/a-/AOh14GiDZMNEtuSWWuS-fsix3MeuvW88AemkkLEu8OFTyg=s64",
      "userId": "09798621404980976797"
     },
     "user_tz": -420
    },
    "id": "fyQU50vuqsho",
    "outputId": "a5157cc8-0c79-43ff-d6dc-0d1d985ff725"
   },
   "outputs": [
    {
     "data": {
      "text/plain": [
       "ad_id                  0\n",
       "xyz_campaign_id        0\n",
       "fb_campaign_id         0\n",
       "age                    0\n",
       "gender                 0\n",
       "interest               0\n",
       "Impressions            0\n",
       "Clicks                 0\n",
       "Spent                  0\n",
       "Total_Conversion       0\n",
       "Approved_Conversion    0\n",
       "dtype: int64"
      ]
     },
     "execution_count": 4,
     "metadata": {},
     "output_type": "execute_result"
    }
   ],
   "source": [
    "df.isnull().sum(axis=0)"
   ]
  },
  {
   "cell_type": "markdown",
   "metadata": {
    "id": "7iulE5Dkqtie"
   },
   "source": [
    "Tidak ada missing value pada dataset ini."
   ]
  },
  {
   "cell_type": "markdown",
   "metadata": {
    "id": "2JXunQYPqkvi"
   },
   "source": [
    "## Check Datatype"
   ]
  },
  {
   "cell_type": "code",
   "execution_count": 5,
   "metadata": {
    "colab": {
     "base_uri": "https://localhost:8080/"
    },
    "executionInfo": {
     "elapsed": 26,
     "status": "ok",
     "timestamp": 1638778822754,
     "user": {
      "displayName": "006_Berryl Bagas",
      "photoUrl": "https://lh3.googleusercontent.com/a-/AOh14GiDZMNEtuSWWuS-fsix3MeuvW88AemkkLEu8OFTyg=s64",
      "userId": "09798621404980976797"
     },
     "user_tz": -420
    },
    "id": "6z60AfbAq5bY",
    "outputId": "3857ad3e-b8e1-4a5f-f242-5fb8ad693846"
   },
   "outputs": [
    {
     "name": "stdout",
     "output_type": "stream",
     "text": [
      "<class 'pandas.core.frame.DataFrame'>\n",
      "RangeIndex: 1143 entries, 0 to 1142\n",
      "Data columns (total 11 columns):\n",
      " #   Column               Non-Null Count  Dtype  \n",
      "---  ------               --------------  -----  \n",
      " 0   ad_id                1143 non-null   int64  \n",
      " 1   xyz_campaign_id      1143 non-null   int64  \n",
      " 2   fb_campaign_id       1143 non-null   int64  \n",
      " 3   age                  1143 non-null   object \n",
      " 4   gender               1143 non-null   object \n",
      " 5   interest             1143 non-null   int64  \n",
      " 6   Impressions          1143 non-null   int64  \n",
      " 7   Clicks               1143 non-null   int64  \n",
      " 8   Spent                1143 non-null   float64\n",
      " 9   Total_Conversion     1143 non-null   int64  \n",
      " 10  Approved_Conversion  1143 non-null   int64  \n",
      "dtypes: float64(1), int64(8), object(2)\n",
      "memory usage: 98.4+ KB\n"
     ]
    }
   ],
   "source": [
    "df.info()"
   ]
  },
  {
   "cell_type": "markdown",
   "metadata": {
    "id": "X485OMW-q6MS"
   },
   "source": [
    "Masih ada beberapa peubah yang memiliki type data object, maka harus diubah ke tipe data numerik atau kategori"
   ]
  },
  {
   "cell_type": "code",
   "execution_count": 6,
   "metadata": {
    "colab": {
     "base_uri": "https://localhost:8080/"
    },
    "executionInfo": {
     "elapsed": 56,
     "status": "ok",
     "timestamp": 1638778828050,
     "user": {
      "displayName": "006_Berryl Bagas",
      "photoUrl": "https://lh3.googleusercontent.com/a-/AOh14GiDZMNEtuSWWuS-fsix3MeuvW88AemkkLEu8OFTyg=s64",
      "userId": "09798621404980976797"
     },
     "user_tz": -420
    },
    "id": "A3zZR9BNrE0n",
    "outputId": "11b3a57c-b75c-40f1-ef8b-e0dc285033d1"
   },
   "outputs": [
    {
     "name": "stdout",
     "output_type": "stream",
     "text": [
      "<class 'pandas.core.frame.DataFrame'>\n",
      "RangeIndex: 1143 entries, 0 to 1142\n",
      "Data columns (total 11 columns):\n",
      " #   Column               Non-Null Count  Dtype   \n",
      "---  ------               --------------  -----   \n",
      " 0   ad_id                1143 non-null   category\n",
      " 1   xyz_campaign_id      1143 non-null   category\n",
      " 2   fb_campaign_id       1143 non-null   category\n",
      " 3   age                  1143 non-null   category\n",
      " 4   gender               1143 non-null   category\n",
      " 5   interest             1143 non-null   int64   \n",
      " 6   Impressions          1143 non-null   int64   \n",
      " 7   Clicks               1143 non-null   int64   \n",
      " 8   Spent                1143 non-null   float64 \n",
      " 9   Total_Conversion     1143 non-null   int64   \n",
      " 10  Approved_Conversion  1143 non-null   int64   \n",
      "dtypes: category(5), float64(1), int64(5)\n",
      "memory usage: 136.2 KB\n"
     ]
    }
   ],
   "source": [
    "def data_types(data):\n",
    "  nominal = ['ad_id','xyz_campaign_id','fb_campaign_id','gender']\n",
    "  ordinal = ['age']\n",
    "  numeric =  ['interest','Impressions','Clicks','Spent' ,'Total_Conversion','Approved_Conversion']\n",
    "\n",
    "  #convert\n",
    "  data[nominal] = data[nominal].astype( 'category')\n",
    "  data[ordinal] = data[ordinal].astype(  'category')\n",
    "\n",
    "\n",
    "  return data\n",
    "\n",
    "df = data_types(df)\n",
    "df.info()"
   ]
  },
  {
   "cell_type": "markdown",
   "metadata": {
    "id": "P96n8qi7rK-p"
   },
   "source": [
    "Data siap digunakan untuk EDA"
   ]
  },
  {
   "cell_type": "markdown",
   "metadata": {
    "id": "4hwsH3Cnm7-M"
   },
   "source": [
    "# Exploratory Data Analysis"
   ]
  },
  {
   "cell_type": "markdown",
   "metadata": {
    "id": "L-KTIS08rexN"
   },
   "source": [
    "## Data Describe"
   ]
  },
  {
   "cell_type": "code",
   "execution_count": null,
   "metadata": {
    "colab": {
     "base_uri": "https://localhost:8080/",
     "height": 300
    },
    "executionInfo": {
     "elapsed": 125,
     "status": "ok",
     "timestamp": 1638760122978,
     "user": {
      "displayName": "006_Berryl Bagas",
      "photoUrl": "https://lh3.googleusercontent.com/a-/AOh14GiDZMNEtuSWWuS-fsix3MeuvW88AemkkLEu8OFTyg=s64",
      "userId": "09798621404980976797"
     },
     "user_tz": -420
    },
    "id": "mUIgMoRbrimf",
    "outputId": "7df55246-9d0d-4149-b0e1-cb6f86135f16"
   },
   "outputs": [
    {
     "data": {
      "text/html": [
       "<div>\n",
       "<style scoped>\n",
       "    .dataframe tbody tr th:only-of-type {\n",
       "        vertical-align: middle;\n",
       "    }\n",
       "\n",
       "    .dataframe tbody tr th {\n",
       "        vertical-align: top;\n",
       "    }\n",
       "\n",
       "    .dataframe thead th {\n",
       "        text-align: right;\n",
       "    }\n",
       "</style>\n",
       "<table border=\"1\" class=\"dataframe\">\n",
       "  <thead>\n",
       "    <tr style=\"text-align: right;\">\n",
       "      <th></th>\n",
       "      <th>interest</th>\n",
       "      <th>Impressions</th>\n",
       "      <th>Clicks</th>\n",
       "      <th>Spent</th>\n",
       "      <th>Total_Conversion</th>\n",
       "      <th>Approved_Conversion</th>\n",
       "    </tr>\n",
       "  </thead>\n",
       "  <tbody>\n",
       "    <tr>\n",
       "      <th>count</th>\n",
       "      <td>1143.000000</td>\n",
       "      <td>1.143000e+03</td>\n",
       "      <td>1143.000000</td>\n",
       "      <td>1143.000000</td>\n",
       "      <td>1143.000000</td>\n",
       "      <td>1143.000000</td>\n",
       "    </tr>\n",
       "    <tr>\n",
       "      <th>mean</th>\n",
       "      <td>32.766404</td>\n",
       "      <td>1.867321e+05</td>\n",
       "      <td>33.390201</td>\n",
       "      <td>51.360656</td>\n",
       "      <td>2.855643</td>\n",
       "      <td>0.944007</td>\n",
       "    </tr>\n",
       "    <tr>\n",
       "      <th>std</th>\n",
       "      <td>26.952131</td>\n",
       "      <td>3.127622e+05</td>\n",
       "      <td>56.892438</td>\n",
       "      <td>86.908418</td>\n",
       "      <td>4.483593</td>\n",
       "      <td>1.737708</td>\n",
       "    </tr>\n",
       "    <tr>\n",
       "      <th>min</th>\n",
       "      <td>2.000000</td>\n",
       "      <td>8.700000e+01</td>\n",
       "      <td>0.000000</td>\n",
       "      <td>0.000000</td>\n",
       "      <td>0.000000</td>\n",
       "      <td>0.000000</td>\n",
       "    </tr>\n",
       "    <tr>\n",
       "      <th>25%</th>\n",
       "      <td>16.000000</td>\n",
       "      <td>6.503500e+03</td>\n",
       "      <td>1.000000</td>\n",
       "      <td>1.480000</td>\n",
       "      <td>1.000000</td>\n",
       "      <td>0.000000</td>\n",
       "    </tr>\n",
       "    <tr>\n",
       "      <th>50%</th>\n",
       "      <td>25.000000</td>\n",
       "      <td>5.150900e+04</td>\n",
       "      <td>8.000000</td>\n",
       "      <td>12.370000</td>\n",
       "      <td>1.000000</td>\n",
       "      <td>1.000000</td>\n",
       "    </tr>\n",
       "    <tr>\n",
       "      <th>75%</th>\n",
       "      <td>31.000000</td>\n",
       "      <td>2.217690e+05</td>\n",
       "      <td>37.500000</td>\n",
       "      <td>60.025000</td>\n",
       "      <td>3.000000</td>\n",
       "      <td>1.000000</td>\n",
       "    </tr>\n",
       "    <tr>\n",
       "      <th>max</th>\n",
       "      <td>114.000000</td>\n",
       "      <td>3.052003e+06</td>\n",
       "      <td>421.000000</td>\n",
       "      <td>639.949998</td>\n",
       "      <td>60.000000</td>\n",
       "      <td>21.000000</td>\n",
       "    </tr>\n",
       "  </tbody>\n",
       "</table>\n",
       "</div>"
      ],
      "text/plain": [
       "          interest   Impressions  ...  Total_Conversion  Approved_Conversion\n",
       "count  1143.000000  1.143000e+03  ...       1143.000000          1143.000000\n",
       "mean     32.766404  1.867321e+05  ...          2.855643             0.944007\n",
       "std      26.952131  3.127622e+05  ...          4.483593             1.737708\n",
       "min       2.000000  8.700000e+01  ...          0.000000             0.000000\n",
       "25%      16.000000  6.503500e+03  ...          1.000000             0.000000\n",
       "50%      25.000000  5.150900e+04  ...          1.000000             1.000000\n",
       "75%      31.000000  2.217690e+05  ...          3.000000             1.000000\n",
       "max     114.000000  3.052003e+06  ...         60.000000            21.000000\n",
       "\n",
       "[8 rows x 6 columns]"
      ]
     },
     "execution_count": 6,
     "metadata": {},
     "output_type": "execute_result"
    }
   ],
   "source": [
    "df.describe()"
   ]
  },
  {
   "cell_type": "markdown",
   "metadata": {
    "id": "olBX3qO7rq0L"
   },
   "source": [
    "## Approved Conversion"
   ]
  },
  {
   "cell_type": "code",
   "execution_count": null,
   "metadata": {
    "colab": {
     "base_uri": "https://localhost:8080/",
     "height": 313
    },
    "executionInfo": {
     "elapsed": 629,
     "status": "ok",
     "timestamp": 1638760128365,
     "user": {
      "displayName": "006_Berryl Bagas",
      "photoUrl": "https://lh3.googleusercontent.com/a-/AOh14GiDZMNEtuSWWuS-fsix3MeuvW88AemkkLEu8OFTyg=s64",
      "userId": "09798621404980976797"
     },
     "user_tz": -420
    },
    "id": "KJ5bCPBFr_CM",
    "outputId": "a3b8caf1-7906-4175-9d15-9f28358a595e"
   },
   "outputs": [
    {
     "data": {
      "text/plain": [
       "Text(0.5, 1.0, 'Boxplot of APPROVED CONVERSION')"
      ]
     },
     "execution_count": 7,
     "metadata": {},
     "output_type": "execute_result"
    },
    {
     "data": {
      "image/png": "[encoded data removed]",
      "text/plain": [
       "<Figure size 432x288 with 1 Axes>"
      ]
     },
     "metadata": {
      "needs_background": "light"
     },
     "output_type": "display_data"
    }
   ],
   "source": [
    "box = sns.boxplot(data=df, x='Approved_Conversion')\n",
    "box.set_title('Boxplot of APPROVED CONVERSION')"
   ]
  },
  {
   "cell_type": "code",
   "execution_count": null,
   "metadata": {
    "colab": {
     "base_uri": "https://localhost:8080/",
     "height": 390
    },
    "executionInfo": {
     "elapsed": 631,
     "status": "ok",
     "timestamp": 1638760132263,
     "user": {
      "displayName": "006_Berryl Bagas",
      "photoUrl": "https://lh3.googleusercontent.com/a-/AOh14GiDZMNEtuSWWuS-fsix3MeuvW88AemkkLEu8OFTyg=s64",
      "userId": "09798621404980976797"
     },
     "user_tz": -420
    },
    "id": "lrMtGRmDsLor",
    "outputId": "3e0ba8ae-b76c-43ce-d0b1-e3e55a5a986c"
   },
   "outputs": [
    {
     "name": "stderr",
     "output_type": "stream",
     "text": [
      "/usr/local/lib/python3.7/dist-packages/seaborn/distributions.py:2619: FutureWarning: `distplot` is a deprecated function and will be removed in a future version. Please adapt your code to use either `displot` (a figure-level function with similar flexibility) or `histplot` (an axes-level function for histograms).\n",
      "  warnings.warn(msg, FutureWarning)\n"
     ]
    },
    {
     "data": {
      "image/png": "[encoded data removed]",
      "text/plain": [
       "<Figure size 576x360 with 1 Axes>"
      ]
     },
     "metadata": {
      "needs_background": "light"
     },
     "output_type": "display_data"
    }
   ],
   "source": [
    "plt.figure(figsize=(8,5))\n",
    "sns.distplot(df['Approved_Conversion'])\n",
    "plt.show()"
   ]
  },
  {
   "cell_type": "markdown",
   "metadata": {
    "id": "C1kdBWU5tz35"
   },
   "source": [
    "Dari kedua grafik di atas, dapat kita lihat bahwa approved conversion merupakan data diskrit dan sebarannya mirip dengan poisson distribution."
   ]
  },
  {
   "cell_type": "markdown",
   "metadata": {
    "id": "9LzwyGEvszZS"
   },
   "source": [
    "## FB Ads Condition"
   ]
  },
  {
   "cell_type": "markdown",
   "metadata": {
    "id": "vIoPgXZLtAzj"
   },
   "source": [
    "### Age"
   ]
  },
  {
   "cell_type": "code",
   "execution_count": null,
   "metadata": {
    "colab": {
     "base_uri": "https://localhost:8080/",
     "height": 175
    },
    "executionInfo": {
     "elapsed": 537,
     "status": "ok",
     "timestamp": 1638760199441,
     "user": {
      "displayName": "006_Berryl Bagas",
      "photoUrl": "https://lh3.googleusercontent.com/a-/AOh14GiDZMNEtuSWWuS-fsix3MeuvW88AemkkLEu8OFTyg=s64",
      "userId": "09798621404980976797"
     },
     "user_tz": -420
    },
    "id": "G0C9OlRTs3CJ",
    "outputId": "18b0248f-6c7f-46f9-fb3e-edbfe2e22b60"
   },
   "outputs": [
    {
     "data": {
      "text/html": [
       "<div>\n",
       "<style scoped>\n",
       "    .dataframe tbody tr th:only-of-type {\n",
       "        vertical-align: middle;\n",
       "    }\n",
       "\n",
       "    .dataframe tbody tr th {\n",
       "        vertical-align: top;\n",
       "    }\n",
       "\n",
       "    .dataframe thead th {\n",
       "        text-align: right;\n",
       "    }\n",
       "</style>\n",
       "<table border=\"1\" class=\"dataframe\">\n",
       "  <thead>\n",
       "    <tr style=\"text-align: right;\">\n",
       "      <th></th>\n",
       "      <th>age</th>\n",
       "      <th>Approved_Conversion</th>\n",
       "    </tr>\n",
       "  </thead>\n",
       "  <tbody>\n",
       "    <tr>\n",
       "      <th>0</th>\n",
       "      <td>30-34</td>\n",
       "      <td>494</td>\n",
       "    </tr>\n",
       "    <tr>\n",
       "      <th>1</th>\n",
       "      <td>35-39</td>\n",
       "      <td>207</td>\n",
       "    </tr>\n",
       "    <tr>\n",
       "      <th>2</th>\n",
       "      <td>40-44</td>\n",
       "      <td>170</td>\n",
       "    </tr>\n",
       "    <tr>\n",
       "      <th>3</th>\n",
       "      <td>45-49</td>\n",
       "      <td>208</td>\n",
       "    </tr>\n",
       "  </tbody>\n",
       "</table>\n",
       "</div>"
      ],
      "text/plain": [
       "     age  Approved_Conversion\n",
       "0  30-34                  494\n",
       "1  35-39                  207\n",
       "2  40-44                  170\n",
       "3  45-49                  208"
      ]
     },
     "execution_count": 9,
     "metadata": {},
     "output_type": "execute_result"
    }
   ],
   "source": [
    "df.groupby(['age']).agg({'Approved_Conversion':'sum'}).reset_index()"
   ]
  },
  {
   "cell_type": "code",
   "execution_count": null,
   "metadata": {
    "colab": {
     "base_uri": "https://localhost:8080/",
     "height": 225
    },
    "executionInfo": {
     "elapsed": 1114,
     "status": "ok",
     "timestamp": 1638760203542,
     "user": {
      "displayName": "006_Berryl Bagas",
      "photoUrl": "https://lh3.googleusercontent.com/a-/AOh14GiDZMNEtuSWWuS-fsix3MeuvW88AemkkLEu8OFTyg=s64",
      "userId": "09798621404980976797"
     },
     "user_tz": -420
    },
    "id": "AO6X3sPptHJ5",
    "outputId": "08aadf11-a4a6-426b-d367-1132a77461d3"
   },
   "outputs": [
    {
     "data": {
      "image/png": "[encoded data removed]",
      "text/plain": [
       "<Figure size 872x216 with 4 Axes>"
      ]
     },
     "metadata": {
      "needs_background": "light"
     },
     "output_type": "display_data"
    }
   ],
   "source": [
    "ax = sns.FacetGrid(df, col=\"age\")\n",
    "ax.map(plt.scatter, \"Clicks\", \"Approved_Conversion\", alpha=.4)\n",
    "ax.add_legend();"
   ]
  },
  {
   "cell_type": "markdown",
   "metadata": {
    "id": "AzIC6wpbuFLO"
   },
   "source": [
    "Customer yang berumur 30-34 tahun memiliki kecendrungan lebih untuk membeli produk setelah menonton campaign. Total pembelian produk oleh customer yang berumur 30-34 yaitu 494 buah."
   ]
  },
  {
   "cell_type": "markdown",
   "metadata": {
    "id": "3SgXAssetNJQ"
   },
   "source": [
    "### Gender"
   ]
  },
  {
   "cell_type": "code",
   "execution_count": null,
   "metadata": {
    "colab": {
     "base_uri": "https://localhost:8080/",
     "height": 112
    },
    "executionInfo": {
     "elapsed": 878,
     "status": "ok",
     "timestamp": 1638760299616,
     "user": {
      "displayName": "006_Berryl Bagas",
      "photoUrl": "https://lh3.googleusercontent.com/a-/AOh14GiDZMNEtuSWWuS-fsix3MeuvW88AemkkLEu8OFTyg=s64",
      "userId": "09798621404980976797"
     },
     "user_tz": -420
    },
    "id": "ume4NJm-tP2j",
    "outputId": "89b4a12f-a069-43a5-a1c0-0146a1809034"
   },
   "outputs": [
    {
     "data": {
      "text/html": [
       "<div>\n",
       "<style scoped>\n",
       "    .dataframe tbody tr th:only-of-type {\n",
       "        vertical-align: middle;\n",
       "    }\n",
       "\n",
       "    .dataframe tbody tr th {\n",
       "        vertical-align: top;\n",
       "    }\n",
       "\n",
       "    .dataframe thead th {\n",
       "        text-align: right;\n",
       "    }\n",
       "</style>\n",
       "<table border=\"1\" class=\"dataframe\">\n",
       "  <thead>\n",
       "    <tr style=\"text-align: right;\">\n",
       "      <th></th>\n",
       "      <th>gender</th>\n",
       "      <th>Approved_Conversion</th>\n",
       "    </tr>\n",
       "  </thead>\n",
       "  <tbody>\n",
       "    <tr>\n",
       "      <th>0</th>\n",
       "      <td>F</td>\n",
       "      <td>495</td>\n",
       "    </tr>\n",
       "    <tr>\n",
       "      <th>1</th>\n",
       "      <td>M</td>\n",
       "      <td>584</td>\n",
       "    </tr>\n",
       "  </tbody>\n",
       "</table>\n",
       "</div>"
      ],
      "text/plain": [
       "  gender  Approved_Conversion\n",
       "0      F                  495\n",
       "1      M                  584"
      ]
     },
     "execution_count": 11,
     "metadata": {},
     "output_type": "execute_result"
    }
   ],
   "source": [
    "df.groupby(['gender']).agg({'Approved_Conversion':'sum'}).reset_index()"
   ]
  },
  {
   "cell_type": "code",
   "execution_count": null,
   "metadata": {
    "colab": {
     "base_uri": "https://localhost:8080/",
     "height": 225
    },
    "executionInfo": {
     "elapsed": 557,
     "status": "ok",
     "timestamp": 1638760303341,
     "user": {
      "displayName": "006_Berryl Bagas",
      "photoUrl": "https://lh3.googleusercontent.com/a-/AOh14GiDZMNEtuSWWuS-fsix3MeuvW88AemkkLEu8OFTyg=s64",
      "userId": "09798621404980976797"
     },
     "user_tz": -420
    },
    "id": "ZQNmhKvWtUJK",
    "outputId": "47da6bd0-b963-430a-c1e4-534e90ba5145"
   },
   "outputs": [
    {
     "data": {
      "image/png": "[encoded data removed]",
      "text/plain": [
       "<Figure size 440x216 with 2 Axes>"
      ]
     },
     "metadata": {
      "needs_background": "light"
     },
     "output_type": "display_data"
    }
   ],
   "source": [
    "ax = sns.FacetGrid(df, col=\"gender\")\n",
    "ax.map(plt.scatter, \"Clicks\", \"Approved_Conversion\", alpha=.4)\n",
    "ax.add_legend();"
   ]
  },
  {
   "cell_type": "markdown",
   "metadata": {
    "id": "fyu_hTMiueak"
   },
   "source": [
    "Tidak ada perbedaan jauh jumlah pembelian antara pria dan wanita, namun wanita cendrung lebih banyak melakukan clicks dibandingkan pria."
   ]
  },
  {
   "cell_type": "markdown",
   "metadata": {
    "id": "FOuDi5thsa6S"
   },
   "source": [
    "## Correlations"
   ]
  },
  {
   "cell_type": "code",
   "execution_count": null,
   "metadata": {
    "colab": {
     "base_uri": "https://localhost:8080/",
     "height": 690
    },
    "executionInfo": {
     "elapsed": 752,
     "status": "ok",
     "timestamp": 1638760371610,
     "user": {
      "displayName": "006_Berryl Bagas",
      "photoUrl": "https://lh3.googleusercontent.com/a-/AOh14GiDZMNEtuSWWuS-fsix3MeuvW88AemkkLEu8OFTyg=s64",
      "userId": "09798621404980976797"
     },
     "user_tz": -420
    },
    "id": "OdcxwzqMseC4",
    "outputId": "31ea5a25-6b76-4370-984f-12cc8c56f324"
   },
   "outputs": [
    {
     "data": {
      "image/png": "[encoded data removed]",
      "text/plain": [
       "<Figure size 1296x720 with 2 Axes>"
      ]
     },
     "metadata": {},
     "output_type": "display_data"
    }
   ],
   "source": [
    "corr = df.corr()\n",
    "\n",
    "mask = np.zeros_like(corr)\n",
    "mask[np.triu_indices_from(mask)]=True\n",
    "with sns.axes_style('white'):\n",
    "    fig, ax = plt.subplots(figsize=(18,10))\n",
    "    sns.heatmap(corr,  mask=mask, annot=True, cmap='coolwarm', center=0, square=True)"
   ]
  },
  {
   "cell_type": "markdown",
   "metadata": {
    "id": "hAjBqINGuxp-"
   },
   "source": [
    "Dapat kita lihat ada beberapa peubah yang memiliki korelasi kuat, salah satunya spent dengan click memberikan nilai korelasi 0.99 yang artinya kedua peubah tersebut memiliki hubungan kausalitas dan harus dikeluarkan dari model nantinya."
   ]
  },
  {
   "cell_type": "code",
   "execution_count": null,
   "metadata": {
    "colab": {
     "base_uri": "https://localhost:8080/",
     "height": 1000
    },
    "executionInfo": {
     "elapsed": 11421,
     "status": "ok",
     "timestamp": 1638760389901,
     "user": {
      "displayName": "006_Berryl Bagas",
      "photoUrl": "https://lh3.googleusercontent.com/a-/AOh14GiDZMNEtuSWWuS-fsix3MeuvW88AemkkLEu8OFTyg=s64",
      "userId": "09798621404980976797"
     },
     "user_tz": -420
    },
    "id": "0xgpGk5zsgR_",
    "outputId": "9469aeb4-56d2-4353-d8e7-7123838e42c9"
   },
   "outputs": [
    {
     "data": {
      "text/plain": [
       "Text(0.5, 0.95, 'Relationship between numerical features')"
      ]
     },
     "execution_count": 14,
     "metadata": {},
     "output_type": "execute_result"
    },
    {
     "data": {
      "image/png": "[encoded data removed]",
      "text/plain": [
       "<Figure size 1080x1080 with 27 Axes>"
      ]
     },
     "metadata": {
      "needs_background": "light"
     },
     "output_type": "display_data"
    }
   ],
   "source": [
    "sns.pairplot(df, corner=True)\n",
    "plt.suptitle(\"Relationship between numerical features\", x=0.5 ,y=0.95, size=18, weight='bold')"
   ]
  },
  {
   "cell_type": "markdown",
   "metadata": {
    "id": "RCZmEyxhvHDq"
   },
   "source": [
    "Dapat kita lihat dari scatterplot di atas, peubah Approved_Conversion ternyata memiliki hubungan linear yang kuat dengan Total_Conversion."
   ]
  },
  {
   "cell_type": "markdown",
   "metadata": {
    "id": "iGjGOJz8nA2J"
   },
   "source": [
    "# Data Preprocessing"
   ]
  },
  {
   "cell_type": "markdown",
   "metadata": {
    "id": "-cWEwsO_vp7h"
   },
   "source": [
    "## Encoder"
   ]
  },
  {
   "cell_type": "code",
   "execution_count": 7,
   "metadata": {
    "colab": {
     "base_uri": "https://localhost:8080/",
     "height": 206
    },
    "executionInfo": {
     "elapsed": 1050,
     "status": "ok",
     "timestamp": 1638778842118,
     "user": {
      "displayName": "006_Berryl Bagas",
      "photoUrl": "https://lh3.googleusercontent.com/a-/AOh14GiDZMNEtuSWWuS-fsix3MeuvW88AemkkLEu8OFTyg=s64",
      "userId": "09798621404980976797"
     },
     "user_tz": -420
    },
    "id": "IjaU1eMIv1Qi",
    "outputId": "6a1a0c6e-fb2d-439d-9047-a6aa25e5efdc"
   },
   "outputs": [
    {
     "data": {
      "text/html": [
       "<div>\n",
       "<style scoped>\n",
       "    .dataframe tbody tr th:only-of-type {\n",
       "        vertical-align: middle;\n",
       "    }\n",
       "\n",
       "    .dataframe tbody tr th {\n",
       "        vertical-align: top;\n",
       "    }\n",
       "\n",
       "    .dataframe thead th {\n",
       "        text-align: right;\n",
       "    }\n",
       "</style>\n",
       "<table border=\"1\" class=\"dataframe\">\n",
       "  <thead>\n",
       "    <tr style=\"text-align: right;\">\n",
       "      <th></th>\n",
       "      <th>ad_id</th>\n",
       "      <th>xyz_campaign_id</th>\n",
       "      <th>fb_campaign_id</th>\n",
       "      <th>age</th>\n",
       "      <th>interest</th>\n",
       "      <th>Impressions</th>\n",
       "      <th>Clicks</th>\n",
       "      <th>Spent</th>\n",
       "      <th>Total_Conversion</th>\n",
       "      <th>Approved_Conversion</th>\n",
       "      <th>F</th>\n",
       "      <th>M</th>\n",
       "    </tr>\n",
       "  </thead>\n",
       "  <tbody>\n",
       "    <tr>\n",
       "      <th>0</th>\n",
       "      <td>708746</td>\n",
       "      <td>916</td>\n",
       "      <td>103916</td>\n",
       "      <td>1</td>\n",
       "      <td>15</td>\n",
       "      <td>7350</td>\n",
       "      <td>1</td>\n",
       "      <td>1.43</td>\n",
       "      <td>2</td>\n",
       "      <td>1</td>\n",
       "      <td>0</td>\n",
       "      <td>1</td>\n",
       "    </tr>\n",
       "    <tr>\n",
       "      <th>1</th>\n",
       "      <td>708749</td>\n",
       "      <td>916</td>\n",
       "      <td>103917</td>\n",
       "      <td>1</td>\n",
       "      <td>16</td>\n",
       "      <td>17861</td>\n",
       "      <td>2</td>\n",
       "      <td>1.82</td>\n",
       "      <td>2</td>\n",
       "      <td>0</td>\n",
       "      <td>0</td>\n",
       "      <td>1</td>\n",
       "    </tr>\n",
       "    <tr>\n",
       "      <th>2</th>\n",
       "      <td>708771</td>\n",
       "      <td>916</td>\n",
       "      <td>103920</td>\n",
       "      <td>1</td>\n",
       "      <td>20</td>\n",
       "      <td>693</td>\n",
       "      <td>0</td>\n",
       "      <td>0.00</td>\n",
       "      <td>1</td>\n",
       "      <td>0</td>\n",
       "      <td>0</td>\n",
       "      <td>1</td>\n",
       "    </tr>\n",
       "    <tr>\n",
       "      <th>3</th>\n",
       "      <td>708815</td>\n",
       "      <td>916</td>\n",
       "      <td>103928</td>\n",
       "      <td>1</td>\n",
       "      <td>28</td>\n",
       "      <td>4259</td>\n",
       "      <td>1</td>\n",
       "      <td>1.25</td>\n",
       "      <td>1</td>\n",
       "      <td>0</td>\n",
       "      <td>0</td>\n",
       "      <td>1</td>\n",
       "    </tr>\n",
       "    <tr>\n",
       "      <th>4</th>\n",
       "      <td>708818</td>\n",
       "      <td>916</td>\n",
       "      <td>103928</td>\n",
       "      <td>1</td>\n",
       "      <td>28</td>\n",
       "      <td>4133</td>\n",
       "      <td>1</td>\n",
       "      <td>1.29</td>\n",
       "      <td>1</td>\n",
       "      <td>1</td>\n",
       "      <td>0</td>\n",
       "      <td>1</td>\n",
       "    </tr>\n",
       "  </tbody>\n",
       "</table>\n",
       "</div>"
      ],
      "text/plain": [
       "    ad_id xyz_campaign_id fb_campaign_id  ... Approved_Conversion  F  M\n",
       "0  708746             916         103916  ...                   1  0  1\n",
       "1  708749             916         103917  ...                   0  0  1\n",
       "2  708771             916         103920  ...                   0  0  1\n",
       "3  708815             916         103928  ...                   0  0  1\n",
       "4  708818             916         103928  ...                   1  0  1\n",
       "\n",
       "[5 rows x 12 columns]"
      ]
     },
     "execution_count": 7,
     "metadata": {},
     "output_type": "execute_result"
    }
   ],
   "source": [
    "def handling_preprocessing(data):\n",
    "  # age (ordinal)\n",
    "  labelAge = {'30-34':1, '35-39':2, '40-44':3, '45-49':4}\n",
    "  data['age'] = data['age'].map(labelAge)\n",
    "\n",
    "  # gender (nominal)\n",
    "  data = pd.get_dummies(data, columns=['gender'], prefix='', prefix_sep='')\n",
    "\n",
    "  return data\n",
    "df = handling_preprocessing(df)\n",
    "df.head()"
   ]
  },
  {
   "cell_type": "markdown",
   "metadata": {
    "id": "1dw6ugvEwK71"
   },
   "source": [
    "## Rename Column"
   ]
  },
  {
   "cell_type": "code",
   "execution_count": 8,
   "metadata": {
    "colab": {
     "base_uri": "https://localhost:8080/",
     "height": 81
    },
    "executionInfo": {
     "elapsed": 666,
     "status": "ok",
     "timestamp": 1638778846899,
     "user": {
      "displayName": "006_Berryl Bagas",
      "photoUrl": "https://lh3.googleusercontent.com/a-/AOh14GiDZMNEtuSWWuS-fsix3MeuvW88AemkkLEu8OFTyg=s64",
      "userId": "09798621404980976797"
     },
     "user_tz": -420
    },
    "id": "-sr9Z20QwOQB",
    "outputId": "06faa262-ca2a-436d-d891-a05f19a26f2f"
   },
   "outputs": [
    {
     "data": {
      "text/html": [
       "<div>\n",
       "<style scoped>\n",
       "    .dataframe tbody tr th:only-of-type {\n",
       "        vertical-align: middle;\n",
       "    }\n",
       "\n",
       "    .dataframe tbody tr th {\n",
       "        vertical-align: top;\n",
       "    }\n",
       "\n",
       "    .dataframe thead th {\n",
       "        text-align: right;\n",
       "    }\n",
       "</style>\n",
       "<table border=\"1\" class=\"dataframe\">\n",
       "  <thead>\n",
       "    <tr style=\"text-align: right;\">\n",
       "      <th></th>\n",
       "      <th>ad_id</th>\n",
       "      <th>xyz_campaign_id</th>\n",
       "      <th>fb_campaign_id</th>\n",
       "      <th>age</th>\n",
       "      <th>interest</th>\n",
       "      <th>Impressions</th>\n",
       "      <th>Clicks</th>\n",
       "      <th>Spent</th>\n",
       "      <th>Total_Conversion</th>\n",
       "      <th>Approved_Conversion</th>\n",
       "      <th>Female</th>\n",
       "      <th>Male</th>\n",
       "    </tr>\n",
       "  </thead>\n",
       "  <tbody>\n",
       "    <tr>\n",
       "      <th>0</th>\n",
       "      <td>708746</td>\n",
       "      <td>916</td>\n",
       "      <td>103916</td>\n",
       "      <td>1</td>\n",
       "      <td>15</td>\n",
       "      <td>7350</td>\n",
       "      <td>1</td>\n",
       "      <td>1.43</td>\n",
       "      <td>2</td>\n",
       "      <td>1</td>\n",
       "      <td>0</td>\n",
       "      <td>1</td>\n",
       "    </tr>\n",
       "  </tbody>\n",
       "</table>\n",
       "</div>"
      ],
      "text/plain": [
       "    ad_id xyz_campaign_id fb_campaign_id  ... Approved_Conversion  Female  Male\n",
       "0  708746             916         103916  ...                   1       0     1\n",
       "\n",
       "[1 rows x 12 columns]"
      ]
     },
     "execution_count": 8,
     "metadata": {},
     "output_type": "execute_result"
    }
   ],
   "source": [
    "df = df.rename(columns={'F':'Female','M':'Male'})\n",
    "df.head(1)"
   ]
  },
  {
   "cell_type": "markdown",
   "metadata": {
    "id": "ui0Z9p4IwWtH"
   },
   "source": [
    "## Feature Scalling"
   ]
  },
  {
   "cell_type": "code",
   "execution_count": 9,
   "metadata": {
    "colab": {
     "base_uri": "https://localhost:8080/",
     "height": 206
    },
    "executionInfo": {
     "elapsed": 1269,
     "status": "ok",
     "timestamp": 1638778851801,
     "user": {
      "displayName": "006_Berryl Bagas",
      "photoUrl": "https://lh3.googleusercontent.com/a-/AOh14GiDZMNEtuSWWuS-fsix3MeuvW88AemkkLEu8OFTyg=s64",
      "userId": "09798621404980976797"
     },
     "user_tz": -420
    },
    "id": "V3Z53so0wZpK",
    "outputId": "8761228c-d27c-44fc-c289-4ac911e9a3a0"
   },
   "outputs": [
    {
     "data": {
      "text/html": [
       "<div>\n",
       "<style scoped>\n",
       "    .dataframe tbody tr th:only-of-type {\n",
       "        vertical-align: middle;\n",
       "    }\n",
       "\n",
       "    .dataframe tbody tr th {\n",
       "        vertical-align: top;\n",
       "    }\n",
       "\n",
       "    .dataframe thead th {\n",
       "        text-align: right;\n",
       "    }\n",
       "</style>\n",
       "<table border=\"1\" class=\"dataframe\">\n",
       "  <thead>\n",
       "    <tr style=\"text-align: right;\">\n",
       "      <th></th>\n",
       "      <th>ad_id</th>\n",
       "      <th>xyz_campaign_id</th>\n",
       "      <th>fb_campaign_id</th>\n",
       "      <th>age</th>\n",
       "      <th>interest</th>\n",
       "      <th>Impressions</th>\n",
       "      <th>Clicks</th>\n",
       "      <th>Spent</th>\n",
       "      <th>Total_Conversion</th>\n",
       "      <th>Approved_Conversion</th>\n",
       "      <th>Female</th>\n",
       "      <th>Male</th>\n",
       "    </tr>\n",
       "  </thead>\n",
       "  <tbody>\n",
       "    <tr>\n",
       "      <th>0</th>\n",
       "      <td>708746</td>\n",
       "      <td>916</td>\n",
       "      <td>103916</td>\n",
       "      <td>1</td>\n",
       "      <td>-0.666667</td>\n",
       "      <td>-0.205137</td>\n",
       "      <td>-0.191781</td>\n",
       "      <td>-0.186865</td>\n",
       "      <td>0.5</td>\n",
       "      <td>1</td>\n",
       "      <td>0</td>\n",
       "      <td>1</td>\n",
       "    </tr>\n",
       "    <tr>\n",
       "      <th>1</th>\n",
       "      <td>708749</td>\n",
       "      <td>916</td>\n",
       "      <td>103917</td>\n",
       "      <td>1</td>\n",
       "      <td>-0.600000</td>\n",
       "      <td>-0.156309</td>\n",
       "      <td>-0.164384</td>\n",
       "      <td>-0.180203</td>\n",
       "      <td>0.5</td>\n",
       "      <td>0</td>\n",
       "      <td>0</td>\n",
       "      <td>1</td>\n",
       "    </tr>\n",
       "    <tr>\n",
       "      <th>2</th>\n",
       "      <td>708771</td>\n",
       "      <td>916</td>\n",
       "      <td>103920</td>\n",
       "      <td>1</td>\n",
       "      <td>-0.333333</td>\n",
       "      <td>-0.236062</td>\n",
       "      <td>-0.219178</td>\n",
       "      <td>-0.211290</td>\n",
       "      <td>0.0</td>\n",
       "      <td>0</td>\n",
       "      <td>0</td>\n",
       "      <td>1</td>\n",
       "    </tr>\n",
       "    <tr>\n",
       "      <th>3</th>\n",
       "      <td>708815</td>\n",
       "      <td>916</td>\n",
       "      <td>103928</td>\n",
       "      <td>1</td>\n",
       "      <td>0.200000</td>\n",
       "      <td>-0.219496</td>\n",
       "      <td>-0.191781</td>\n",
       "      <td>-0.189939</td>\n",
       "      <td>0.0</td>\n",
       "      <td>0</td>\n",
       "      <td>0</td>\n",
       "      <td>1</td>\n",
       "    </tr>\n",
       "    <tr>\n",
       "      <th>4</th>\n",
       "      <td>708818</td>\n",
       "      <td>916</td>\n",
       "      <td>103928</td>\n",
       "      <td>1</td>\n",
       "      <td>0.200000</td>\n",
       "      <td>-0.220082</td>\n",
       "      <td>-0.191781</td>\n",
       "      <td>-0.189256</td>\n",
       "      <td>0.0</td>\n",
       "      <td>1</td>\n",
       "      <td>0</td>\n",
       "      <td>1</td>\n",
       "    </tr>\n",
       "  </tbody>\n",
       "</table>\n",
       "</div>"
      ],
      "text/plain": [
       "    ad_id xyz_campaign_id fb_campaign_id  ... Approved_Conversion  Female  Male\n",
       "0  708746             916         103916  ...                   1       0     1\n",
       "1  708749             916         103917  ...                   0       0     1\n",
       "2  708771             916         103920  ...                   0       0     1\n",
       "3  708815             916         103928  ...                   0       0     1\n",
       "4  708818             916         103928  ...                   1       0     1\n",
       "\n",
       "[5 rows x 12 columns]"
      ]
     },
     "execution_count": 9,
     "metadata": {},
     "output_type": "execute_result"
    }
   ],
   "source": [
    "from sklearn.preprocessing import RobustScaler\n",
    "scaler = RobustScaler()\n",
    "df[['interest', 'Impressions','Clicks','Spent','Total_Conversion']] = scaler.fit_transform(df[['interest', 'Impressions','Clicks','Spent','Total_Conversion']])\n",
    "df.head()"
   ]
  },
  {
   "cell_type": "markdown",
   "metadata": {
    "id": "6IJPbVDvnH5p"
   },
   "source": [
    "# Train Test Split Data"
   ]
  },
  {
   "cell_type": "code",
   "execution_count": 10,
   "metadata": {
    "executionInfo": {
     "elapsed": 1127,
     "status": "ok",
     "timestamp": 1638778858258,
     "user": {
      "displayName": "006_Berryl Bagas",
      "photoUrl": "https://lh3.googleusercontent.com/a-/AOh14GiDZMNEtuSWWuS-fsix3MeuvW88AemkkLEu8OFTyg=s64",
      "userId": "09798621404980976797"
     },
     "user_tz": -420
    },
    "id": "Wb6y2Vq7wwiT"
   },
   "outputs": [],
   "source": [
    "from sklearn.model_selection import train_test_split\n",
    "\n",
    "cols_X = ['age','Female','Male','interest','Impressions','Clicks','Total_Conversion'] \n",
    "cols_Y = ['Approved_Conversion']\n",
    "\n",
    "X = df[cols_X]\n",
    "y = df[cols_Y]\n",
    "\n",
    "x_train, x_test, y_train, y_test =  train_test_split(X, y, test_size = 0.2, random_state = 123)"
   ]
  },
  {
   "cell_type": "markdown",
   "metadata": {
    "id": "T_Peo-6KnML4"
   },
   "source": [
    "# Data Modeling"
   ]
  },
  {
   "cell_type": "markdown",
   "metadata": {
    "id": "uKF2E_S7yDac"
   },
   "source": [
    "## Modeling Process"
   ]
  },
  {
   "cell_type": "markdown",
   "metadata": {
    "id": "NraiNmfiyJg8"
   },
   "source": [
    "![alurh.jpg](data:image/jpeg;base64,/9j/4AAQSkZJRgABAQEAYABgAAD/4ScIRXhpZgAATU0AKgAAAAgACwALAAIAAAAmAAAIngESAAMAAAABAAEAAAExAAIAAAAmAAAIxAEyAAIAAAAUAAAI6gMBAAUAAAABAAAI/gMDAAEAAAABAAAAAFEQAAEAAAABAQAAAFERAAQAAAABAAAAAFESAAQAAAABAAAAAIdpAAQAAAABAAAJBuocAAcAAAgMAAAAkgAAEYoc6gAAAAgAAAAAAAAAAAAAAAAAAAAAAAAAAAAAAAAAAAAAAAAAAAAAAAAAAAAAAAAAAAAAAAAAAAAAAAAAAAAAAAAAAAAAAAAAAAAAAAAAAAAAAAAAAAAAAAAAAAAAAAAAAAAAAAAAAAAAAAAAAAAAAAAAAAAAAAAAAAAAAAAAAAAAAAAAAAAAAAAAAAAAAAAAAAAAAAAAAAAAAAAAAAAAAAAAAAAAAAAAAAAAAAAAAAAAAAAAAAAAAAAAAAAAAAAAAAAAAAAAAAAAAAAAAAAAAAAAAAAAAAAAAAAAAAAAAAAAAAAAAAAAAAAAAAAAAAAAAAAAAAAAAAAAAAAAAAAAAAAAAAAAAAAAAAAAAAAAAAAAAAAAAAAAAAAAAAAAAAAAAAAAAAAAAAAAAAAAAAAAAAAAAAAAAAAAAAAAAAAAAAAAAAAAAAAAAAAAAAAAAAAAAAAAAAAAAAAAAAAAAAAAAAAAAAAAAAAAAAAAAAAAAAAAAAAAAAAAAAAAAAAAAAAAAAAAAAAAAAAAAAAAAAAAAAAAAAAAAAAAAAAAAAAAAAAAAAAAAAAAAAAAAAAAAAAAAAAAAAAAAAAAAAAAAAAAAAAAAAAAAAAAAAAAAAAAAAAAAAAAAAAAAAAAAAAAAAAAAAAAAAAAAAAAAAAAAAAAAAAAAAAAAAAAAAAAAAAAAAAAAAAAAAAAAAAAAAAAAAAAAAAAAAAAAAAAAAAAAAAAAAAAAAAAAAAAAAAAAAAAAAAAAAAAAAAAAAAAAAAAAAAAAAAAAAAAAAAAAAAAAAAAAAAAAAAAAAAAAAAAAAAAAAAAAAAAAAAAAAAAAAAAAAAAAAAAAAAAAAAAAAAAAAAAAAAAAAAAAAAAAAAAAAAAAAAAAAAAAAAAAAAAAAAAAAAAAAAAAAAAAAAAAAAAAAAAAAAAAAAAAAAAAAAAAAAAAAAAAAAAAAAAAAAAAAAAAAAAAAAAAAAAAAAAAAAAAAAAAAAAAAAAAAAAAAAAAAAAAAAAAAAAAAAAAAAAAAAAAAAAAAAAAAAAAAAAAAAAAAAAAAAAAAAAAAAAAAAAAAAAAAAAAAAAAAAAAAAAAAAAAAAAAAAAAAAAAAAAAAAAAAAAAAAAAAAAAAAAAAAAAAAAAAAAAAAAAAAAAAAAAAAAAAAAAAAAAAAAAAAAAAAAAAAAAAAAAAAAAAAAAAAAAAAAAAAAAAAAAAAAAAAAAAAAAAAAAAAAAAAAAAAAAAAAAAAAAAAAAAAAAAAAAAAAAAAAAAAAAAAAAAAAAAAAAAAAAAAAAAAAAAAAAAAAAAAAAAAAAAAAAAAAAAAAAAAAAAAAAAAAAAAAAAAAAAAAAAAAAAAAAAAAAAAAAAAAAAAAAAAAAAAAAAAAAAAAAAAAAAAAAAAAAAAAAAAAAAAAAAAAAAAAAAAAAAAAAAAAAAAAAAAAAAAAAAAAAAAAAAAAAAAAAAAAAAAAAAAAAAAAAAAAAAAAAAAAAAAAAAAAAAAAAAAAAAAAAAAAAAAAAAAAAAAAAAAAAAAAAAAAAAAAAAAAAAAAAAAAAAAAAAAAAAAAAAAAAAAAAAAAAAAAAAAAAAAAAAAAAAAAAAAAAAAAAAAAAAAAAAAAAAAAAAAAAAAAAAAAAAAAAAAAAAAAAAAAAAAAAAAAAAAAAAAAAAAAAAAAAAAAAAAAAAAAAAAAAAAAAAAAAAAAAAAAAAAAAAAAAAAAAAAAAAAAAAAAAAAAAAAAAAAAAAAAAAAAAAAAAAAAAAAAAAAAAAAAAAAAAAAAAAAAAAAAAAAAAAAAAAAAAAAAAAAAAAAAAAAAAAAAAAAAAAAAAAAAAAAAAAAAAAAAAAAAAAAAAAAAAAAAAAAAAAAAAAAAAAAAAAAAAAAAAAAAAAAAAAAAAAAAAAAAAAAAAAAAAAAAAAAAAAAAAAAAAAAAAAAAAAAAAAAAAAAAAAAAAAAAAAAAAAAAAAAAAAAAAAAAAAAAAAAAAAAAAAAAAAAAAAAAAAAAAAAAAAAAAAAAAAAAAAAAAAAAAAAAAAAAAAAAAAAAAAAAAAAAAAAAAAAAAAAAAAAAAAAAAAAAAAAAAAAAAAAAAAAAAAAAAAAAAAAAAAAAAAAAAAAAAAAAAAAAAAAAAAAAAAAAAAAAAAAAAAAAAAAAAAAAAAAAAAAAAAAAAAAAAAAAAAAAAAAAAAAAAAAAAAAAAAAAAAAAAAAAAAAAAAAAAAAAAAAAAAAAAAAAAAAAAAAAAAAAAAAAAAAAAAAAAAAAAAAAAAAAAAAAAAAAAAAAAAAAAAAAAAAAAAAAAAAAAAAAAAAAAAAAAAAAAAAAAAAAAAAAAAAAAAAAAAAAAAAAAAAAAAAAAAAAAAAAAAAAAAAAAAAAAAAAAAAAAAAAAAAAAAAAAAAAAAAAAAAAAAAAAAAAAAAAAAAAAAAAAAAAAAAAAAAAAAAAAAAAAAAAAAAAAAAAAAAAAAAAAAAAAAAAAAAAAAAAAAAAAAAAAAAAAAAAAAAAAAAAAAAAAAAAAAAAAAAAAAAAAAAAAAAAAAAAAAAAAAAAAAAAAAAAAAAAAAAAAAAAAAAAAAAAAAAAAAAAAAAAAAAAAAAAAAAAAAAAAAAAAAAAAAAAAAAAAAAAAAAAAAAAAAAAAAAAAAAAAAAAAAAAAAAAAAAAAAAAAAAAAAAAAAAAAAAAAAAAAAAAAAAAAAAAAAAAAAAAAAAAAAAAAAAAAAAAAAAAAAAAAAAAAAAAAAAAAAAAAAAAAAAAAAAAAAAAAAAAAFdpbmRvd3MgUGhvdG8gRWRpdG9yIDEwLjAuMTAwMTEuMTYzODQAV2luZG93cyBQaG90byBFZGl0b3IgMTAuMC4xMDAxMS4xNjM4NAAyMDIxOjEyOjA2IDEwOjMwOjQ1AAABhqAAALGPAAaQAwACAAAAFAAAEWCQBAACAAAAFAAAEXSSkQACAAAAAzYzAACSkgACAAAAAzYzAACgAQADAAAAAQABAADqHAAHAAAIDAAACVQAAAAAHOoAAAAIAAAAAAAAAAAAAAAAAAAAAAAAAAAAAAAAAAAAAAAAAAAAAAAAAAAAAAAAAAAAAAAAAAAAAAAAAAAAAAAAAAAAAAAAAAAAAAAAAAAAAAAAAAAAAAAAAAAAAAAAAAAAAAAAAAAAAAAAAAAAAAAAAAAAAAAAAAAAAAAAAAAAAAAAAAAAAAAAAAAAAAAAAAAAAAAAAAAAAAAAAAAAAAAAAAAAAAAAAAAAAAAAAAAAAAAAAAAAAAAAAAAAAAAAAAAAAAAAAAAAAAAAAAAAAAAAAAAAAAAAAAAAAAAAAAAAAAAAAAAAAAAAAAAAAAAAAAAAAAAAAAAAAAAAAAAAAAAAAAAAAAAAAAAAAAAAAAAAAAAAAAAAAAAAAAAAAAAAAAAAAAAAAAAAAAAAAAAAAAAAAAAAAAAAAAAAAAAAAAAAAAAAAAAAAAAAAAAAAAAAAAAAAAAAAAAAAAAAAAAAAAAAAAAAAAAAAAAAAAAAAAAAAAAAAAAAAAAAAAAAAAAAAAAAAAAAAAAAAAAAAAAAAAAAAAAAAAAAAAAAAAAAAAAAAAAAAAAAAAAAAAAAAAAAAAAAAAAAAAAAAAAAAAAAAAAAAAAAAAAAAAAAAAAAAAAAAAAAAAAAAAAAAAAAAAAAAAAAAAAAAAAAAAAAAAAAAAAAAAAAAAAAAAAAAAAAAAAAAAAAAAAAAAAAAAAAAAAAAAAAAAAAAAAAAAAAAAAAAAAAAAAAAAAAAAAAAAAAAAAAAAAAAAAAAAAAAAAAAAAAAAAAAAAAAAAAAAAAAAAAAAAAAAAAAAAAAAAAAAAAAAAAAAAAAAAAAAAAAAAAAAAAAAAAAAAAAAAAAAAAAAAAAAAAAAAAAAAAAAAAAAAAAAAAAAAAAAAAAAAAAAAAAAAAAAAAAAAAAAAAAAAAAAAAAAAAAAAAAAAAAAAAAAAAAAAAAAAAAAAAAAAAAAAAAAAAAAAAAAAAAAAAAAAAAAAAAAAAAAAAAAAAAAAAAAAAAAAAAAAAAAAAAAAAAAAAAAAAAAAAAAAAAAAAAAAAAAAAAAAAAAAAAAAAAAAAAAAAAAAAAAAAAAAAAAAAAAAAAAAAAAAAAAAAAAAAAAAAAAAAAAAAAAAAAAAAAAAAAAAAAAAAAAAAAAAAAAAAAAAAAAAAAAAAAAAAAAAAAAAAAAAAAAAAAAAAAAAAAAAAAAAAAAAAAAAAAAAAAAAAAAAAAAAAAAAAAAAAAAAAAAAAAAAAAAAAAAAAAAAAAAAAAAAAAAAAAAAAAAAAAAAAAAAAAAAAAAAAAAAAAAAAAAAAAAAAAAAAAAAAAAAAAAAAAAAAAAAAAAAAAAAAAAAAAAAAAAAAAAAAAAAAAAAAAAAAAAAAAAAAAAAAAAAAAAAAAAAAAAAAAAAAAAAAAAAAAAAAAAAAAAAAAAAAAAAAAAAAAAAAAAAAAAAAAAAAAAAAAAAAAAAAAAAAAAAAAAAAAAAAAAAAAAAAAAAAAAAAAAAAAAAAAAAAAAAAAAAAAAAAAAAAAAAAAAAAAAAAAAAAAAAAAAAAAAAAAAAAAAAAAAAAAAAAAAAAAAAAAAAAAAAAAAAAAAAAAAAAAAAAAAAAAAAAAAAAAAAAAAAAAAAAAAAAAAAAAAAAAAAAAAAAAAAAAAAAAAAAAAAAAAAAAAAAAAAAAAAAAAAAAAAAAAAAAAAAAAAAAAAAAAAAAAAAAAAAAAAAAAAAAAAAAAAAAAAAAAAAAAAAAAAAAAAAAAAAAAAAAAAAAAAAAAAAAAAAAAAAAAAAAAAAAAAAAAAAAAAAAAAAAAAAAAAAAAAAAAAAAAAAAAAAAAAAAAAAAAAAAAAAAAAAAAAAAAAAAAAAAAAAAAAAAAAAAAAAAAAAAAAAAAAAAAAAAAAAAAAAAAAAAAAAAAAAAAAAAAAAAAAAAAAAAAAAAAAAAAAAAAAAAAAAAAAAAAAAAAAAAAAAAAAAAAAAAAAAAAAAAAAAAAAAAAAAAAAAAAAAAAAAAAAAAAAAAAAAAAAAAAAAAAAAAAAAAAAAAAAAAAAAAAAAAAAAAAAAAAAAAAAAAAAAAAAAAAAAAAAAAAAAAAAAAAAAAAAAAAAAAAAAAAAAAAAAAAAAAAAAAAAAAAAAAAAAAAAAAAAAAAAAAAAAAAAAAAAAAAAAAAAAAAAAAAAAAAAAAAAAAAAAAAAAAAAAAAAAAAAAAAAAAAAAAAAAAAAAAAAAAAAAAAAAAAAAAAAAAAAAAAAAAAAAAAAAAAAAAAAAAAAAAAAAAAAAAAAAAAAAAAAAAAAAAAAAAAAAAAAAAAAAAAAAAAAAAAAAAAAAAAAAAAAAAAAAAAAAAAAAAAAAAAAAAAAAAAAAAAAAAAAAAAAAAAAAAAAAAAAAAAAAAAAAAAAAAAAAAAAAAAAAAAAAAAAAAAAAAAAAAAAAAAAAAAAAAAAAAAAAAAAAAAAAAAAAAAAAAAAAAAAAAAAAAAAAAAAAAAAAAAAAAAAAAAAAAAAAAAAAAAAAAAAAAAAAAAAAAAAAAAAAAAAAAAAAAAAAAAAAAAAAAAAAAAAAAAAAAAAAAAAAAAAAAAAAAAAAAAAAAAAAAAAAAAAAAAAAAAAAAAAAAAAAAAAAAAAAAAAAAAAAAAAAAAAAAAAAAAAAAAAAAAAAAAAAAAAAAAAAAAAAAAAAAAAAAAAAAAAAAAAAAAAAAAAAAAAAAAAAAAAAAAAAAAAAAAAAAAAAAAAAAAAAAAAAAAAAAAAAAAAAAAAAAAAAAAAAAAAAAAAyMDIxOjEyOjA2IDEwOjI2OjQ2ADIwMjE6MTI6MDYgMTA6MjY6NDYAAAAABgEDAAMAAAABAAYAAAEaAAUAAAABAAAR2AEbAAUAAAABAAAR4AEoAAMAAAABAAIAAAIBAAQAAAABAAAR6AICAAQAAAABAAAVFwAAAAAAAABgAAAAAQAAAGAAAAAB/9j/2wBDAAgGBgcGBQgHBwcJCQgKDBQNDAsLDBkSEw8UHRofHh0aHBwgJC4nICIsIxwcKDcpLDAxNDQ0Hyc5PTgyPC4zNDL/2wBDAQkJCQwLDBgNDRgyIRwhMjIyMjIyMjIyMjIyMjIyMjIyMjIyMjIyMjIyMjIyMjIyMjIyMjIyMjIyMjIyMjIyMjL/wAARCABtAQADASEAAhEBAxEB/8QAHwAAAQUBAQEBAQEAAAAAAAAAAAECAwQFBgcICQoL/8QAtRAAAgEDAwIEAwUFBAQAAAF9AQIDAAQRBRIhMUEGE1FhByJxFDKBkaEII0KxwRVS0fAkM2JyggkKFhcYGRolJicoKSo0NTY3ODk6Q0RFRkdISUpTVFVWV1hZWmNkZWZnaGlqc3R1dnd4eXqDhIWGh4iJipKTlJWWl5iZmqKjpKWmp6ipqrKztLW2t7i5usLDxMXGx8jJytLT1NXW19jZ2uHi4+Tl5ufo6erx8vP09fb3+Pn6/8QAHwEAAwEBAQEBAQEBAQAAAAAAAAECAwQFBgcICQoL/8QAtREAAgECBAQDBAcFBAQAAQJ3AAECAxEEBSExBhJBUQdhcRMiMoEIFEKRobHBCSMzUvAVYnLRChYkNOEl8RcYGRomJygpKjU2Nzg5OkNERUZHSElKU1RVVldYWVpjZGVmZ2hpanN0dXZ3eHl6goOEhYaHiImKkpOUlZaXmJmaoqOkpaanqKmqsrO0tba3uLm6wsPExcbHyMnK0tPU1dbX2Nna4uPk5ebn6Onq8vP09fb3+Pn6/9oADAMBAAIRAxEAPwD0bW9avLDUPJgKBNgPK5rN/wCEn1L+9H/3xXRGlFpM8+piJxk0g/4SfUv70f8A3xR/wk+pf3o/++Kr2MSfrVQP+En1L+9H/wB8Uf8ACT6l/ej/AO+KPYxD61UD/hJ9S/vR/wDfFH/CT6l/ej/74o9jEPrVQ2fD+q3OovOLgqdgXG1cdc1u1zzioysjsoycoJsKKg1ONuPEmoR3EqK0e1XIHye9R/8ACT6l/ej/AO+K6lSiec8TUuH/AAk+pf3o/wDvij/hJ9S/vR/98U/YxD61UD/hJ9S/vR/98Uf8JPqX96P/AL4o9jEPrVQP+En1L+9H/wB8Uf8ACT6l/ej/AO+KPYxD61UOn0a7lvdMjnmILsTnAx0NX65pKzsd8G3FNhRUlFC/1e004YmfdJ2jTlv/AK341z1z4rupCRbxJEvqfmP+FbQpX1Zy1sRyvljuZ0ms6lIcteSj/dO3+VR/2nf/APP7cf8Af01vyR7HG6s31JY9a1KI5W7kP+8d3860rbxXcoQLmFJV9V+U/wCFTKlF7GkMROL11OhsNVtNRX9xJ846xtwwq7XLJNOzPQhNTV0cV4o/5DH/AGzX+tYM1xDbJvnljiTONzsFH612Q+FHmVdajHI6SIroysjDIZTkGl3LtLbhtHU54FUZi1GZ4ROIDKnmkZEe4bseuKAsPyM4zz6UtAjpfCH+tu/ov9a6quSr8bPTw/8ADQUVmbnm13/x+T/9dG/nVSa5gtlDTzRxKTgGRgoJ/Gu5bHjtXZIrK6K6MGVhkEHIIoDqWKhgSOSAen+cH8qYgd1jRndgqqMsxOAB602KWOeMSRSJIh6MjAg/jQFh4IIyDkGigR3Phv8A5AkP1b+ZrWrin8TPWpfAgrK13VDp1oBF/r5eEP8Ad9TRFXlYdSXJByOFmm+/NNJ6s7u35kmmGaIPsMqBs4wWGc8f4j8xXboeTqxxdVzlgMDJye1NiminjEkMiSIejIwI/MUBYV5EjxvdVz03HGeM/wAgT+FKrK67lYMD3BoAdDMVKTQyYP3ldD+oNd5oupf2lZb3x5yHa+O/vWNaOlzqws7S5TnPFH/IY/7Zr/WufvITc2U8CkAyxsgJ7ZGKuHwIxqu1R+plX+k39wLo2988Tyzb0IlYeWvlhQB1H3snGOc9RUraZeG5aZb1xl2+Xe2NpVgBjp1Kn8KdmCmuxSuNN1OF4/LnmmjbaXCzMCGBYkgk9wQMdOOa0b6xubp3WN440Yo4kJJYMpyBgY4zjnPTNFmDktygNEvxGT9sZpSu3eZ23KN6tjOOehHT8K27SKSGygimk82VI1V5D/EwHJ/Gmk0TKSZ0Ph2O/eS4+w3NtAQF3+fbtLnrjGHXH61v/Z/EH/QT0z/wXSf/AB+uWr8bPQw/8NCfZ/EP/QT0z/wXSf8Ax6quo23i1rJxYalpAucrtMllIq43DOT5jds9vy61mbnK3O77VNuILbzkgcZzVS6hM8IQEAiRH5/2WB/pXctjx72kY8+j6jJPcSJqU3zyFkBlIUA5wNoHGMgdecdjghW0W7IZEu2jj8xmASVwTnzcfq6H/gFLlZfPHsMgsNQnh1a3umcGeN4oneQlMEvg47cMOnYAdRUlxpWoT3S3C3Qg3SrJKkUjAYGzjp82QpHQdR2BBVm0HMkx+n6XeWc1ruuf3MMIiKCRirYGM4I6556+2OMnZqkrESab0Or0SLVW0uM217Zxw5bCy2jOw5PcSL/KtHyNc/6COnf+AD//AB6uOfxM9Wl8CF8jW/8AoI6f/wCAL/8Ax6uZ1ez1a3gjk1W9ivHaeXY8UPlqiFsomMnJA7/zxk1S+JEYhfu2c/qNqb3Tbq1BAM0TR5YccjHNZf8AYl3Gx8u6UqJg6B89B5W3PqQIyM98+5rpau7nnRkkrMmstMvIbW4iuLtpfMRlXc5bbkDvgZ79u9NbRGSKT7PcyxSvHhmWVhl8KM+n3VAzjiixXOr7EP8AYl8ZYWe8ZzGWZXeViykxsmBgAHBbO7ANPj0e+hMarekos4kI3svy5yVwOox9MknJxwTlYc67GtaRSQWUEUsnmSJGqu5OdxAwTXY+EYnWC5lIOx2VR74zn+dTV+ErDq9RGd4o/wCQx/2zX+tYtVD4URW/iMKKozCigAooA6Xwh/rbv6L/AFrqq5Kvxs9PD/w0FFZm55td/wDH5P8A9dG/nUNdy2PGe4UUxBRQAUUAdz4b/wCQJD9W/ma1q4p/Ez1qXwIKhurWK8t3gmXKMOfUe4pJ2dy2k1ZnFaloV1YMWVTLB2dR0+o7Vl12RkpK55VSm4SswoqjMKKANfTNAub5leVTDB3ZhyfoK7S3gjtYEhhULGgwBXNVnd2R6GGpOK5n1K11pVjeS+dcQB3xjO4jj8DWR5fhwHDQspA3EMJBxu25+m7ioVSS0Rq6MG7tDobfQZ7lbdLY+cWYFCWBXbnOefb9ahtB4furdZvsckasuSG38cgY4PJyQOPWn7SXcX1en2LU1hodvK0ctsVYAtklsYGM85x/EPzpltbeH7sboYcryQ2XA4IHr7j86Pay7h9Xp9h0lloULRiS1dd6hlJD9CGPPPHCsefSo4ovD07lIrdnI2ZI34+Y4HOcdj+X0o9pLuH1en2Nm0060sSxtoRGXxu+YnP5mrVQ227s0jFRVkFFIozn0HTXdna1BZjkne3X86prY6AwyIhjjklx/ke9ae0kY+wp9gGn6GZBH9n+ckAKS4PP1NJ9i8P7A/lrtPQ5fnjI/Tn6c0e1kH1en2I/s/h/M48g/uPv/fPG0NkAHJGD1qY6doaxzO1vt8lS7gl8hRnnGehwceuKPaS7h9Xp9hDY6CG2+SC27ZgFyc5A/mcVLBo2kXCbktRx1BdsjgHnn0I/Oj2ku4ewp9jTt7aG0hEMCbIx0GSf51LUN3NUklZBRSGFUbjR9Pujultk3f3l+U/pTjJx2JlCMlZmLLoOlhZGW4uRsYIQF3YYttA6ev8AMHpVIaXpjSKg1GQs4yi+SdzZOB+oI/CtVXfY5nhI9GSadp+kX0NrKkl23nnaBtAAbaWweOOAa6W20mxtDuhtkDD+I/MfzNTKpJmkMPCOu5corM3CoWs7ViC1vESOmUHv/ifzoAaljaRlSlrCpX7u2MDHJP8AMn86BYWajC2sKjaVICAAg9j7cnigA+wWpzvgSQsNpMg3kjOcZPOM4pr6bZPAYTaxCMggqqBeCMHp6igB7Wds7FpIVkY55kG7gjBHPQYJ49zQtlaoMJbRLyp+VAOV6flQBPRQAUUAFQmztyAPITA7baAF+zQg5CDJxz9On5UyGxt4Io40jACABT3GBgc/TigA+wWmWP2ePL8McdRjGD7Y4x6UfYbfDDZnfneSclgSTg56jk8UAK1pA23dGDtbeuezeo9+vPuafDBHbx7IxgdyTkngDk9+AKAJKKACigAooAqy6fazhhLGXV3EjqWOGYYxkZwfujr6VU2wvrbWLW1uYI7VZFBjHBLsCPpwKALqWFnEUMdpAhj4QrGBt69PTqfzNWKACigAooAKKACigAooAKKACigAooAKKACigAooAKKACigAooAKy1/5GmQ/9OS/+htQBqUUAFFABRQAUUAFFABRQAUUAFFABRQAVDJd20P+tuIk/wB5wKTaW5cKc5u0VcjXUrBzhL22Y+glU/1qyGDDKkEexoUk9mOdGpD44teqFopmYUUAFFABRQAVifb7QeNTZG5i+1mwDiHcN+3eecelAG3RQAUUAFFABRQAUUAFFABRQAUUARzzxW0LzTOqRoMszHgVyGpeNHLNHp0YVRx5sgyT9B/jWFaryKy3PWyvLvrUuafwr8Tm7rUr29z9oupZATnaW+X8ulVa4JScndn2NKjTpR5YKyCnxTSwOHikeNx0ZGINJNrYuUIyVpK5tWPivUrQgSOLiMdVk6/n1/nXY6Trtpq6YiJSYDLRN1H09RXZQrtvlkfL5tlUacXWorTqjTorrPnQrifGF7dW2rRJBczRKYASqSFRnc3pWOIbUND1cnpxqYpRmrqzOf8A7V1H/n/uv+/zf40f2rqP/P8A3X/f5v8AGuD2k+59d9Tw/wDIvuD+1dR/5/7r/v8AN/jUf226+0/aftU32jZ5fm+Yd23OdueuM84o9pPuH1PD/wAi+4k/tXUf+f8Auv8Av83+NH9q6j/z/wB1/wB/m/xo9pPuH1PD/wAi+4P7V1H/AJ/7r/v83+NdJ4OvLq51C4We5mlURZAkkLAHI9a0ozk5pNnDmWGowwk5Rik/+CdlRXonxQUUAFFABRQAUUAFFAHAeLdTkutSa0ViIIDjHq3c/wBK5W4vYLWWOOZirShivHXaMmvMqtymz73AQjQwkF5L8RBf2291aVU2AElyAOSQOf8AgJptxqENtGjuHIeRoxtGeQGJ/RTUcrvY6fbw5eYkS9tZNu25iO47QN4yT6fX2qE6rZ7mCyhwrqhKHIyxUD9WFHKwdemle5OLu3ZgqTI7EgYVgevIq1BPLbTpNC5SRDlWHalqtSny1IuO6PUdO1CO+sLW4LKrTrwuepHUD1xg1cr1ou6TPzutD2dSUOzaCuD8bf8AIZh/691/9CascT/DPTyT/e16M8/hsL+1hs0gl2cAzhUUjdhex7feyRz0pkdrrRt1FxcO7fJkDywQRsJIwOud454xiuPmi3c+m9lXS5U9CSWPV3hMXzMrBsklAdu1wAcfxZ2dOOvNI8WrtMZN0m1HLIgaMZyrjGcfdB2ds8nrReAOOIbJrOLVBIjXMzlV/hIT5hlvvYHUDb0P51E1jfrcO0ZDRySmQhmzt+cdM9io/Aj3pXimOVOvKKu9RIYdVDwRsCIY1iVlZkYHaUyR3zw36fh6H4I/5CVz/wBcf6itKdvaKxy45VFg6nP2X5nc0V6B8WFFABRQAUUAFFABRQB5z4psXtNalkIPlznzEb19R+f9K5m80+G+GJS4wjINpxjOOfqCARXlzvGbPvsI418LD0X4FabQ4ZWci5uIw+d4QrhvvcHI/wBs/p3Aqc6ZbtHBHIpkSGZplV8EFju68f7R/IUnNs1jhYRdxDpcOY8SONkjvjCndvfeQcjpn0wfeoBoFqY/LklmlU7eH29FKEDgdPkA+maPaMUsJTZLFpMUc6y+fM20qQpK4yBjJwMk4xycnitFVZ2CqpZmOAAOSaTd2awpxpJ2O/tfCemPFpk9/ZpNeWUTrGzEkLv5YYzg/jWl/Yel/wDPhb/9+xXqRVopH59Xn7SrKfdtif2Hpf8Az4w/981yPjRQmr26qMKtsoAHYbmrLE/wz0cj/wB7XoznKr30z21hcTxgF442ZQR1IFeetz7Kbai2ig2rT2yzC5t1VogrElsffcqucZxwOeaj/t1pLqFI0jCOoJG8M4JaMDIHQfP+Naci6HK8TKOjWpDF4kzp0M0kQWV4Gcgtg7ggb7vXBzke2OecV0CnKg+oqZRsa0K3tOgtdR4I/wCQlc/9cf6iqofxEc+a/wC5z9P1O5or0z4MKKACigAooAKKACigCrf2FvqVq1vcpuQ8g91PqPeuH1LwnfWbM9uv2mHqCn3h9R/hmuavR5veW57uT5jGg/Y1fhe3kYLo0blHUqw6hhgikrgPrk01dBRQMvWWj3+oMPs9s5U/xsMKPxNdponhiDTGE87Ca6HQ4+VPp/jXVQotvmZ8/m+ZRhB0KTu3v5G/RXcfJhXB+Nv+QzD/ANe6/wDoTVhif4Z6+Sf72vRnNUV559pdBikwPSjUWgYHpS0aj0Cuo8Ef8hK5/wCuP9RWlD+Ijz81f+xz9P1O5or0z4QKKACigAooAKKACigAooAguYLWWJmuooXjUZJlUEAfjWVPo+gKQZLaJcgtlSwGB1PB4qJU4S3R10MdiKCtTk0ivJp3hqCJpTbqVVtpwz8EHBzk8YPFaVlZaSGP2W1hyAGDeXnIOcEMeo4PSkqMFsi6uZYqqrSm/wAvyNKitDhCigAprIjHLIpPuKBptO6K9z+5jUw2qSsTjHQDgnPAPp+tVZLt0RimnCRgzABQ3ICk5+71yAMDP3hyaLIr2k+5E+oSiaOJNJZy2/c207VCrkHO3+LkD6U2DUZGvJIp9PWKMSKsbFSNwKgk8gfdwc49vQ0WQe0n3JmvGMsqw6esqR5IcHhsAn+7jOQB36/hSxXUjxNI+nrGRs+Qgk89ckL0Htn3xRZB7SfcsWbCcSeZFCGVgNqr9zgcHPfv0HBH1NpURTlVUfQUWQnOT0bHUUEhRQAUUAFFABRQAUUAFFADZE8yJ0yRuBGQAcfnxVc6fbsYtysViTYibsLjjggdeg60AI+mWcoYPEWVmLMpdtpJ68Zx2z9eetSQWkFtnyUKggLjcSABnAA6ADJ4FAE9FABRQAUUAFFABRgZzjpQAUUAFFAH/9kA/+Ex6Gh0dHA6Ly9ucy5hZG9iZS5jb20veGFwLzEuMC8APD94cGFja2V0IGJlZ2luPSfvu78nIGlkPSdXNU0wTXBDZWhpSHpyZVN6TlRjemtjOWQnPz4NCjx4OnhtcG1ldGEgeG1sbnM6eD0iYWRvYmU6bnM6bWV0YS8iPjxyZGY6UkRGIHhtbG5zOnJkZj0iaHR0cDovL3d3dy53My5vcmcvMTk5OS8wMi8yMi1yZGYtc3ludGF4LW5zIyI+PHJkZjpEZXNjcmlwdGlvbiByZGY6YWJvdXQ9InV1aWQ6ZmFmNWJkZDUtYmEzZC0xMWRhLWFkMzEtZDMzZDc1MTgyZjFiIiB4bWxuczp4bXA9Imh0dHA6Ly9ucy5hZG9iZS5jb20veGFwLzEuMC8iPjx4bXA6Q3JlYXRvclRvb2w+V2luZG93cyBQaG90byBFZGl0b3IgMTAuMC4xMDAxMS4xNjM4NDwveG1wOkNyZWF0b3JUb29sPjx4bXA6Q3JlYXRlRGF0ZT4yMDIxLTEyLTA2VDEwOjI2OjQ2LjYyNTwveG1wOkNyZWF0ZURhdGU+PC9yZGY6RGVzY3JpcHRpb24+PC9yZGY6UkRGPjwveDp4bXBtZXRhPg0KICAgICAgICAgICAgICAgICAgICAgICAgICAgICAgICAgICAgICAgICAgICAgICAgICAgICAgICAgICAgICAgICAgICAgICAgICAgICAgICAgICAgICAgICAgICAgICAgICAgIAogICAgICAgICAgICAgICAgICAgICAgICAgICAgICAgICAgICAgICAgICAgICAgICAgICAgICAgICAgICAgICAgICAgICAgICAgICAgICAgICAgICAgICAgICAgICAgICAgICAgCiAgICAgICAgICAgICAgICAgICAgICAgICAgICAgICAgICAgICAgICAgICAgICAgICAgICAgICAgICAgICAgICAgICAgICAgICAgICAgICAgICAgICAgICAgICAgICAgICAgICAKICAgICAgICAgICAgICAgICAgICAgICAgICAgICAgICAgICAgICAgICAgICAgICAgICAgICAgICAgICAgICAgICAgICAgICAgICAgICAgICAgICAgICAgICAgICAgICAgICAgIAogICAgICAgICAgICAgICAgICAgICAgICAgICAgICAgICAgICAgICAgICAgICAgICAgICAgICAgICAgICAgICAgICAgICAgICAgICAgICAgICAgICAgICAgICAgICAgICAgICAgCiAgICAgICAgICAgICAgICAgICAgICAgICAgICAgICAgICAgICAgICAgICAgICAgICAgICAgICAgICAgICAgICAgICAgICAgICAgICAgICAgICAgICAgICAgICAgICAgICAgICAKICAgICAgICAgICAgICAgICAgICAgICAgICAgICAgICAgICAgICAgICAgICAgICAgICAgICAgICAgICAgICAgICAgICAgICAgICAgICAgICAgICAgICAgICAgICAgICAgICAgIAogICAgICAgICAgICAgICAgICAgICAgICAgICAgICAgICAgICAgICAgICAgICAgICAgICAgICAgICAgICAgICAgICAgICAgICAgICAgICAgICAgICAgICAgICAgICAgICAgICAgCiAgICAgICAgICAgICAgICAgICAgICAgICAgICAgICAgICAgICAgICAgICAgICAgICAgICAgICAgICAgICAgICAgICAgICAgICAgICAgICAgICAgICAgICAgICAgICAgICAgICAKICAgICAgICAgICAgICAgICAgICAgICAgICAgICAgICAgICAgICAgICAgICAgICAgICAgICAgICAgICAgICAgICAgICAgICAgICAgICAgICAgICAgICAgICAgICAgICAgICAgIAogICAgICAgICAgICAgICAgICAgICAgICAgICAgICAgICAgICAgICAgICAgICAgICAgICAgICAgICAgICAgICAgICAgICAgICAgICAgICAgICAgICAgICAgICAgICAgICAgICAgCiAgICAgICAgICAgICAgICAgICAgICAgICAgICAgICAgICAgICAgICAgICAgICAgICAgICAgICAgICAgICAgICAgICAgICAgICAgICAgICAgICAgICAgICAgICAgICAgICAgICAKICAgICAgICAgICAgICAgICAgICAgICAgICAgICAgICAgICAgICAgICAgICAgICAgICAgICAgICAgICAgICAgICAgICAgICAgICAgICAgICAgICAgICAgICAgICAgICAgICAgIAogICAgICAgICAgICAgICAgICAgICAgICAgICAgICAgICAgICAgICAgICAgICAgICAgICAgICAgICAgICAgICAgICAgICAgICAgICAgICAgICAgICAgICAgICAgICAgICAgICAgCiAgICAgICAgICAgICAgICAgICAgICAgICAgICAgICAgICAgICAgICAgICAgICAgICAgICAgICAgICAgICAgICAgICAgICAgICAgICAgICAgICAgICAgICAgICAgICAgICAgICAKICAgICAgICAgICAgICAgICAgICAgICAgICAgICAgICAgICAgICAgICAgICAgICAgICAgICAgICAgICAgICAgICAgICAgICAgICAgICAgICAgICAgICAgICAgICAgICAgICAgIAogICAgICAgICAgICAgICAgICAgICAgICAgICAgICAgICAgICAgICAgICAgICAgICAgICAgICAgICAgICAgICAgICAgICAgICAgICAgICAgICAgICAgICAgICAgICAgICAgICAgCiAgICAgICAgICAgICAgICAgICAgICAgICAgICAgICAgICAgICAgICAgICAgICAgICAgICAgICAgICAgICAgICAgICAgICAgICAgICAgICAgICAgICAgICAgICAgICAgICAgICAKICAgICAgICAgICAgICAgICAgICAgICAgICAgICAgICAgICAgICAgICAgICAgICAgICAgICAgICAgICAgICAgICAgICAgICAgICAgICAgICAgICAgICAgICAgICAgICAgICAgIAogICAgICAgICAgICAgICAgICAgICAgICAgICAgICAgICAgICAgICAgICAgICAgICAgICAgICAgICAgICAgICAgICAgICAgICAgICAgICAgICAgICAgICAgICAgICAgICAgICAgCiAgICAgICAgICAgICAgICAgICAgICAgICAgICAgICAgICAgICAgICAgICAgICAgICAgICAgICAgICAgICAgICAgICAgICAgICAgICAgICAgICAgICAgICAgICAgICAgICAgICAKICAgICAgICAgICAgICAgICAgICAgICAgICAgICAgICAgICAgICAgICAgICAgICAgICAgICAgICAgICAgICAgICAgICAgICAgICAgICAgICAgICAgICAgICAgICAgICAgICAgIAogICAgICAgICAgICAgICAgICAgICAgICAgICAgICAgICAgICAgICAgICAgICAgICAgICAgICAgICAgICAgICAgICAgICAgICAgICAgICAgICAgICAgICAgICAgICAgICAgICAgCiAgICAgICAgICAgICAgICAgICAgICAgICAgICAgICAgICAgICAgICAgICAgICAgICAgICAgICAgICAgICAgICAgICAgICAgICAgICAgICAgICAgICAgICAgICAgICAgICAgICAKICAgICAgICAgICAgICAgICAgICAgICAgICAgICAgICAgICAgICAgICAgICAgICAgICAgICAgICAgICAgICAgICAgICAgICAgICAgICAgICAgICAgICAgICAgICAgICAgICAgIAogICAgICAgICAgICAgICAgICAgICAgICAgICAgICAgICAgICAgICAgICAgICAgICAgICAgICAgICAgICAgICAgICAgICAgICAgICAgICAgICAgICAgICAgICAgICAgICAgICAgCiAgICAgICAgICAgICAgICAgICAgICAgICAgICAgICAgICAgICAgICAgICAgICAgICAgICAgICAgICAgICAgICAgICAgICAgICAgICAgICAgICAgICAgICAgICAgICAgICAgICAKICAgICAgICAgICAgICAgICAgICAgICAgICAgICAgICAgICAgICAgICAgICAgICAgICAgICAgICAgICAgICAgICAgICAgICAgICAgICAgICAgICAgICAgICAgICAgICAgICAgIAogICAgICAgICAgICAgICAgICAgICAgICAgICAgICAgICAgICAgICAgICAgICAgICAgICAgICAgICAgICAgICAgICAgICAgICAgICAgICAgICAgICAgICAgICAgICAgICAgICAgCiAgICAgICAgICAgICAgICAgICAgICAgICAgICAgICAgICAgICAgICAgICAgICAgICAgICAgICAgICAgICAgICAgICAgICAgICAgICAgICAgICAgICAgICAgICAgICAgICAgICAKICAgICAgICAgICAgICAgICAgICAgICAgICAgICAgICAgICAgICAgICAgICAgICAgICAgICAgICAgICAgICAgICAgICAgICAgICAgICAgICAgICAgICAgICAgICAgICAgICAgIAogICAgICAgICAgICAgICAgICAgICAgICAgICAgICAgICAgICAgICAgICAgICAgICAgICAgICAgICAgICAgICAgICAgICAgICAgICAgICAgICAgICAgICAgICAgICAgICAgICAgCiAgICAgICAgICAgICAgICAgICAgICAgICAgICAgICAgICAgICAgICAgICAgICAgICAgICAgICAgICAgICAgICAgICAgICAgICAgICAgICAgICAgICAgICAgICAgICAgICAgICAKICAgICAgICAgICAgICAgICAgICAgICAgICAgICAgICAgICAgICAgICAgICAgICAgICAgICAgICAgICAgICAgICAgICAgICAgICAgICAgICAgICAgICAgICAgICAgICAgICAgIAogICAgICAgICAgICAgICAgICAgICAgICAgICAgICAgICAgICAgICAgICAgICAgICAgICAgICAgICAgICAgICAgICAgICAgICAgICAgICAgICAgICAgICAgICAgICAgICAgICAgCiAgICAgICAgICAgICAgICAgICAgICAgICAgICAgICAgICAgICAgICAgICAgICAgICAgICAgICAgICAgICAgICAgICAgICAgICAgICAgICAgICAgICAgICAgICAgICAgICAgICAKICAgICAgICAgICAgICAgICAgICAgICAgICAgICAgICAgICAgICAgICAgICAgICAgICAgICAgICAgICAgICAgICAgICAgICAgICAgICAgICAgICAgICAgICAgICAgICAgICAgIAogICAgICAgICAgICAgICAgICAgICAgICAgICAgICAgICAgICAgICAgICAgICAgICAgICAgICAgICAgICAgICAgICAgICAgICAgICAgICAgICAgICAgICAgICAgICAgICAgICAgCiAgICAgICAgICAgICAgICAgICAgICAgICAgICAgICAgICAgICAgICAgICAgICAgICAgICAgICAgICAgICAgICAgICAgICAgICAgICAgICAgICAgICAgICAgICAgICAgICAgICAKICAgICAgICAgICAgICAgICAgICAgICAgICAgICAgICAgICAgICAgICAgICAgICAgICAgICAgICAgICAgICAgICAgICAgICAgICAgICAgICAgICAgICAgICAgICAgICAgICAgIAogICAgICAgICAgICAgICAgICAgICAgICAgICAgICAgICAgICAgICAgICAgICAgICAgICAgICAgICAgICAgICAgICAgICAgICAgICAgICAgICAgICAgICAgICAgICAgICAgICAgCiAgICAgICAgICAgICAgICAgICAgICAgICAgICAgICAgICAgICAgICAgICAgICAgICAgICAgICAgICAgICAgICAgICAgICAgICAgICAgICAgICAgICAgICAgICAgICAgICAgICAKICAgICAgICAgICAgICAgICAgICAgICAgICAgICAgICAgICAgICAgICAgICAgICAgICAgICAgICAgICAgICAgICAgICAgICAgICAgICAgICAgICAgICAgICAgICAgICAgICAgIAogICAgICAgICAgICAgICAgICAgICAgICAgICAgICAgICAgICAgICAgICAgICAgICAgICAgICAgICAgICAgICAgICAgICAgICAgICAgICAgICAgICAgICAgICAgICAgICAgICAgCiAgICAgICAgICAgICAgICAgICAgICAgICAgICAgICAgICAgICAgICAgICAgICAgICAgICAgICAgICAgICAgICAgICAgICAgICAgICAgICAgICAgICAgICAgICAgICAgICAgICAKICAgICAgICAgICAgICAgICAgICAgICAgICAgICAgICAgICAgICAgICAgICAgICAgICAgICAgICAgICAgICAgICAgICAgICAgICAgICAgICAgICAgICAgICAgICAgICAgICAgIAogICAgICAgICAgICAgICAgICAgICAgICAgICAgICAgICAgICAgICAgICAgICAgICAgICAgICAgICAgICAgICAgICAgICAgICAgICAgICAgICAgICAgICAgICAgICAgICAgICAgCiAgICAgICAgICAgICAgICAgICAgICAgICAgICAgICAgICAgICAgICAgICAgICAgICAgICAgICAgICAgICAgICAgICAgICAgICAgICAgICAgICAgICAgICAgICAgICAgICAgICAKICAgICAgICAgICAgICAgICAgICAgICAgICAgICAgICAgICAgICAgICAgICAgICAgICAgICAgICAgICAgICAgICAgICAgICAgICAgICAgICAgICAgICAgICAgICAgICAgICAgIAogICAgICAgICAgICAgICAgICAgICAgICAgICAgICAgICAgICAgICAgICAgICAgICAgICAgICAgICAgICAgICAgICAgICAgICAgICAgICAgICAgICAgICAgICAgICAgICAgICAgCiAgICAgICAgICAgICAgICAgICAgICAgICAgICAgICAgICAgICAgICAgICAgICAgICAgICAgICAgICAgICAgICAgICAgICAgICAgICAgICAgICAgICAgICAgICAgICAgICAgICAKICAgICAgICAgICAgICAgICAgICAgICAgICAgICAgICAgICAgICAgICAgICAgICAgICAgICAgICAgICAgICAgICAgICAgICAgICAgICAgICAgICAgICAgICAgICAgICAgICAgIAogICAgICAgICAgICAgICAgICAgICAgICAgICAgICAgICAgICAgICAgICAgICAgICAgICAgICAgICAgICAgICAgICAgICAgICAgICAgICAgICAgICAgICAgICAgICAgICAgICAgCiAgICAgICAgICAgICAgICAgICAgICAgICAgICAgICAgICAgICAgICAgICAgICAgICAgICAgICAgICAgICAgICAgICAgICAgICAgICAgICAgICAgICAgICAgICAgICAgICAgICAKICAgICAgICAgICAgICAgICAgICAgICAgICAgICAgICAgICAgICAgICAgICAgICAgICAgICAgICAgICAgICAgICAgICAgICAgICAgICAgICAgICAgICAgICAgICAgICAgICAgIAogICAgICAgICAgICAgICAgICAgICAgICAgICAgICAgICAgICAgICAgICAgICAgICAgICAgICAgICAgICAgICAgICAgICAgICAgICAgICAgICAgICAgICAgICAgICAgICAgICAgCiAgICAgICAgICAgICAgICAgICAgICAgICAgICAgICAgICAgICAgICAgICAgICAgICAgICAgICAgICAgICAgICAgICAgICAgICAgICAgICAgICAgICAgICAgICAgICAgICAgICAKICAgICAgICAgICAgICAgICAgICAgICAgICAgICAgICAgICAgICAgICAgICAgICAgICAgICAgICAgICAgICAgICAgICAgICAgICAgICAgICAgICAgICAgICAgICAgICAgICAgIAogICAgICAgICAgICAgICAgICAgICAgICAgICAgICAgICAgICAgICAgICAgICAgICAgICAgICAgICAgICAgICAgICAgICAgICAgICAgICAgICAgICAgICAgICAgICAgICAgICAgCiAgICAgICAgICAgICAgICAgICAgICAgICAgICAgICAgICAgICAgICAgICAgICAgICAgICAgICAgICAgICAgICAgICAgICAgICAgICAgICAgICAgICAgICAgICAgICAgICAgICAKICAgICAgICAgICAgICAgICAgICAgICAgICAgICAgICAgICAgICAgICAgICAgICAgICAgICAgICAgICAgICAgICAgICAgICAgICAgICAgICAgICAgICAgICAgICAgICAgICAgIAogICAgICAgICAgICAgICAgICAgICAgICAgICAgICAgICAgICAgICAgICAgICAgICAgICAgICAgICAgICAgICAgICAgICAgICAgICAgICAgICAgICAgICAgICAgICAgICAgICAgCiAgICAgICAgICAgICAgICAgICAgICAgICAgICAgICAgICAgICAgICAgICAgICAgICAgICAgICAgICAgICAgICAgICAgICAgICAgICAgICAgICAgICAgICAgICAgICAgICAgICAKICAgICAgICAgICAgICAgICAgICAgICAgICAgICAgICAgICAgICAgICAgICAgICAgICAgICAgICAgICAgICAgICAgICAgICAgICAgICAgICAgICAgICAgICAgICAgICAgICAgIAogICAgICAgICAgICAgICAgICAgICAgICAgICAgICAgICAgICAgICAgICAgICAgICAgICAgICAgICAgICAgICAgICAgICAgICAgICAgICAgICAgICAgICAgICAgICAgICAgICAgCiAgICAgICAgICAgICAgICAgICAgICAgICAgICAgICAgICAgICAgICAgICAgICAgICAgICAgICAgICAgICAgICAgICAgICAgICAgICAgICAgICAgICAgICAgICAgICAgICAgICAKICAgICAgICAgICAgICAgICAgICAgICAgICAgICAgICAgICAgICAgICAgICAgICAgICAgICAgICAgICAgICAgICAgICAgICAgICAgICAgICAgICAgICAgICAgICAgICAgICAgIAogICAgICAgICAgICAgICAgICAgICAgICAgICAgICAgICAgICAgICAgICAgICAgICAgICAgICAgICAgICAgICAgICAgICAgICAgICAgICAgICAgICAgICAgICAgICAgICAgICAgCiAgICAgICAgICAgICAgICAgICAgICAgICAgICAgICAgICAgICAgICAgICAgICAgICAgICAgICAgICAgICAgICAgICAgICAgICAgICAgICAgICAgICAgICAgICAgICAgICAgICAKICAgICAgICAgICAgICAgICAgICAgICAgICAgICAgICAgICAgICAgICAgICAgICAgICAgICAgICAgICAgICAgICAgICAgICAgICAgICAgICAgICAgICAgICAgICAgICAgICAgIAogICAgICAgICAgICAgICAgICAgICAgICAgICAgICAgICAgICAgICAgICAgICAgICAgICAgICAgICAgICAgICAgICAgICAgICAgICAgICAgICAgICAgICAgICAgICAgICAgICAgCiAgICAgICAgICAgICAgICAgICAgICAgICAgICAgICAgICAgICAgICAgICAgICAgICAgICAgICAgICAgICAgICAgICAgICAgICAgICAgICAgICAgICAgICAgICAgICAgICAgICAKICAgICAgICAgICAgICAgICAgICAgICAgICAgICAgICAgICAgICAgICAgICAgICAgICAgICAgICAgICAgICAgICAgICAgICAgICAgICAgICAgICAgICAgICAgICAgICAgICAgIAogICAgICAgICAgICAgICAgICAgICAgICAgICAgICAgICAgICAgICAgICAgICAgICAgICAgICAgICAgICAgICAgICAgICAgICAgICAgICAgICAgICAgICAgICAgICAgICAgICAgCiAgICAgICAgICAgICAgICAgICAgICAgICAgICAgICAgICAgICAgICAgICAgICAgICAgICAgICAgICAgICAgICAgICAgICAgICAgICAgICAgICAgICAgICAgICAgICAgICAgICAKICAgICAgICAgICAgICAgICAgICAgICAgICAgICAgICAgICAgICAgICAgICAgICAgICAgICAgICAgICAgICAgICAgICAgICAgICAgICAgICAgICAgICAgICAgICAgICAgICAgIAogICAgICAgICAgICAgICAgICAgICAgICAgICAgICAgICAgICAgICAgICAgICAgICAgICAgICAgICAgICAgICAgICAgICAgICAgICAgICAgICAgICAgICAgICAgICAgICAgICAgCiAgICAgICAgICAgICAgICAgICAgICAgICAgICAgICAgICAgICAgICAgICAgICAgICAgICAgICAgICAgICAgICAgICAgICAgICAgICAgICAgICAgICAgICAgICAgICAgICAgICAKICAgICAgICAgICAgICAgICAgICAgICAgICAgICAgICAgICAgICAgICAgICAgICAgICAgICAgICAgICAgICAgICAgICAgICAgICAgICAgICAgICAgICAgICAgICAgICAgICAgIAogICAgICAgICAgICAgICAgICAgICAgICAgICAgICAgICAgICAgICAgICAgICAgICAgICAgICAgICAgICAgICAgICAgICAgICAgICAgICAgICAgICAgICAgICAgICAgICAgICAgCiAgICAgICAgICAgICAgICAgICAgICAgICAgICAgICAgICAgICAgICAgICAgICAgICAgICAgICAgICAgICAgICAgICAgICAgICAgICAgICAgICAgICAgICAgICAgICAgICAgICAKICAgICAgICAgICAgICAgICAgICAgICAgICAgICAgICAgICAgICAgICAgICAgICAgICAgICAgICAgICAgICAgICAgICAgICAgICAgICAgICAgICAgICAgICAgICAgICAgICAgIAogICAgICAgICAgICAgICAgICAgICAgICAgICAgICAgICAgICAgICAgICAgICAgICAgICAgICAgICAgICAgICAgICAgICAgICAgICAgICAgICAgICAgICAgICAgICAgICAgICAgCiAgICAgICAgICAgICAgICAgICAgICAgICAgICAgICAgICAgICAgICAgICAgICAgICAgICAgICAgICAgICAgICAgICAgICAgICAgICAgICAgICAgICAgICAgICAgICAgICAgICAKICAgICAgICAgICAgICAgICAgICAgICAgICAgICAgICAgICAgICAgICAgICAgICAgICAgICAgICAgICAgICAgICAgICAgICAgICAgICAgICAgICAgICAgICAgICAgICAgICAgIAogICAgICAgICAgICAgICAgICAgICAgICAgICAgICAgICAgICAgICAgICAgICAgICAgICAgICAgICAgICAgICAgICAgICAgICAgICAgICAgICAgICAgICAgICAgICAgICAgICAgCiAgICAgICAgICAgICAgICAgICAgICAgICAgICAgICAgICAgICAgICAgICAgICAgICAgICAgICAgICAgICAgICAgICAgICAgICAgICAgICAgICAgICAgICAgICAgICAgICAgICAKICAgICAgICAgICAgICAgICAgICAgICAgICAgICAgICAgICAgICAgICAgICAgICAgICAgICAgICAgICAgICAgICAgICAgICAgICAgICAgICAgICAgICAgICAgICAgICAgICAgIAogICAgICAgICAgICAgICAgICAgICAgICAgICAgICAgICAgICAgICAgICAgICAgICAgICAgICAgICAgICAgICAgICAgICAgICAgICAgICAgICAgICAgICAgICAgICAgICAgICAgCiAgICAgICAgICAgICAgICAgICAgICAgICAgICAgICAgICAgICAgICAgICAgICAgICAgICAgICAgICAgICAgICAgICAgICAgICAgICAgICAgICAgICAgICAgICAgICAgICAgICAKICAgICAgICAgICAgICAgICAgICAgICAgICAgICAgICAgICAgICAgICAgICAgICAgICAgICAgICAgICAgICAgICAgICAgICAgICAgICAgICAgICAgICAgICAgICAgICAgICAgIAogICAgICAgICAgICAgICAgICAgICAgICAgICAgICAgICAgICAgICAgICAgICAgICAgICAgICAgICAgICAgICAgICAgICAgICAgICAgICAgICAgICAgICAgICAgICAgICAgICAgCiAgICAgICAgICAgICAgICAgICAgICAgICAgICAgICAgICAgICAgICAgICAgICAgICAgICAgICAgICAgICAgICAgICAgICAgICAgICAgICAgICAgICAgICAgICAgICAgICAgICAKICAgICAgICAgICAgICAgICAgICAgICAgICAgICAgICAgICAgICAgICAgICAgICAgICAgICAgICAgICAgICAgICAgICAgICAgICAgICAgICAgICAgICAgICAgICAgICAgICAgIAogICAgICAgICAgICAgICAgICAgICAgICAgICAgICAgICAgICAgICAgICAgICAgICAgICAgICAgICAgICAgICAgICAgICAgICAgICAgICAgICAgICAgICAgICAgICAgICAgICAgCiAgICAgICAgICAgICAgICAgICAgICAgICAgICAgICAgICAgICAgICAgICAgICAgICAgICAgICAgICAgICAgICAgICAgICAgICAgICAgICAgICAgICAgICAgICAgICAgICAgICAKICAgICAgICAgICAgICAgICAgICAgICAgICAgICAgICAgICAgICAgICAgICAgICAgICAgICAgICAgICAgICAgICAgICAgICAgICAgICAgICAgICAgICAgICAgICAgICAgICAgIAogICAgICAgICAgICAgICAgICAgICAgICAgICAgICAgICAgICAgICAgICAgICAgICAgICAgICAgICAgICAgICAgICAgICAgICAgICAgICAgICAgICAgICAgICAgICAgICAgICAgCiAgICAgICAgICAgICAgICAgICAgICAgICAgICAgICAgICAgICAgICAgICAgICAgICAgICAgICAgICAgICAgICAgICAgICAgICAgICAgICAgICAgICAgICAgICAgICAgICAgICAKICAgICAgICAgICAgICAgICAgICAgICAgICAgICAgICAgICAgICAgICAgICAgICAgICAgICAgICAgICAgICAgICAgICAgICAgICAgICAgICAgICAgICAgICAgICAgICAgICAgIAogICAgICAgICAgICAgICAgICAgICAgICAgICAgICAgICAgICAgICAgICAgICAgICAgICAgICAgICAgICAgICAgICAgICAgICAgICAgICAgICAgICAgICAgICAgICAgICAgICAgCiAgICAgICAgICAgICAgICAgICAgICAgICAgICAgICAgICAgICAgICAgICAgICAgICAgICAgICAgICAgICAgICAgICAgICAgICAgICAgICAgICAgICAgICAgICAgICAgICAgICAKICAgICAgICAgICAgICAgICAgICAgICAgICAgICAgICAgICAgICAgICAgICAgICAgICAgICAgICAgICAgICAgICAgICAgICAgICAgICAgICAgICAgICAgICAgICAgICAgICAgIAogICAgICAgICAgICAgICAgICAgICAgICAgICAgICAgICAgICAgICAgICAgICAgICAgICAgICAgICAgICAgICAgICAgICAgICAgICAgICAgICAgICAgICAgICAgICAgICAgICAgCiAgICAgICAgICAgICAgICAgICAgICAgICAgICAgICAgICAgICAgICAgICAgICAgICAgICAgICAgICAgICAgICAgICAgICAgICAgICAgICAgICAgICAgICAgICAgICAgICAgICAKICAgICAgICAgICAgICAgICAgICAgICAgICAgICAgICAgICAgICAgICAgICAgICAgICAgICAgICAgICAgICAgICAgICAgICAgICAgICAgICAgICAgICAgICAgICAgICAgICAgIAogICAgICAgICAgICAgICAgICAgICAgICAgICAgICAgICAgICAgICAgICAgICAgICAgICAgICAgICAgICAgICAgICAgICAgICAgICAgICAgICAgICAgICAgICAgICAgICAgICAgCiAgICAgICAgICAgICAgICAgICAgICAgICAgICAgICAgICAgICAgICAgICAgICAgICAgICAgICAgICAgICAgICAgICAgICAgICAgICAgICAgICAgICAgICAgICAgICAgICAgICAKICAgICAgICAgICAgICAgICAgICAgICAgICAgICAgICAgICAgICAgICAgICAgICAgICAgICAgICAgICAgICAgICAgICAgICAgICAgICAgICAgICAgICAgICAgICAgICAgICAgIAogICAgICAgICAgICAgICAgICAgICAgICAgICAgICAgICAgICAgICAgICAgICAgICAgICAgICAgICAgICAgICAgICAgICAgICAgICAgICAgICAgICAgICAgICAgICAgICAgICAgCiAgICAgICAgICAgICAgICAgICAgICAgICAgICAgICAgICAgICAgICAgICAgICAgICAgICAgICAgICAgICAgICAgICAgICAgICAgICAgICAgICAgICAgICAgICAgICAgICAgICAKICAgICAgICAgICAgICAgICAgICAgICAgICAgICAgICAgICAgICAgICAgICAgICAgICAgICAgICAgICAgICAgICAgICAgICAgICAgICAgICAgICAgICAgICAgICAgICAgICAgIAogICAgICAgICAgICAgICAgICAgICAgICAgICAgICAgICAgICAgICAgICAgICAgICAgICAgICAgICAgICAgICAgICAgICAgICAgICAgICAgICAgICAgICAgICAgICAgICAgICAgCiAgICAgICAgICAgICAgICAgICAgICAgICAgICAgICAgICAgICAgICAgICAgICAgICAgICAgICAgICAgICAgICAgICAgICAgICAgICAgICAgICAgICAgICAgICAgICAgICAgICAKICAgICAgICAgICAgICAgICAgICAgICAgICAgICAgICAgICAgICAgICAgICAgICAgICAgICAgICAgICAgICAgICAgICAgICAgICAgICAgICAgICAgICAgICAgICAgICAgICAgIAogICAgICAgICAgICAgICAgICAgICAgICAgICAgICAgICAgICAgICAgICAgICAgICAgICAgICAgICAgICAgICAgICAgICAgICAgICAgICAgICAgICAgICAgICAgICAgICAgICAgCiAgICAgICAgICAgICAgICAgICAgICAgICAgICAgICAgICAgICAgICAgICAgICAgICAgICAgICAgICAgICAgICAgICAgICAgICAgICAgICAgICAgICAgICAgICAgICAgICAgICAKICAgICAgICAgICAgICAgICAgICAgICAgICAgICAgICAgICAgICAgICAgICAgICAgICAgICAgICAgICAgICAgICAgICAgICAgICAgICAgICAgICAgICAgICAgICAgICAgICAgIAogICAgICAgICAgICAgICAgICAgICAgICAgICAgICAgICAgICAgICAgICAgICAgICAgICAgICAgICAgICAgICAgICAgICAgICAgICAgICAgICAgICAgICAgICAgICAgICAgICAgCiAgICAgICAgICAgICAgICAgICAgICAgICAgICAgICAgICAgICAgICAgICAgICAgICAgICAgICAgICAgICAgICAgICAgICAgICAgICAgICAgICAgICAgICAgICAgICAgICAgICAKICAgICAgICAgICAgICAgICAgICAgICAgICAgICAgICAgICAgICAgICAgICAgICAgICAgICAgICAgICAgICAgICAgICAgICAgICAgICAgICAgICAgICAgICAgICAgICAgICAgIAogICAgICAgICAgICAgICAgICAgICAgICAgICAgICAgICAgICAgICAgICAgICAgICAgICAgICAgICAgICAgICAgICAgPD94cGFja2V0IGVuZD0ndyc/Pv/bAEMAAwICAwICAwMDAwQDAwQFCAUFBAQFCgcHBggMCgwMCwoLCw0OEhANDhEOCwsQFhARExQVFRUMDxcYFhQYEhQVFP/bAEMBAwQEBQQFCQUFCRQNCw0UFBQUFBQUFBQUFBQUFBQUFBQUFBQUFBQUFBQUFBQUFBQUFBQUFBQUFBQUFBQUFBQUFP/AABEIAY8DqQMBIgACEQEDEQH/xAAfAAABBQEBAQEBAQAAAAAAAAAAAQIDBAUGBwgJCgv/xAC1EAACAQMDAgQDBQUEBAAAAX0BAgMABBEFEiExQQYTUWEHInEUMoGRoQgjQrHBFVLR8CQzYnKCCQoWFxgZGiUmJygpKjQ1Njc4OTpDREVGR0hJSlNUVVZXWFlaY2RlZmdoaWpzdHV2d3h5eoOEhYaHiImKkpOUlZaXmJmaoqOkpaanqKmqsrO0tba3uLm6wsPExcbHyMnK0tPU1dbX2Nna4eLj5OXm5+jp6vHy8/T19vf4+fr/xAAfAQADAQEBAQEBAQEBAAAAAAAAAQIDBAUGBwgJCgv/xAC1EQACAQIEBAMEBwUEBAABAncAAQIDEQQFITEGEkFRB2FxEyIygQgUQpGhscEJIzNS8BVictEKFiQ04SXxFxgZGiYnKCkqNTY3ODk6Q0RFRkdISUpTVFVWV1hZWmNkZWZnaGlqc3R1dnd4eXqCg4SFhoeIiYqSk5SVlpeYmZqio6Slpqeoqaqys7S1tre4ubrCw8TFxsfIycrS09TV1tfY2dri4+Tl5ufo6ery8/T19vf4+fr/2gAMAwEAAhEDEQA/AP0bpPXHJxnFLXjvj74yaz4T8XX+l2lrYPb25iZWlicvzGrHOH/2hVUqTrOyOOvXp4ePNI9i/wA9aSvnv/hoTxH/AM+emf8AfqT/AOLo/wCGhPEf/Pnpn/fqT/4uur6lV7nF/a2H/mZ9CUV89/8ADQniP/nz0z/v1J/8XR/w0J4j/wCfPTP+/Un/AMXR9Tq9w/tbD/zM+hKK+e/+GhPEf/Pnpn/fqT/4uj/hoTxH/wA+emf9+pP/AIuj6nV7h/a2H/mZ9CUV89/8NCeI/wDnz0z/AL9Sf/F0f8NCeI/+fPTP+/Un/wAXR9Tq9w/tbD/zM+hKK+e/+GhPEf8Az56Z/wB+pP8A4uj/AIaE8R/8+emf9+pP/i6PqdXuH9rYf+Zn0JRXz3/w0J4j/wCfPTP+/Un/AMXR/wANCeI/+fPTP+/Un/xdH1Or3D+1sP8AzM+hKK+e/wDhoTxH/wA+emf9+pP/AIuj/hoTxH/z56Z/36k/+Lo+p1e4f2th/wCZn0JRXz3/AMNCeI/+fPTP+/Un/wAXR/w0J4j/AOfPTP8Av1J/8XR9Tq9w/tbD/wAzPoSivnv/AIaE8R/8+emf9+pP/i6P+GhPEf8Az56Z/wB+pP8A4uj6nV7h/a2H/mZ9CUV89/8ADQniP/nz0z/v1J/8XR/w0J4j/wCfPTP+/Un/AMXR9Tq9w/tbD/zM+hKK+e/+GhPEf/Pnpn/fqT/4uj/hoTxH/wA+emf9+pP/AIuj6nV7h/a2H/mZ9CUV89/8NCeI/wDnz0z/AL9Sf/F0f8NCeI/+fPTP+/Un/wAXR9Tq9w/tbD/zM+hKK+e/+GhPEf8Az56Z/wB+pP8A4uj/AIaE8R/8+emf9+pP/i6PqdXuH9rYf+Zn0JRXz3/w0J4j/wCfPTP+/Un/AMXR/wANCeI/+fPTP+/Un/xdH1Or3D+1sP8AzM+hKXnj0zjOa+ev+GhPEf8Az56Z/wB+pP8A4uvZPAPiK58WeD9P1S7SJLi4Eqssa/LxIyjGT/smsKmHnRV2bUcdRxMuWKOhooornPQCiiigAooooAKKKKACiiigAooooAPXucZxmj/PWvHfH3xj1jwn4vv9LtLWwkt7cxMrSxOXOY1Y5w/+0K5z/hoPxH/z5aX/AN+pP/i67VhasldM8uWaUIScXJ3R9CUV89/8NCeI/wDnz0z/AL9Sf/F0f8NCeI/+fPTP+/Un/wAXVfU6vcn+1sP/ADM+hKK+e/8AhoTxH/z56Z/36k/+Lo/4aE8R/wDPnpn/AH6k/wDi6PqdXuH9rYf+Zn0JRXz3/wANCeI/+fPTP+/Un/xdH/DQniP/AJ89M/79Sf8AxdH1Or3D+1sP/Mz6Eor57/4aE8R/8+emf9+pP/i6P+GhPEf/AD56Z/36k/8Ai6PqdXuH9rYf+Zn0JRXz3/w0J4j/AOfPTP8Av1J/8XR/w0J4j/589M/79Sf/ABdH1Or3D+1sP/Mz6Eor57/4aE8R/wDPnpn/AH6k/wDi6P8AhoTxH/z56Z/36k/+Lo+p1e4f2th/5mfQlFfPf/DQniP/AJ89M/79Sf8AxdH/AA0J4j/589M/79Sf/F0fU6vcP7Ww/wDMz6Eor57/AOGhPEf/AD56Z/36k/8Ai6P+GhPEf/Pnpn/fqT/4uj6nV7h/a2H/AJmfQlFfPf8Aw0J4j/589M/79Sf/ABdH/DQniP8A589M/wC/Un/xdH1Or3D+1sP/ADM+hKK+e/8AhoTxH/z56Z/36k/+Lo/4aE8R/wDPnpn/AH6k/wDi6PqdXuH9rYf+Zn0JRXz3/wANCeI/+fPTP+/Un/xdH/DQniP/AJ89M/79Sf8AxdH1Or3D+1sP/Mz6Eor57/4aE8R/8+emf9+pP/i6P+GhPEf/AD56Z/36k/8Ai6PqdXuH9rYf+Zn0JRXz3/w0J4j/AOfPTP8Av1J/8XR/w0J4j/589M/79Sf/ABdH1Or3D+1sP/Mz6Eor57/4aE8R/wDPnpn/AH6k/wDi6P8AhoTxH/z56Z/36k/+Lo+p1e4f2th/5mfQvp2GcZzRXPeAfEVz4s8H6fql2kSXFwJVZY1+XiRlGMn/AGTXQ1xSTi7M9SMlOKktmFFFFSUFFFFABRRRQAUUUUAFFFFABRRRQAUUUUAFFJ0ODweuOtL6ep6DvQPpcKbu/L6iqOseINN8PxNJqN9BaKvaRwG/Bep/AV5/rH7QGi2bPHp0F1qLr0fiOP8AXn9K2jRqS2RzTxNOlvI9QGGGQQfxpPz/ACNfO+r/AB88RahlbVLawjJ42KZGA/4HkH8h9K5HVPG+v6wf9J1i8kU9U83Yn/fKgCuyGCqP4meXUzikvhVz6rvtYsdMXdd3lvar6zSBB+prEuviZ4XshmTW7Uj/AKZMZP8A0HNfKjMXYs3LE5J5Gf1pB8vIx+VdEcCurPPlnMpbRPpif42eEoc7dQkl/wCucD/1AqnJ8evDC/dF5L/uxL/VhXzpubuT/wB9GjPuav6hSMf7Wrn0L/w0F4a/599R/wC/Sf8AxdSR/H3wy/3o76MerxJ/8XXztn6/nRu9sfjmj6jRJ/tbEH0nD8cfCUv3ryaH/rpA39M1qWfxT8KX2PL1u3Gf+eiun8wK+V+nr/30aD83X9B/jmj6hSNYZxWjuj7CsfEWk6o2LPU7O5b0inVj+QNaP0yfwOPzr4s/H8+a0tP8SatpLqbPUru2C8bYpiF/75ORWUsD/KzpjnV/iifYPA6kD6mk4PII/Ovm3Sfjh4n00Ksk8N+gP/LxGAcfVACfzrttH/aIsZtv9rafNbHOPMtX3r9SDyB+dccsHOOyuehTzPDT+PQ9dorC0LxxoXiZQdP1OCZz/wAs2bY//fLYJ/Ct7bhtpyrYzgqQfyxn8elc0oSjuj04VIVPgdxKKOPX6e/40fUYNRuX5BRRRQAUUUUAFFFFABXzB8Zv+Slaz9If/RMdfT9fMHxm/wCSlaz9If8A0THXpYD+Kzws2/gI4uiiivcPjwooooAKKKKACiiigAooooAKKKKACiiigAooooAKKKKACiiigAooooAKKKKACiiigAooooAK+nvgz/yTXRvrN/6Okr5hr6e+DP8AyTXRvrN/6Okrzsd/Die7lH8dnaUtJS14R9iFFFFAgooooAKKKKACiiigAooooA+YPjN/yUrWfpD/AOiY64uu0+M3/JStZ+kP/omOuLr6el8CPzzEf7xMKKKK2OUKKKKYBRRRQAUUUUAFFFFABRRRQAUUUUAFFFFABRRRQAUUUUAFFFFABRRRQAUUUUAFFFFAH098Gf8AkmujfWb/ANHSV2lcX8Gf+Sa6N9Zv/R0ldpXy1b+Iz9Cw3+7xFooorI6wooooAKKKKACiiigAooooAKKKPT3oDyCkHzZx261na54h0/w3YNd6jcpbQjpu6sfQDua8I8dfGrUfETPaaWX03TeRuU/vpPcsOgPoK6KeHlWfkcOIx1PCx3uz1vxd8TdD8IboZ7jz73GRaWxDOT7nOAPxzXkHib4465rReKw2aRaNxiL5pD/wI9DXnRYsWYlizHLc8k+pPc0le1Sw0Ibny9bMqtZ2WiJbq6lvpjLcyy3Ep58yRyxJ9Tn/AOtUPPfn3Lf0paK6rJbI8iTcviYc9+tFFFUAUUUUAFFFFABRRRQAUUUUAFFFFABSj5eQSD6jikooAckjRsHVmWQHh1O0/nXY+Gfiz4h8NlIxdtfWoPNvdkuMex6j8zXGUVEoQlujSnVlT2bPpLwn8bNE8QulvdZ0m+fgRzNujf6N/jivQFIZQVIKsMgggjH1FfFvt/D6dvrXX+DfifrHg6RESY3lgTh7Oc5UD1Vuo+lebVwaWsD6DDZs/wCHXV13PqSiub8G+PtK8bWpexl23MY/fWsh/eR+/wDtD6ZPqBXSe4+Ye1eRKLg7SPpqc41I80HdBRR+tFSWFFFFABXzB8Zv+Slaz9If/RMdfT9fMHxm/wCSlaz9If8A0THXpYD+Kzws2/gI4uiiivcPjwooooAKKKKBhRRRQIKKKKACiiigAooooAKKKKACiiikAUUUUAFFFFMAooooAKKKKACiiigAr6e+DP8AyTXRvrN/6Okr5hr6e+DP/JNdG+s3/o6SvOx38OJ7uUfx2dpS0lLXhH2IUUUUCCiiigAooooAKKKKACiiigD5g+M3/JStZ+kP/omOuLrtPjN/yUrWfpD/AOiY64uvp6XwI/PMR/vEwooorY5Qooopj3CiiigLBRRRQIKKKKACiiigYUUUUCCiiigNwooopXDyCiiimMKKKKACiiigQUUUUAFFFFAH098Gf+Sa6N9Zv/R0ldpXF/Bn/kmujfWb/wBHSV2lfLVv4jP0LDf7vEWiiisjrCiiigAooooAKKKKACiiigfkJ9Ofauc8c+OrHwPphuLhhNdvlba3Xq7euPQVd8VeJLXwnok+pXZ+WMbY17vIeiivlbxJ4gu/FWr3GoXkpeSQ4VR0RM8KPTA4zXZh8O6ju9jycxxqwsfZL4iXxR4t1LxdqT3moTmRv+WcSn5Ix6L6Y9e9Y/Tj+QxQaK+gjGMVyo+JnOc3zSYUUUVViQooopbAFFFFMAooooAKKKKACiiigAooooAKKKKVwCiiimMKKKKBbhRRRQBZ0/UrrSbyG8sp3trqFt0ciH7vr+fevoj4YfFSHxkq2F9sg1iMZG0BVnHcqM9fb+dfN1SW88lpPHNDI0csbB1ZTg5HvXLXw8ayv1O7C4uphp3vofZy/MoPRT3pf0ri/hf4+Txxo+LgqNUt8LcL0LjH3wPeu0578nvXz04OD5WfdUqka0FUjswoooqDUK+YPjN/yUrWfpD/AOiY6+n6+YPjN/yUrWfpD/6Jjr0sB/FZ4WbfwEcXRRRXuHx4UMQoyTj096KPoccEev40AHJ6DPr7UfoOOTx1rw/4heA/iHpWm+Itfs/ive29taxT3sGnjSYGCIuWEfmE5OBwDjnFYPwi8O/Er4ieBdC8UzfFm9tRfRmZrP8AsmBwFDkbd2R1we1YxqN1OS2x3fV4ey9pzn0dyOCMGiq/2y3hLRPcxeZFGZHBkQFUHV2GflGeOcc063vLe8tTc29xHPbgEmWJtyD8RwK05lqzj5Wt0TUcZwSByBkkY5FVbTVLLUPM+y3lvdeX9/yZVcp9QDXKahp/iaT4qafd2+v2sPhiPTpEm0ZpFEzzFnAkC45UEjJz2PWp5nzJLZlRpu9pM7WioJNQtEa4LXcCiAFpmaRQIhjOW/u9+D1wcU+1uob+1E1tItxG2QHhIcZ9OO/+FXFqXwicWle2hJwWwCrHphWBP5UVx3gCx8T2OreKX17XoNaspdRMmmwWwJNpBk4jkOwYIXA6np1rpZNY0+2hjkkv7aOF22JK0y7GOcYDZwcHr6YNLmX6g6bUvd1LlFJu3IGX5wem0g5PGAPXPtxxVb+1rD7VLbG+tRPEu+RPOXKLjO489P8AA07oSi27JFqlxzjnOQOh/P6VXs7+21Cziu7aeO4tpkDxywuHVwemCMivHP2l/FniPw7/AMINp/h3WpdBudY1yPTZbmKGOXarjGdpHOCfWonL2fS5rRoutPl2Pam+UZPT+f09aDxzj5fWvE77wL8X/Ctq2oaR8RrfxPJbKZG03VNHhgWZQMsBJHlgT2H612/wg+Jlv8VfB8OrJa/YtQhme0v7Anm3uFwGTk56nIPpjOKcanM2mrWNKmH9muaDujtaTPX1HUdMVVh1awmujaR31tJcoPmiWZd49Btzk568Vwfx8+Kk/wAJ/h/PrFjBb3F+ZoYoo7lsD5nClgO+B27USlGK5m9DOnSlUlypano/60VW0+9i1CCNoZ47pjtUmNlPzEZ6A8etNt9YsLu6a2gvreadesSSgv8A989f0qrpbmfJK7sti3RRRTICiiigAr6e+DP/ACTXRvrN/wCjpK+Ya+nvgz/yTXRvrN/6Okrzsd/Die7lH8dnaUtJS14R9iFFFFAgooooAKKKKACiiigAooo/TjJ9qAPmD4zf8lK1n6Q/+iY64uu0+M3/ACUrWfpD/wCiY64uvp6XwI/PMR/vEwooorY5QpGYLyeBjNLWR4t0nUtc8O3dlpOsyaBqEgxDqEUIlMPPJ2kgHP1ok2thqPNKzdka/oO/8h656UoVmxhWOTjoeK+WPinZfE34can4Psl+K17qI8QarHphdtKgjEIYj5tuTnk9M17F4F8A+LvDesNe698RLjxXZmJk+yT6XDbqrk8NlST7dOtZ06kqjtY66uHjSpqale+x6JRVS51WysbqO1uLu3trh/uwzSojHjPQkdqt/TB6Z5HGemc9K0ujj1TSa3ClxyAOS3QevtVS11WxvhIba9trkRsFbyZlfBP0Nec3nxelh+PVr4GBtIdMOktqFxds4EjSByqp7Yx+IqXKKsm9zeNGUr2Wyuen7hwMjJ6cjn/PvS1xfiWz8R3njzwrdaVr9nZ+H4xMdR06SRRJegoNmwY5x9a66S+t4mlWS4iVok82QM4yidNzDsM4H4iiM9feIlT5dnfqTUVBa31tf2xuLWeO5gBIMkLBlBGeD+RpL7UbTS1R7u5htldtqGaRV3HOMAE8/hVaaeZCTbskWKMgNgkA4z8xA9PX61Wj1K0mvpLOO7t5LuJVeSBJVZ0VjhCyg5AODjjsazvG2pXGk+CdfvbWRoLm1sbieJlxlHERIPOecgUnUUafPuUqblUUHobKsGI5H5g/yoz7c9MZGa+bfhPoXxT+JHw50XxRH8W7mxnvYpJFtZtGt50UhyMFiRnO05OK7X4c/E7xFa+Pbr4fePILRNfFt9ssdTsV8q21GEHBJTHDDknH901nGpe3MrX2OiWFS5uWV3Hc9e/z0xR3x0Pbjr71VvdUstNjEl5e29pG3R7iZVHXHc9c9utTTXUMFu08sqrDjIzINpXHqOg3Y6+tacytcw5WSdwP9rb1orzH4E/Fqf4q+GbzVdQFpbXR1G4t4baFgD5agBOvU+/sa9EvtVsdN2NeXttaI/3XnnVAecdzzzRzJlShKMnFrVFqikVg2Oe2euRj6jg0p44qjLrYKKKKBBRRRQB9PfBn/kmujfWb/wBHSV2lcX8Gf+Sa6N9Zv/R0ldpXy1b+Iz9Dw3+7xFooorI6gooooAKKKKACiiigApMj177aMjGcgD+9279+nY+/FVNYvBpmkX94wwILeSUnIONq549+aaV3ZCqS5Y83Y8B+N3i1ta8SDSoz/oWnv5fB+9K3LE+6nIrzYdBUt1cyXVzLcSNvnkdpGY9CxOSai6cDpX01OmqcUkfnWIqSrVHOTCiiitjAQnAyfy9aXI+bBB2jc2CMgeuKOR0O0ZJBHJ+6f618wfAb9oLXdU+J+v8AhrxTdyXOn3OoXNvpF1MoCxzQt/qBgcgoQefb1FZyqctRQ7nRTw8qlOU10Pp5mCsFJAY9ASAfyNKCD3AGQMkgdRmvIfip421rw58YPhdo2n3z2+mavNdpe2642T7VXbnIJGM9q6rUtP8AEsnxV0+8ttftYvC0enSJLozOBNJMWcCULjlQSMnPY9acZ875bB7G0U291c7JZFbIBBI6gEH+VOryL4ceONb1746fE7Q73UJJ9J0trQWVuwXEBZMkjAGc4716leatYaaUF3eW9pv4QTSqu7scZPY8UU5qULkVKLpT5d/+CWx8xwOTQvzNgdf/AK1ZnieC+ufDOqR6ddRWN+1nN9nupyNkD7XCuT6A4NVPAlvq1j4R0qDXtTh1rV449s+oWzbkmbdkspwMgj2FVd7E+z91u+pvEHy94BK4yDjGfpmjjdtyCcZ+XnjseK8l/af8Yax4B+Et3rGgXrabqcd5bxrdRojFQSFP3lI71zniXwz8WvAPhe88SWfxJHiIWFu17LpGpaPCkU8SqWcCRcndgHHHPHIrGVfld7aI6qWHlKKbkrvY995HBBB9CMGiuX+Hvjq18deB9A18BbP+1LdHWBmA/eHIZFz97DKwHfpW/DqVncTSQxXcEssRxJHHKrNGfRgDkVtzI5JRcVdlmiqkmrWUN8tlJeW0d42ALdp0D89sZ9OatjJ/hYHGcMMH6HPT8ad1a4nFppNbiFlXG4hB6scDqB/Wl7dvcbgT9etcR8UPFx0v4a+L7/RNSjXUrDTbiZHtXWRoysZYsRzgDA5/KuTs77xl44+AXhPUtI8TW+keI7qC3uZtTvnWMOCG8xT8p+Zj7Vl7TV2Wx0+waSbe7sew+YpZQCpLDIG4U6vIfi5421zw18U/hXo+nXz21lrF/PHfQRgFbgBYsA8HGCT0Nesz3cFqqGeeOEScI0pCB/pnr+HofQ1cZNuzM5UXBJrW6uS0D5jgcmq97qNrpqK15cxWYbhftDhCT6AHv7VS8SR3l94Z1KPSruO1vpLSYW144LRwyFHCOSB0zir5rQbSuZ8jcknojVX5mwOv/wBagEEZHIrA8B2+rWPhHSode1KHWNYji23F9bnKTNuySvAzx7Dmt8DaAPSmnpqJqzcewUUUUhG94H8US+EPEVvqEZJVf3cq/wB+NmwR9Qa+s45EnjWSIho3AZGHQgjIIr4u/DI6f419PfB/VpNX8A6eXbdNbiS3J9lIC/oRXk46mrc6PpMnxDTdF9DtKWg9TjpRXjn1IV8wfGb/AJKVrP0h/wDRMdfT9fMHxm/5KVrP0h/9Ex16WA/is8LNv4COLooor3D48KKKKAOY+KX/ACTPxZ/2Cbr/ANFNXIfstf8AJAPB3/Xm3/ox673xno83iLwhrmlWzRpcX1jNbRtKSEDOhUFiATjJ7A1h/BjwTffDr4YaB4c1KW3nvtPgMUslqzNGSXZvlLKDjBHUCsYpqtKXSy/M6uZfV3G+vN+h4f4g+H9n8Sv2vda0vVZJn0aHRILi6so5niW7wUCI5U/dDMre+weprsPi54R+HHgPwHpXh28vb3wzotzqPmjStF3NNqZ43RleWI+YcZxyOeRnqdJ+GWqWHx/1rxzJPZnSb3SY7GOFXfzxIrRkkjbt2/If4s9OKrfGr4V61401Twv4i8L31lbeJPDs7zW8OqIWtZ1cKGV9uWBAUYwPXpwRzqM4wTtq2eh7eM63LzJRSX32PBfEl/4W8E+IvB2t+BfBfivwVfx6vb29zNfWM8Frd2rn5kYuxBb09QCa9U8RZH7ZfhiPp/xTUoPO4ffl/wDrc+1UPHHwh+K3xYj0W58Raz4esG0vU4LuPS9OE4t3CnLSuzqxaQD5QuNuCeRXe6t8MdTvv2g9H8dRT2i6PZaQ+nvA7t9oLlmIIATaVwRzkfSnThPmjfo/0HVqUrXT1szyfw38NdF+JX7S3xSj8QRS3+l2TWkg09pnWGWRovlZwrDO3BAH+1W38IdBg+Gn7SHjHwZojSQ+GpdIi1SGykkZxDJujU7STn+N/wAMV3ngP4Y6p4X+Lfj/AMU3dxZyaf4gNt9ljhdzKnlxlW3gqAOTxgmn6Z8M9Usvj/rHjl57Q6TeaIumxwq7eeJA6Nkjbt24U/xZ6cVMKc4Rg+utwlXi+aCatZW9bHB/AX5te+OgcK5Gu3A3MM9pOMVyf7MvwG8I/EP4MWeqeJrGTWbq4kuI4fOuZVFrGrsoWMKwAJbLE4Nev/DP4V6t4L1T4k3N7cWcqeJdTlvbQW7uSiMGAEmVGD8w6Z+tX/2f/hzqXwp+F2neG9Wntbm+t3mZ5LN2aI75GYYLKp6Edqrklb/t234kzxKhzcjXxL7rani3w/8AEniex/ZP8dx6ZfT3Op+H7y8061u2y0iQo0ZJz2IRnx6AfhXG+O/B/wAK7X9nmw1jQ9QhfxjcQW5jmhv3a8uJ3K+dG8e45zufcMDFeheLPhvN8Mf2b/iJpfiHV4bR9U1WW+t59P3y58x4/LiZSFwWKFW7bW6npWbpNl4g+GFjF4p134H+HbgWdutzPqGi3MMUtvGqAlxCwb5ueSOpzzXPzNSSk9D0YyXx09btv1PpTwNpqaP4M0SyisY9NSKxiBtIchY32DK++On4V5B+1Gu3W/hJ/wBjba4HA7rivZPB/imx8ceGdN13THd7PUIFuIhIuHwexHTIrz/4+fDPxJ8QYvCk3ha50u3v9D1dNUH9pvKkLlAdv+rUsTuPqOK7aqfLeOuqPDwto1v3jtueqjH3sgqPunj5vlyR+VfLnwxvtMh8PfHG+vten8PeGrjX5UTVbZ/mj3Fg7RDGSSCmNue1dxqnhX43+MreTTtV8SeFfDOmzr5c83h2G5kuGQnkAzHAJHGQRV/xV+znpF98D5Ph7ocv9npHsnt7uZdxe4V9xeX13cg47HgcAVFTmqTlUStubUvZ0Ieyc73aPB/FGk/DeH4d3t54Y8D+NrbVraA3Vn4r/s65H7wAMZpJS23acEk4AAbj26L9o/SLDxr+zv4V8b6rYxzeJpYbEfbFdhtEoQyDG7a2STzgY9a7TxH8PPjN8RPB934Z1zV/C+k2BtzGZtLSfzr1wCFV2Yfu4243bR07V0Hi74I3/ir9nvTvArXtvb6xY2dqqzpuaAzwqo6kbtpK+mfasuWbjNNdrHc68FUpyUlu7+gzxJ4D8BfCX4U6+tveT+BdK1KJBd32nzu1wxzwqFixJYAjAA4714N460/4f6R8PZNV8HeB/Gej65YxrdWnib+zrlIywcZeWVnI2MueSOte0+JvhZ4/+LXwwutD8YXeh6dq1pcQ3OmXOlCUxs8YIJmDY+8WJ4HfpWd4y+G/xk+K3hC+0HxFqvhfSbV4cBdKE+buQEECR3UlI8gHCg9AMc1Uudu6XQjD1IU9Zy3bvr0Pa/BWqS694O0LUp8Ce8sILiTaQRueNWOMe5rZrI8F6TP4e8I6Jpd2yPdWVjBbStESVLpGqsQSASMg9hWvXceFLd2CiiigkK+mPg5fW0fw80WF7mFJd0w2M4yD5znkdRwQa+Z6NL/4J0fCH4v2I8W6/FrY1XVZpZrk2uolEZvNdeFKnHC152O/hxPeyj+Oz7NS8gZRiVPpuFSLIG6EH8RXxkf+CTHwLYD5vE6/TU0/+NVG3/BJX4H/AMNz4qX6anH/APGq8M+wPtLcPUfmKN3+civi3/h0x8F/4NT8Yx/7uqxf/GKT/h038IP4fEHjiP8A3dVh/wDjFAH2nn/OaK+LP+HT/wAKOieLviBH/u6tb/8AyPSf8Oo/hkOE8dfEaP8A3dYtv/kagD7VwfQ/kaPwr4q/4dT/AA7X7nxC+JI/7jFt/wDI1L/w6x8Dr/q/iX8SV/7i8H/yPQB9qfp+BpNw9a+K/wDh1v4UX/V/Fb4kp7f2rF/8apf+HYOgr/q/i/8AEpf+4rH/APG6APtT+VfPek/txfDaf9oHW/hPqVxcaDrmnXSWtveakoW0vZ9o3RI4Y4OTxvCgkYBJIB8uP/BMjTl/1fxp+JKf9xNf/ia+MLr/AIJ8/Enx7+0h4r8IaZDqn/CO6feMJfGXiaJ9ssOARKH6Tybc4VPxK9QAfoJ8Ysf8LG1c54xB+XkxjP09xxXGnOTkYNaGveC1+Hd5B4YGp3etjSLK1s/7Rvn33FwFt4gWZvfGce9Z3Pfk96+mpfAj87xH+8TCiiitjlCiiimB4L+09/yM/wAIP+xpg/8AQhXrvjjX5fCfgnXtciUPLp9hNfJ9Y0YgEemQfxxXIfGL4Zap8QtY8CXenXFnBHoOtRajci6d1LxqQSE2qctx3wPevQ9S0231jTbrT7tPMtLqJoJY/wC8jKVZf1JrlUZcsrb3f5HoyqQcqL6Ja/efF3gXS/A/ibwWmqeMPAXjnxd4k1RWuLvWLfTLiRSW5UwurgBVBAHrj0rqLDR/iN44/Zp1Tw/Daa0mp2GqeTbRamrWt5fWChWRQGwScNjOcYB5zXa6H4B+MPwu0tvDXhHVPDOreHIywsLjWFnS5tFZt2CEyp25wPp0HSuv1X4f+OdT+H+m2Z8ctF4vsrkXg1OCExW85BYiGRFILx/MRzzwDjtWXK3Bqz2X9WPQliEmkpJ699vwPK/hfb/DW0+I3h2PTdI8SfDDxXGDGNLu1lhTU1KnKMz7w4HY/KTkGqGsfBfwbqX7W50O70SJtKvNBfU57dZZkV7hpiGkzvyPXAOBnpXcf8Kr+I3xF8c+GdU8f3Phyy0rw/cfaobfQVmMlzKMYLNIMhflHAPrxWt8Svhj4vb4paZ8QPBFxpDanDYPptzY6sJViMZbcGUxck5PfH41UYOKg2tmyJVVzy5ZrWNvmc/8R9NttD/aE+CGn2Ef2aytob2GCFSWCIsKqi5JycY71g618P8ATPiL+17r2m6yss+lQ6FBPJZpM8aT/cUK5Ug4ywPvtFek+Ivhn4k8T/Er4a+K7u40yNtAhm/tSKOST55ZIwD5IKnKhs/eYHGOtW9J+GOq2P7QGteOZLizOk3ukx2EcKu/niRWjJJG3bt+Q/xZ6cU/ZylJN92Ze2jGN01flt87nnnhvwzY/CP9qmx0DwwjWWh69ocl1Np29mjWVGbDKGJxnyx9AxrF07RvCPjj43fEWL4r3MJvNPnjh0u01S7NvFHZspYPH8ygnbtOffNeu6z8MNUv/j94f8crc2cekafpE1lNG7v9o3sZCCoC7dvzDqwPXivB9N8Hat4k8cfES80TwXofxI0f+3ZS9zrG23u0mxl4I3fOUT7oyAOOK53zR5Yvpzf8A6KElVTmnraP39Tt/wBjzR9Ptrr4gXulxLcaaurG007VpGMkk1uuVRFYnJVQowfevaviRj/hXfinHT+yrrqMf8sWrkPgx8TLTxFd6p4Qfwo3gnWfD6oJdFV0eFFcZVo2UDPGOemMV3nizSZte8KazpluyJcXtlNbxtKTtDPGVBYgE4yfSuq3NQtHsedWlJYpOasr/wCR57+ykR/wz/4OHf7O/wCs0gzXPfFCT7V+1F8J4LMZvre2vp5wv3hCEJ2nPQHa/wCJqj4F8AfHLwD4J0zwtpt74CSxsUaKK4k+2STKGZmZsFQhOWzyuK7r4X/Bp/B+vX3irxHrD+J/GWoIsc+oSRCOOKIEERRIOFXgcjH3enNHNKpypq3L/kbXp0nUnKSlzX28zyzxYPhbrnxI8Q3Gq2Hib4napHKIZIbG0muoNNCggwp5ZUDkYwckHv1NP+AdjpHjBviX4CvdM1FfBNrcWtxbaPrfmQz2yMWYxH5tyjdGG+8eMZHJroNC+FfxP+Fur+IrbwPe+Gr3QNYvpNQV9cSf7Rbu/UfJkNt4wT1x0Fb/AMF/hD4h+HvjLxlrWu61b64dcNtItwhYSmRFfzNylcKm5yFUFsKAO1cyp1GrNdGdU61JRfLJaWsec/sc/C3wrceFW8VT6PG+v2Oq3MMF40r/ACBQABjfs6P1Ipmsw/CrxB468S3d7pXiv4r6kbkxyzWNnNeR2IAP7iNkKqFHQYB+veu5+Efwx+IPwm1u50S0utDv/A09/Lem6lMy3yq68IABsyCFzz2J9qzPCvwp+KXwpfVNG8GXnhi98N3t7JeW9xrCTG5ti3BztG1tuBjPXHarlC6SSf8AX5GXtFzzm57tW1Hfsn608jeOfDduNSt9D0fU1OnWmrKVuLOORG/dsrEsMbcYPSvoD8Nvt6V5L8D/AIR638M9a8ZXms6vBrTa1cw3KXce5ZpGVW3l1xhAS3CqWAHGeK9artp39mubdHBiZxlWbhswoooqzjCiiigD3j4YfFDwb4f8DaXYap4t0LTb6Iyh7W81OCKVczOeUZwRwQeRXTf8Lu+HKgZ8f+Fsf9hq2/8Ai68A8N/sH/BH4paNF4o8R+D3vdZ1SaSa8nTVLuESsJWXO2OVVHC56dTWoP8Agmj+zmfveAJGPf8A4nmof/H6+Xq/xGfouGt9Xge0N8dPhsvX4g+FR/3Grb/4uo2+PnwxX73xG8Jr9dctf/jlePL/AME0/wBnBevw7Y/9xzUf/kinj/gmv+zgvT4cj8db1I/+3NYnQetN+0J8LV+98SvB6/XXrT/45TT+0R8KV+98TvByj1Ov2v8A8crytf8Agm7+zkvT4cp+Osaif/bmnj/gnJ+zovT4bw/jq18f/a1AHpx/aQ+Eo6/FLwWPr4htP/jlRt+0t8IV+98VPBK/XxDaf/HK85X/AIJ1/s7L/wA02tz9dSvP/j1PH/BPH9nlenw1s/xv7w/+1qYz0Bv2nvg4v3viz4HX6+I7P/45TG/ak+DK/wDNWvAx+niOz/8AjlcKP+Ce37PS9PhpY/jeXR/9q09f+Cff7Pi/80z078bm6P8A7VoA4f8Aa2/b68P/AAj+Humat8MvEfg7x34guNWgs59Pj1Nbvy7Uxyu7lIpcgZjQBidoMg4NdN8Kf2wPBP7UXwk1+fQpm0vxJa2Bl1LQbtwbiBdwUup6Sx5IUOvUlQVVmC15T+1n/wAE2/DXij4dabafBjwdpGieKE1WGS5uJLuVQ1n5cyupyzj77Qt0zhDzwM+n/s1fsM+F/wBm7wVrCxznxB431Wwa1v8AW5hhdpUt5UC/wR5C5PLNtBOAABdNpSi2Y4j+FJHF8/xfe70UMrR8MrKw/hYYP0+tB4OK+p6H5zLSTTCiiimSJ/D+f8jXyH8N/hs3xJ+FvxEgs3+za9p/jC8vtLu1yGinQI3Uc4YYU/Qf3efr3+HH+e/+NeZ/A34Zar8MtN8TW+p3NrLJqWuXGqQNZuzBY327Vbcq4b5TnGR71yzpc02vuZ6FGuqVGUura0PGH+IyfE74mfAzVJlEOr293fWmpWrDa0NwiR+YCvbnn6EV3HiJj/w2X4YTPXw1LnPOfnl7fl+VGtfs33f/AA0Ro/xB0W6s7fSkla4v7CZ3VzMUKM8ahSvzDGckdO9ddqvwx1S+/aC0fx1HPZrpNnpD2EkLO/nmQsxBA27dvzD+LPtWdKM0oXWvM7nTVnR+y9ofj2OR+D//ACch8ZnD7ELWILAghf3RGfwriryD4TeIPE/iG6utG8WfFK+mu2E+oWdjPcJaDnEETIyqFXPGATx1r0ey+F3jTw78cPEXiXSZtHufDfiMQLfi6aX7VCqR7D5QA25+p/KsXwZ8K/iz8LbG48MeFtS8L3XhlrmSe1v9RjmN5bK5O7gDaWAPfuO1Ry1ORRtsv1N/aU+ec+da2/I5v4S69Le/Az4u6Mfty6fo7X9vYQ6ojLcW8JgbZE4YkqVxjBORivWv2Z2aT4D+DGyd5slOWOc/OR/IVzHw9+BGv+EfBfxJ0a+1e11S68SvO9teu7gs0kRXdMNnykk5IXdjtmvRPg74PvPh78M/D3h3UZYJr3TrcQyyWrM0ZO5j8pYA45HUCumlzK910X39TixU6Uoy5O9/wPOv20v+SD3+0ci8tQPTHmjqO/OKj1D4dfF/x5ocmia94t8P6Vod7GqXTaPZO1w8eOVBcKBkE5Ix1rsf2gPhtqfxW+G1z4e0me0t72W4gmEl67LHhHDHlVY5wPSvRLeMxW8aHkqoU49hSjSvOTltdfkP6y6dCEYtN3f5nzB+0Z4Dg0ay+DvhLRbmXTLePVFsIbmNiJEB2r5nX7w5+uc8V3XjDwb4e/Z3+GfirxN4O0hbLWorDyxeSTPNIzFlCu244LKzFicDPPFbnxd+GWqePvEfgHUNPuLOGHQNWW/uluXdWeMEHCbVOW474HvXceLPDVl4y8N6loWoqZLC/t3t5VHUbgRuHuuRj6VLhJxm+utipYhXp6q3X7z4+8O+G/h/qngO1fVfh94/1XxLfWwnm8Qx6VcySGZlDCWNg+0rnGOxBroNc8beNrr4A+CfDuqtqWia5rmsx6De3d5G0Fz9n3NgtuGdxUrz3wfx7vSPCHxu8FaHD4Y0XVvCuo6TbDyLPVtQjmF3FB0AZFXYzAdM56da6zx58H774i/C/T9A1rX/AD/EVi0VzDrkVuIytynR9mTwcnpj2FZ8ja5rPZaHTKvBSV3fVu97nn/xc/Zu8HeFPhH4gvvDcE2j6tp+nTSG+iuZGe4RVJkSYFjvDjIPAxkcVy/xO4/Yv8C9Qc6YD2Ndt4m+Hfxo+JHgu/8ADPiHWfDNjZyWzI93p32jz72RV/diQsMIjHG8qOnRe1XvGHwL17xB+z74a8C213pyatphs/NmlkkEDeV97aQhY57ZUfhVtSlz2Vr2I9srQ5pp2k38rHPftSeJLXwb8QvhFreoNJ9isby6nkWJfmbakJAUD1JAqH4RzRfGr4uazrfjiNrTWNBMTaX4XuYdqWVvIAwnZf8AlozZTr0JHP3cek/FD4Vah468dfDvWIHsDYeHbuS4vIbtm3Sq3l/KihSG+4T8xFJ8TvhXquseMfDvjTwldWtl4n0uTybgXzukN7ZnO+GQorE9Wwccbj6AhQhOM033ZPtqUqSp3s+W1/meW/Fzwg1v8Z9U8QeOfBur+NfBc9lGlidL3yjTtqhZGMauvcH5vxrpfCcfhSL9nfxwvg3Wr7VtHFpfPHbXx3SWBMBzCAwDDaMbcn8e9dD4g8LfFbw94t1LVvB+uaTrGm6lsaTSPErzstm4GCYTH/CTzg8e1U/BPwP1rw98O/HllqWp2d54q8WC5luJIQyWkU0iFVC/Lu2gscnGfrWSpytLR7MqVSnyRXMtGvw/L1N79mf5vgP4MKcH7EuOSQfnI7+wr0wYxxwK4/4PeD734ffDTw94d1GWCa90+3EMslqWMbHcx+UsAccjqBXYV6PReiPHqO9STXdhRRRQZhX0D+zyW/4RO+XOVW+wPxVCf1r5+/TnFfSvwO006f4Bt5WXYbqSWfnrjKgH9K4MZpTsz2cp1xDaO9XoKWjpxRXgo+0CvmD4zf8AJStZ+kP/AKJjr6fr5g+M3/JStZ+kP/omOvSwH8VnhZt/ARxdFFFe4fHhRRRQAUUUUAFJtGMEA85zilooAdu+bJJI7Cm0UUAFFFFABRRRQBi+MvB+l+PfDF/oGswfadOvU2ypuxtIOVZfRh65/CvKJv2a9SvNL/sK7+JviS58LkCNtOYRh2i7oZepGABjFe40VlKnGW6OiFedOPLF7Gf4d0Ky8K6HYaRpkP2WwsYo4YIgdxVV469yfWtD6DAoorZGDbk7sKKKKQg/LPrilydo5w3qKSigAPXPf1Io56nBPriiigA/WiiigAooooAK+nvgz/yTXRvrN/6Okr5hr6e+DP8AyTXRvrN/6Okrzsd/Die7lH8dnaUtJS14R9iFFFFAgooooAKKKKACiiigAoyex4PJHI56dQR29MH1JoooA+YfjOS3xL1ok5P7nk/9cY64qu0+M3/JStZ+kP8A6Jjri6+npfAj88xH+8TCiiitjlCiiimAUUUUAIqhXLdTjHTpS/rRRQAfr9RR6c5Pc4xRRQACiiigA9gcDHp19q8h1z9n3HibUtb8JeLdU8G3Gpy+de29mFlt5XP3n8tujnrnP4CvXqKzlTUndmtOtKkrROB+GPwfsPhtPqmo/wBoXmueINUdXvNV1Bg0khXooH8K+3bp2rvvpwKKK0jFRVkTKUqj5pMKKKKCA9ehPY46UUUUAH1ww9x0o9O5HQ4xRRQAUUUUAFFFFABRRRQB9PfBn/kmujfWb/0dJXaVxfwZ/wCSa6N9Zv8A0dJXaV8tW/iM/QsN/u8RaKKKyOsKKKKACiiigAooooAOMjOf0wPoMUh+YYxjjj/D6UtFA2lLc+Y/i54Xfwz4xu3SIi0vH+0QHtk8uv1ya4dfujB3DHX1r6q+IngmPxx4ee2HyXcJM1vJ6OO30NfLl9ZzaZdTW10hgnhYpIjD7pBxX0GGq+0jZ7nwuYYR4erdbENFHI4PBoruPMsFFFFAgooooAO3bPrihuVI685BxiiigBT1NJRRQAUUUUAFFFFACbR1OCfXHSloooAO/p+GaKKKACiiigAHUEnnucfpR+lFFABRRRQAUUUDlsd84x9elHS47XNDQdGn8Q6xa6dbLvluG298KAcsx9goJ/CvruxsYtNsLexiXbDAixAf7IAH9K83+C3w8fQNPOtX6bL68ULEjdY4+GyfQngfRR6mvT+O3TtXg4ut7SXKtj7LK8L9Xp+0ktWL1ooorzz2wr5g+M3/ACUrWfpD/wCiY6+n6+YPjN/yUrWfpD/6Jjr0sB/FZ4ObfwEcXRRRXuHx4UUUUAFFFFABRRRQAUUUUAFFFFABRRRQAUUUUAFFFFABRRRQAUUUUAFFFFABRRRQAUUUUAFfT3wZ/wCSa6N9Zv8A0dJXzDX098Gf+Sa6N9Zv/R0ledjv4cT3co/js7SlpKWvCPsQooooEFFFFABRRRQAUUUUAFFFFAHzB8Zv+Slaz9If/RMdcXXafGb/AJKVrP0h/wDRMdcXX09L4EfnmI/3iYUUUVscoUUUUwCiiigAooooAKKKKACiiigAooooAKKKKACiiigAooooAKKKKACiiigAooooAKKKKAPp74M/8k10b6zf+jpK7SuL+DP/ACTXRvrN/wCjpK7Svlq38Rn6Fhv93iLRRRWR1hRRRQAUUUUAFFFFABRRRQAhy3X6da8++J3wui8YW7X9iFh1eNfvdBMB/CfevQqOQQRj246VcJypyumY1aUK8OSa+Z8Z3tjPp11NbXUL21xCcSRSAhl/x+oqCvqnxx8O9N8bW4+0bob6MHybxAN6+x9R7V89eMPAOreC7jbfQ7rVj8l3ECY29PpX0FDExqK0tGfGYvL54d3jqjm6KMHAJ4FFdZ5V9bBRRRQMKKKKACiiigAooooAKKKKACiiigAooooAKKKKACiiigFqFFBwqhmYKCcAnoT6fWtLQfDuo+JL5LTT7Z7iYnB2jhPcntUyko/EVGMpS5Yq7M5VLcDk5AwOTz0+te0/Cn4QlfJ1jXYsch7ayk4JPUM3p9K6P4ffB2z8KNFe6iUvtVXleMxwHvtH8R9zXo+4k8/XJGTXkYnFt+7A+owWWKP72pv2EPzfeHXqf/rUfpR9OBRXlH0YUUUUAFfMHxm/5KVrP0h/9Ex19P14P8TPhn4l8Q+ONUv9P037TayrEUkE8S5xGikYLDnKmvQwclTqNy0PGzSnKpRUYq7PJKK7U/Bvxhk/8Sgf+BcH/wAXSf8ACm/GH/QIH/gXB/8AF16/tqf8x8r9Vrfys4uiu0/4U34w/wCgQP8AwLg/+Lo/4U34w/6BA/8AAuD/AOLo9tT/AJhfVq38rOLortP+FN+MP+gQP/AuD/4uj/hTfjD/AKBA/wDAuD/4uj21PuP6rW/lZxdFdp/wpvxh/wBAgf8AgXB/8XR/wpvxh/0CB/4Fwf8AxdHtqf8AMH1Wt/Kzi6K7T/hTfjD/AKBA/wDAuD/4uj/hTfjD/oED/wAC4P8A4uj21P8AmD6rW/lZxdFdp/wpvxh/0CB/4Fwf/F0f8Kb8Yf8AQIH/AIFwf/F0e2p/zB9Vrfys4uiu0/4U34w/6BA/8C4P/i6P+FN+MP8AoED/AMC4P/i6PbU/5g+q1v5WcXRXaf8ACm/GH/QIH/gXB/8AF0f8Kb8Yf9Agf+BcH/xdHtqf8wvq1b+VnF0V2n/Cm/GH/QIH/gXB/wDF0f8ACm/GH/QIH/gXB/8AF0e2p/zB9Wrfys4uiu0/4U34w/6BA/8AAuD/AOLo/wCFN+MP+gQP/AuD/wCLo9tT/mD6tW/lZxdFdp/wpvxh/wBAgf8AgXB/8XR/wpvxh/0CB/4Fwf8AxdHtqf8AMP6rW/lZxdFdp/wpvxh/0CB/4Fwf/F0f8Kb8Yf8AQIH/AIFwf/F0e2p/zB9Vrfys4uiu0/4U34w/6BA/8C4P/i6P+FN+MP8AoED/AMC4P/i6PbU/5g+q1v5WcXRXaf8ACm/GH/QIH/gXB/8AF0f8Kb8Yf9Agf+BcH/xdHtqf8wfVa38rOLr6e+DP/JNdG+s3/o6SvFf+FN+MP+gQP/AuD/4uvePhnot74f8AA+l2GoQfZ7qJpAyblbrI7A5BPGGFcWMnGpTSi7ntZXRqU6zlKNkdNS0gpa8Y+qCiiikIKKKKACiiigAooooAKKKKAPmD4zf8lK1n6Q/+iY64uvW/iZ8M/EviHxxql/p+m/abWVYikgniXOI0UjBYc5U1zJ+DfjDJ/wCJQP8AwLg/+Lr6KnVgoJNnwtfDVpVpSUXY4qiu0/4U34w/6BA/8C4P/i6P+FN+MP8AoED/AMC4P/i619tT/mOb6rW/lZxdFdp/wpvxh/0CB/4Fwf8AxdH/AApvxh/0CB/4Fwf/ABdHtqf8wfVa38rOLortP+FN+MP+gQP/AALg/wDi6P8AhTfjD/oED/wLg/8Ai6PbU/5g+q1v5WcXRXaf8Kb8Yf8AQIH/AIFwf/F0f8Kb8Yf9Agf+BcH/AMXT9tT7h9Vrb8rOLortP+FN+MP+gQP/AALg/wDi6P8AhTfjD/oED/wLg/8Ai6PbU+4vq1bblZxdFdp/wpvxh/0CB/4Fwf8AxdH/AApvxh/0CB/4Fwf/ABdL21P+Yf1Wt/Kzi6K7T/hTfjD/AKBA/wDAuD/4uj/hTfjD/oED/wAC4P8A4uj21P8AmF9Wrfys4uiu0/4U34w/6BA/8C4P/i6P+FN+MP8AoED/AMC4P/i6PbU/5h/Va38rOLortP8AhTfjD/oED/wLg/8Ai6P+FN+MP+gQP/AuD/4uj21P+YX1at/Kzi6K7T/hTfjD/oED/wAC4P8A4uj/AIU34w/6BA/8C4P/AIuj21P+Yf1Wt/Kzi6K7T/hTfjD/AKBA/wDAuD/4uj/hTfjD/oED/wAC4P8A4uj21P8AmD6rW/lZxdFdp/wpvxh/0CB/4Fwf/F0f8Kb8Yf8AQIH/AIFwf/F0e2p/zB9Vrfys4uiu0/4U34w/6BA/8C4P/i6P+FN+MP8AoED/AMC4P/i6PbU/5g+q1v5WcXRXaf8ACm/GH/QIH/gXB/8AF0f8Kb8Yf9Agf+BcH/xdHtqf8wfVa38rPavgz/yTXRvrN/6OkrtK5n4Z6Le+H/A+l2GoQfZ7qJpQyblbrI7A5BPGGFdMK+dqtObaPusPFxoRi9xaKKKyOkKKKKACiiigAooooAKKKKACiiigAqK5tYryB4Z4klicYZHXKkfT1qWii8r3Wgmo2tJXPKfF3wHsdUeSfQp/7PuOT9nkG6J/oeq/QDivH/EfgfWvCku3UbCSKPtOo3Rn6N/Tr7V9akZ4PPv0NNljWeMpIodGGGVuQfrkY/T8a7qeKnDc8fEZXTrq8dGfF2e5yBjIyCKXPy7sjH1FfTniL4PeG9e3SLaf2dcnnzrImMZ9SpyK861z9nvVLfL6ZqEOoAc+XcLsk/DAwf0r044yEt3Y8OplmIp/BqeUdeRyKK6DVvAPiLRSTd6Pdog/5aJEZF/ErkD8awGUxthvlburcEfhXXGSlszy5050/jVhKKP4SccD14/nQOecHHrg1Rm9Nwopdv8AnFJ9OfwoAKKXaf7po2kdQR+FACUUUYJ7N+RoAKKVRuzjt1pDwRnjP94Ff54pNpbgtdgowfQ/ka1dL8K6xrbBbDTLq6B6NHExT/vrGP1rt9F+Amv3yq+oSW+lxN/C/wC8k/IcfrWUq1OO7OqGHq1Phjc8zx+ecYHP8q0NH0HUNeuVg0+0lupGO35FOAfc9K998P8AwL8PaOUe8MuqzL/z2+WP/vkf416BY2NtpkIgs7eK1gAx5cCBBXDUxyXwo9ejlEp/xmeM+FP2f5WkS48QXJiVetpan5j7O5HT2A/GvXtH0Ww8P2a2unWkVpbqMbIlxn3J6mr469TgDgUleXKvOpufQ0MHRw6tTWvdh/ngYooorE6wooooAKKKKACk9+CR03ZwP1paKq4adUGSOMk++SKQyehyfQNzS1xfxM+JsHw1t9B8zStR1u51zUhpNnZ6btLPcGKSVQSSAq7YmySeMjrS1va5V/I7X5sZ5I/2ST/LpSBmZgBuJPQAnmvIf+F4a8viyTwhN8PNQHjP7ML9bOK9gazFnkqZzcjphgqmPaXy64DDLDWt/jdp8fgnWNc1XSr/AE7UdL1D+yLrQ1ZJblr8tGsUERVtj+aZYtrZUESKTt5ANe5N32PR9555/wDHuT+GaX5ucbjjr1B5xjg9evavOdN+KmqW/ibSNH8V+EbrwrJrTPHpV015FcwSzKjSGBirZjlKI5C4K/KQGJwDXuPi7qmp6lrMfhfwTf8AibRdHnlsr3UYbmCHfMhxKlujkGVkPytkqARgE1Em4QcrlRi5zUT07cdoYZKnoQTz60nmcE5+XG7du4xzn6YAzzXgnwf+KEOifA3wNNaWN5r+s+IJrmPStOgISe5YyzMWZpGASNIwCxPQDGM4B3PE3xIuPEHgX4j6Fq+i3HhbxLp3h65vHtXuFmikhkhmWOaCVT8w3RupzhgynjkZ2kmmrMiMnZ3R7ArFsjnIIB5PGaNx45IznqSBwMnnp0561zPg25lt/hvoUyQSXk66VbyCFZAryMIFIALkD8zXzx8O5bS+8K6j448WeEtV03XLrxX9m/tyz1GP7bMW1n7PFaCSNyywxlYkZM7diuBndio111L1tex9WCQZ5cAd2LcDkD+tO+fptcH0569h/L25HqK8m8L/ABS8U6x8XvGHhybwtONF0ea1jW++1W6+VHJEWMhTfuw+AwABIB6CsjwV8SJ7LwXrHxL1tr660bV9WdYoUIeDStLjlMEVwYzgFePPkcDcBIOMRgk1te4X1Stue37iy7hll/vAnFL82cDJJGQN3WuasfHtlrXja68PadDLfmwto7u9vYnVoLYyk+VEzbuXYAsAM4UAsRuXdd8V6rdaH4Z1HULSwfVLq3haZLON1VpCqn5suyjAI55od47sSlfRGt5nGQ2ev8WOgzTuexzyQcMTj6npXiXh34/ajp3wL07x94z8OXunwyWWmSs1vNFMbprloozIiKxIG6VSQcHB4BrubHxh4nuPD9/qN74GurS+iZfsmkrqNu9zIpYDc5LhI9oYFhuOOg3cZNe4tex2e4hQc/8Aj3HPTnpz25pNx2gjJyN33scevJrg/C/xGvtV8TXfhnxD4cn8Ma4tkNSjUXcc0U9vvMbPHKmDvSRlDAj5fMXBbnHJaJ8aNP8ADfgb4W2mi6J4g8ST+LNO36RDJMj3DqkKSMbid2CghTlmyclWIzxk1va4rtLma0PaQxbO078ckK+T+WaUkj+9j8a4jwb8R73XPEl/4b1/w/P4b1+0to74W7Xcdzbz27lx5kcq/wB0phgQMEjr21tL8aW2reLtf8NeTNBqWlxW9wfMIxNDMGKSIQTkZjcHOMFSPTJr3Hr2OhUs2PvYPfJo3H+9/wCPfl+fP5Vz/g3xnbeOLbU7uxhmSztNRudNjuHIC3DwOUkZME5UMrrk45Ru2CeP+K3xO8S+DfG3gTR9B8OTa7FrF7Okxju4ItxS2mlVF3uvzBolJBxwvXmjW6jfUq+l7HqPPBJwGGRlsZpu4nkEkYznJxXmOtfGS7sfGK+EdH8I3mr+Jf7Kg1iWAXUUVvBbyO8beZOWILK8ZXCBi25SBjcV3/EvizxVpNxbR6V4Km1dmg865mbVoLeOJucxKS26RxjqUCHIG7PATbSu2Cu3ZI6/educ8Yz9/wB8evuD9DS7vmxu5zjliD+R5ry+1+I2keMr34Z6nF/bVrLrF1eJb2qzGNYZY7WYzR3Uavtcrsdf4sMo7c1T0/45az4qOszeFvh7qmt6do+pXWl3k0l7DbebLBIyMturNmQ5Uddi/MBkcgPXuF+lj135t2MNkDJ4Y4HH+I+uRik3H1/8ezXjvijx8RD8NPiNol/cN4Z1S6trG9sZOIpLa+2rDKYzkLLHOYjnrtkkXJyCPYue5yfWnr3Ene1rBuPqfzNHXjOAeuBz+dFFLXuTp0Qfhj2ooopDCiiigAooooAKKKKACiiigAooooAT34JHTdnA/WlyRxkn3yRRRT17hZhuPqfzNG4+p/M0Vn694g0zwrpr6jrOoW2l2COkb3V3KI40Z2CqGY8DJI6+oo17lX8jQ3H1P5mjcfU/ma8+t/2gPh3dR3jp4ssF+yosjLIWjZ1ZtqNGrAGQM2FUpncxAGciui8J+PfD3jrTbq+0LVYdQgtZDDcBQyvBJt3bJEYBkYqQQGAyCCODRr3C/Sxv7j6n8zRuPqfzNcNoPxv8CeKNai0rSfE9hqF9PuFqsLkpeFc5FvJjZOcA8Rs3SrvjL4q+E/AGoRWOu65b2V9LCbhbUK8kvkgkeYUQFguQeSMcGjXuF/I6vcd2ASfxP+fal+bOAc+vzdBjOa80+GvxStte8P8Ai7X9U17T5NA03WrqC31ITRrbraII5I283dgjDE59Oa6Hwf8AE7wx8QJrmHw/rMN9d2qh5bcRtHLGrZKyFHCtsPBDY2+/QFTk49Rwi5O2ljqVbcuVJIzjqaXcfU/ma4j4JeKL7xn8L/D+t6tL9ov7uJmlkC7c4lYZx9BTNc+OXgTw7ey2eoeJ7NLyB2S4ih3TG3KsVYy7ARGAVbLNgDGCQeKubcbK5Efe1sd1uPqfzNG4+p/M1z2r/EPwxoOk2ep6hr+nWmnXieZa3UlynlzrsL5Qg85QFh6jpmqk3xV8KW/hGPxPPrMNrocsghiurlHhMkhYqqKjqHZiVOAByAT05qLvuVfyOs3H1P5mk345JwOhOScVg+F/Hnh/xppcuoaJqtvf2sLtHKytsaJ1xuSRGwyMAQdrAHBBxXmnjr9o7w02gL/wiHiqxuNZk1HT4bcxqWFxDJfQwzGAkbZhsaTlC2MGnrtcnXse1MzKMkMPxP6Hv+FBYrwSQc9Mk/jxXPaTrE0niTxLbXOpaXLaWT2wjt7dCLi1DRbn+0NnB3feVfl+Ug5I5rC0/wCPHgPVGuFtPEdtcxQwSXDTqJFglROrJMV2OM8fKST2BFK77lRvLZHelyOMkk9ADyfYep9utLu5xu/8eNeP2n7TnhfW/hLdeNdEm/tR0tbeVdJjkKyNPOwjgtzxnLuy9Oece9eg+HtaeSO20XVb6wk8VQ2UNxe2dknlDLfKWjUnIQurgemME5pu63ZF29kb+4+p/M0bjycnaP4snFUNL17TdcW6bTr2G9jtZ2tpnhfcEkUkMh/2lIII6gjmuT+JPxm8MfCnVPDdp4h1CGyl1i9NqnnPjZGInkZz2wCm3jJyy8YyQa3tcq+l7Hd7iecn8zRuPqfzNcvrXxO8L+G9B03WNT1u3t7LUtq2LHcz3bFd+2JACznZ82APu8jPNFv8UPCd14Pm8VxeILBvDsJYS6gZgEjZW2FGB5Vw5CFCNwYgYo17jv5HUbiDgkg9cZJo3NgkBiB1POByBye3Pr6GvOZ/2gPAsfh3XtWj12Mw6PbG6uopY5IJQmCQdjqGw2MA4wfWsbVfj9YXXw5tPHPhyWz1fR7GWCbXLf5jLbWsiKJGjPGGj3K54YEI/I3Ua9wv5Hr7MVXLbgMFuQ3QDP8Ajx+PTmjLDg5B/wB7NcRb+N7u1+LP/CKX8cItNT05tS0e/t0KPKYisdxFICcF18yGRT/Ersp2hRntlIKgjGO2OlGtr3C/Swu4+p/M0bj6n8zRRRr3FfyDrxnAPXA5/Oj8Me1FFIQUUUUAFFFFABRRRQAUUUUAFFFFABRRRQAUUUUAFFFFABSfw8evIPNLRQAcY6Y56ZOMfTOP0rP1Dw/perKwvNNtbrnrNbhj+BGK0KxfGnigeC/Cer69JZ3F/FpsDXD29tgyMirufaCQCQmW69FPfimpcvUlwjPeNzE1D4N+E9QYn+zPs0mfv28siYP03EVh3f7PegyZMF5fQOTzuZH/AJrXVeJfiBp3h/StFvEEmoDW7630+witiGMrSjcGGSPlEYeQn+6jEZOAenb5c5GO+OtaqvUir30OV4SjJ2cTxqf9nGI48rXnTcflElqrE/huH8qoy/s5XKHK67CVPRpLfaP0PFbFj8ctX8THW5vCvw/1bXbHRtRutLvZmvYbYyTW8jI626s/7xjtBwxRfmHzcEC1qXx+0uKz8FzaHpWo+ILjxjHI2l29iiws7Iiuyyl2Aj2qSWyeNjDrgHZYqu3ypmLy3DpczRzH/DOuoYz/AGta+n+qbGfTPSpY/wBnO8YfPrVuo7eXDnP055rsNW+KWpaLb6Fp7+GpLrxxrCSvHolrfI0cCRsA00twxCpGNyDIBYlgApOQK0Pxy0618P8Aie817Sb3RdW8OvHFe6NvS4nlaXAthbupxIJWYKp4yc5C4OEsZWezIeWYddDCh/ZxXjfrzydBiOxA5PbO7rWla/s76KMefqV3P3+UImQOpHy5wDx3OSB1zXJ/Ejx94g1DVvh5Y+IPB174ZXUPFNitncC7iuQ33i0Euw5RyAzBcMuFPz9M9ynxD0LwlJ8S9Vu59TaDSdTgivIridrhGne0tTElrHuIXPmIAgABkYnjIpSxFTuawy/DLW1y/Y/BPwrZsvmWU1668AXFw5/DCkf0rotN8H6Fo7BrPR7K2fs6w/P9dx5/OuB8QfE7xppPg/xHq9x8Ormwjs9LnvrYTapaPJuVeFmQHCFQrHCs3CHk8Z6T4U+Ktc8W+C9O1LXtDl0W4ntIZcvPFIJy6A71EbtgHOcHHWsnUqS3Z0xoUo7RR2O3bxgD8/1wefxpwwDngHGCAKNpXg8EcUVnr1ZtH3fhQg6CloopFBRRRQIKKKKACiiigAooooAKKKKACvPPilpl7feLfhbcWttNPDZ+I5J7iaOJmW3X+zb1RIzDgAM0a8/3hXodAx0P3c8jnkEEEdcf3fyofRgec/2XdL+0V/aJsZhpo8LC3+0CM+QJPtZzHvA2k7ecfe568V59r3hDXtvjjULfSb24l0/x1Y6/DYrEY5NQtIbayEvkA4Dn5ZyoHV4wMjGa+h+WxuZm9dxOPQ8dP0pBkLtzx/dYApnOcle4znj3zmmwPE/E3ii3+MfiDwXpXh2w1Q2una1Dq2qX19pNzp1vZxwRyMIszxpmRpGjG1clRvzzxTPAvjOD4SWOueFfEWl64NUh1nUb6z+yaNc3SahFcXMlzE8Txxsm7EgRlLrh1+bGM17iGwR97Ax0bBPPPzYz09c5pv3V4x/u8gfocHn5uQeTSa5oyiOLceVnyZp/w91Sz+Hvwl13xLo/iPTbbRU1S11ix0C4u4ryx+1SErKBbNvlVWi2sIwxKyhwCBXZWnh3wXrXhfx/qvhIeKta1qTw7dacbvVpNUn82J4nZYYWuwysd46RZI4PFfQRxyQWDZyr9wTxu4wc4x0I6fhSljuDgkODkHJ49B9PptHtV3ve/YVkkvU4vwbrv9n2vhbwndafqUeqS6AtwxaxkS3hMaRRtG7lSqyZfhSc/K3cYPlqeF9YPwJi086PqBvz44ju2tRZuJvIHiPzfMKhdwTyiJM4xt5zX0IFAXbhcf7Sg8AH8COnGOMdTQfmHI5zuP15/wDrflULRvzX63HfS3zPIdD1VPCnx08aWWpW1/D/AMJH/ZsulzxWE80ExWB4pE8xFKqVZeQzKACOa5v4U6/qOg/s26VoWkaO2s+J9Pln8MrYSQO9ulzFNLD5lyedkAAMrMxwysFHzuu76D5PUnjODwcZ29Mgkcjse9Y+k+E9L0PWtY1WwtBaXusSRy37RyOEndFCBymdqvsCruUBiFG4txhR25WPRWa6f8MeZfAvwPefA6W4+Hs8V1q2iNE+pWPiFrc/NkItxDcyD5Y2UkFN5AMW1R/qefV9etJL7Q9QtkQtLPbSRKuNpLsDtABBb34FN17QbLxLpUunagsj2spUuLeeS3b5SCMNG4K8gE4PPQ8E557w/wDCXw54Y1a31LT49SS8gLFGn1i8nX5l2nKPKVPBPUGql725CXK7o8f0vUJPEn7OvhDw/Z6dqx13w/c+GYdUsZ9Lnie2eC+thMWzGFcIIpGLKSoTBztINeifHjUtW0nw/oa2c+r2WhyaokWu3OhQSz3lvYiGTcY1jDOoM3kKxQFgHY5GMr6Zt+7zkqDjdzjIAwB27g9cg9MYFL9RkjGN/wAy9u3HbPfBycjmkUt0/Jnz38OtFgm+Oi6r4fsPFT+GT4ZurNdW8RXOo3Cy3RubchIheSF1G1Tg4Ct8xGQpIPhp4Z1ixs/2fvtek31s2meHblL4TW8hNpKbWFNkuR8rfJjDAEEEHvX0GoKqFBIQDG36Zx7dcfw447ZNKGKrgdODtyQOOg4PSqjvzMnePKzyrxNdHwn8YtQ8VXtpMdC0vwfO891GmYhsuBKyBwAu8qCee+a5r4weItW0Wz8IfEjQNLu49Y1S0/sNtMulHns98qtaCQKSCyXaxA7cgK0p6A17hqml2euabcafqFut5YzoUlt5smORSCCpUEDBB681ymqfDu48QeONO1rVNdmudI0uQ3NhoaWsaRR3Gwp5sj/ekIDOVHy7SwPJVcT8T1/ryNDV8C+E7XwH4N0bQIHaWHT7RLcyycNMR99yP7zNuYnuXNcX8aLiTRfFPw48R3MF5caTpGsznUJrG2luWtllsLiKKQxxhm2+Y6rkKRyK6zxR8NdC8Y3yXmpx35nSPy1+y6rd2qhew2wyop47kGtDwz4R0zwdYSWmlR3CQSM7sl3eS3RJIxgPIzMoIxnB/hBAqua81MjpY4rwv52ofG/xDr8FpcrpV54Z0g2t5NbtCrsk9+zKC64DATISuAQGx1PHH+KNUhl+Jniez8a3XjWLT4HgHh6w8Nf2nBb3VsYU8xvOsgN8pnMwZHcbFCHaPmevfdzBgQc/NuPJ559CSOec/Qc0h7Yz9c+nA+vv3I4yAKm3NZPsxp8ruj5t+FPhHXrHQ/gtHe6JqVjPY61rcl7FOzTyWaSC9CtLJzu3b0xITh9wIY5zXpvwT0m90nwfrEN9ZT2dxN4h1ydYbmIq0kb6jcyIwDDO11ZSP72QR2r0ZmLclmY/7ZDZ6dTjJ79cjgcCjjp/ARjoPp0xg8euacnzXXkSrwafofNE+nXll+zj8JfCF3Z3Ftreqanodr9hnhZJkFvcx3UxZCNylYrdySRgbQCea+l/rjPt0rGu/COk6h4m0/xDc2SzavYwS21tcO5YQpIU37U+6GOxRuwDhcZ+Y1sk5Of8f603sPls4tPuFFFFSAUUUUAFFFFABRRRQAUUUUAFFFFABRRRQAUUUUAFeWftJ6bb6p8MUs7mBZra613Q45oWBHmKdWtBtYgjjpgn6cjmvU6q6hpdlq1ulvf2dveW6zRziG4hSRA6MHR9pGCyuqsD1BA5oBfaPLPiPpNrffHT4QzzWkU72w1c27OmfLLWyghMD5Q2ecen4rxPxihu5NU+OyWAk3SeFtKaVbcEyNGXvPPKlTu3GMN068gZwMfRE+k2N3fWd7cWcE95Z7vs9zJGrSw7hhtjkErkeh5p0Wl2MGozaglnbi+niSKe6ESiWZELbI2fGSqmR2UEnBcjFJKyXzDeV/Q8j+P0+l3HwTsP7Ha38+a+0v8A4R37OFH+k/aYWtzCGyBgDOBgFMk4BFX/AIU+QvxU+LiT+WurHWLMqHI3/YzYwC3IJGdnmfaBxj5w+SWyK6Tw/wDBzwL4V1waxpHhDRNO1Jd+y4tLJIXj38PsKjEZYdSoGcAHPWrXi74Y+E/H11b3XiTw7p2uXVujRxz3turybCCGi3kZ2N/EpJB9KqWrYR0SPl5pIbjwJeS+G7zT7XQG+Lkr3FzdQNdWQHmlo2cRyIXj+1mJsBwMkHpnPu1j8OfGF58S/D3ivxL4i0GVNKs7y0WDR9Gnt5J4ZhHuVnluZgUVlVsbDyDyM13sXhHQ4dIudIXRtPGkXKsk9iLZBDMjIEZXTGGBVFHIPAA5AArI8J/CXwX4E1CS+8P+F9L0q+kUxNdWlskcnlnkoGxkLn+HpjsKGlK9/P8AIqMuVxOY/Zxvre1+CfgyK4nhgluIZUiSSRQZGDysVQE5YgKx+XPSsz9nmbRY7z4rrEbeK9j8Z6g2o+Yyh93ylGkzyFCrgZ4wCO9elr4J8Ph9GYaJp6/2PI0mnhbVALQurI/lAABMq56f3jXnnhv4A6BfSeIrnxj4V0nVL271y9vbWa5hWVmt5ZNyI2R8y4JO0/LnHBoqfvF8jOH7v7zzTwLo9rqlv8FlltvP0aPxZr91pMMiFkFqF1F7Urn5doi2OoIxjAGABXdfGCHXH+O3wzl0/UdK06MWeqLaz61ZtdQPeMbcBV2SxESmIXG1ixACyYxmvYm0PTGl09zp1oW0/izZreMm2+Ur+7+X5flZkwMDBqHxJ4X0fxhpb6brul2es2EmGe2voFlQlcbfvZOffPGBjHG2uZdu5W6a8jwL4ofD3xXovgn4s+J9X1/S72bWdBtrS7ttC02ayQQwGVZZmDTyMzGCV0BUhvkGCT93ov2lG0Bvg74fJ+z/AGNtf0JtIWPG3zBfW5Qw+uIifu8Bc8rjFem+Efh34Z8Bx3SeHtCsdJW6INw1tEFkmKghd79WAy2N2cbj9KzNK+Cfw+0O+kvNP8FaFazt0aHToV2/MGIUbSqAsAxCgAkA9QCJjozS65r+p418UlfyfjwAsjWS3Gii+WNTuNh5cJu+gBx5QlyD6E4zxX0XbG0m0eM2At/shtt1uLcKIzGUGCuB9zaRwBj2qSHSbG3ury5hsrWG5vNpuZkgXfOVG1fMb7zgLkYJ4Hyjiua8NfB/wP4N1g6roPhPSdH1DaypNY2qReVk5OwAYXJ67cZ75qdouBkrqXOv62PDNPkSP9mP4GXDn/QodU8Pi7ccgbZ41XeOmVlMYwcc8dRiuy/aNt9T1C+0K08BgJ8UFE8lhcRyKqQ2GxRcC4fBAjf5EjDDmQREZVWx2GtfAfwVqXh/xLpdnotroZ16Irc3emwiGRZd29JVA+UMkm2QYAy654zXT+HfD50u3t7m++x3viA2kVte6tFZpC92UVhkjkhfmYhCxA3n2quyZStFp+v4mP8ABm40G7+HOiL4ZjuLfTY1MRgn5uYpgSkwn4z54kVlkYnO7JPUZwPjA4XxV8I5AwEY8VgHBOFJ0+9VAT2BPAB4Jx3xXQ654P1Zbl5PCepaT4aS5la5vll0VLo3cxAXzGYSR/NsVVJO4nA5AUCok8A3XiTRb7S/H91pfja0mZXihm0rykiZeQcNLJk7grbsgjkd6rS9wXw2PP8AxrbeJpP2mtOOkapo+lynwqyaedd06a4DsbrddLGUnh2ttFszAkkqQcY3Vbg+BurXlv4tfxD4ns49S1vU7HVrSbRtMa1itL61MZjfyppZVlLGGMsjcHbngnNeh6p8MfCWteHbPQL/AMOabe6LYgfZLK5t1kSAjOCmR8rck7lweSOM7qpp8F/AS+G7jw+fB+inRbiZbiay+wx+XNKBxKwIOZB2kOWA4BFT0EjgfEnizxNb6T448C+J4tNvdTXwne6nZ6vowkijngVWiZZbZyzwuHIYHe6tzj0rV8RXlkv7JuoXN3JEbBvBkjMQ+5SpsQOOTuBGR9emcgnuPB/w38K+AYbqPw94e07SRdYNybW3RDcbR8okYLuYDJAyeOo64rltc+AXhy80IeH9GtbPw34fvNQhutYs7CzVf7QhjO4QfKVESMwXIUHI3D+P5U9l8gjt82cxexXK+Kv2eLO5WQ6ysdw10JAQxiXTXWYsew81olP4H0z7mrb1DZ3Z5zjGa5C2+HwPxMu/GV/fC9nFgum6dZrD5cdlCWDz8hjveR1jJbAwsarjHNdh+Oaf2GvN/iw+1f0Ciiih7iWwUUUUhhRRRQAUUUUAFFFFABRRRQAUUUUAFFFFABRRRQAUUUUAFFFFABTJ4YriFo5kVoHUxsrchlPUEfXP4cU+qOt2t7faVdQabf8A9lXsq7Y7xYhJ5fvtJwamWpUTwj4N6LqF18QD4e1JHOm/DFJtOtJ3OVuHuF3W5DdC8ViY19QZj9a+g5Dt3BiAwU5BNct4K+Htt4P8M3elyX1zqt3qM091qWpSMYZrq4l+/J8jDaMYQKPuqqjNZ1r8EfCdlPFNDBqiyQvvQPrt+6A/7hnKn6FTTqappErueZfCD4saf4Q0TxZp+r6VrX2hPFeufYhp+i3F/HqCtqFwQqNDG6mTeXQozKw5JAXkS/DvwLrfh/VPg/8A2jpskUsMOuX1+Y0M62Mt1IswRpBleN5j9DtznmvYvBXgyHwTo95YQ3DXoudRvtRLzJt2tc3Ek5UAHoPM2Z9FzjPFdE2WLEndu4OS3I5Pr64656Vropcy7L8AfvRcTwr4yeFbeP4q+HvFurL4mbw8dKn0e6ufC97ercWTtKkiNIlmwkeNgG+YAhSqHHJxh6t4L0PWfBOua/4FtvEuu6vDqGlX9z/bsmoPNfrY3SXCwwNekBiEebb5R2hiMkHivXfGvxj8J+APFnhDwxr2rpZa14suJLfR7VoXcXMke0MCVUqmNyDJK8sOtdpjAYdO3UnpzjGcZz17e1ZJco3qeEfEDx3H8StW8A2XhjQ9e1E2niWzvdRmudHubJdPhBcHeZokO4sUyBkrhs470/FXg3Xr6H4pXOnaVdTzweL9J1yxtGQ241JLWDTZXWGR8Kc+Q6ggkK4AJyK+g2+YjtgcYzgdTnacjOSM+o44xQPl6HBGCMjP8WccY7gEHt0pvUI+6rHl+pfEDSvil4Q8T+HtAi1YavdaRdKLe+0S8sBG7QNHskaWNVjbJHyk5ODjPNafwV8W2HiPwHo9rbwX1pe6fp9vb3lrf2M1rJDKsaqyFZEXcykEHBPI713uF4GTt77ufpgdB9QBnn+9wfeGCc569SP1P+FWStgPX1/DH6UUf54oqBhRRRQAUUUUAFFFFABRRRQAUUUUAFFFFABRRRQAUUUUAFFFFABRRRQAUUUUAFFFFABRRRQAUUUUAFFFFABRRRQAUUUUAFFFFABRRRQAUUUUAFFFFABRRRQAUUUUAFFFFABRRRQAUUUUAFFFFABRRRQAUUUUAFFFFABRRRQAUUUUAFGB1HB9cc0UUAFFFFABRRRQAUUUUAFFFFABRRRQAUUUUAFFFFABRRRQAUUUUAFFFFABRRRQAUUUUAFFFFABRRRQAUUUUAFFFFABRRRQAUUUUAFFFFABRRRQAUUUUAFFFFAHxb+2i2z9rj9k08Ddrl4DkZB/eWXUZ9/0FfaI6f418V/tucftYfskHv8A2/e/+jLGvtSgBaKKKACiiigAooooAKKKKACiiigAooooAKKKKACiiigAooooAKKKKACiiigAooooAKKKKACiiigAooooAKKKKACiiigAooooAKKKKACiiigAooooAKKKKACiiigAooooAKKKKACiiigAooooAKKKKACiiigAooooAKKKKACiiigAooooAKKKKACiiigAooooAKKKKACiiigAooooAKKKKACiiigAooooAKKKKACiiigAooooAKKKKACiiigAooooAKKKKACiiigAooooAKKKKACiiigAooooAKKKKACiiigAooooAKKKKAPir9uH/k6j9kgjqPEN4Pzlsa+1a+K/24/l/ai/ZJP/AFMl1+stjX2p1oAKKKKACiiigAooooAKKKKACiiigAooooAKKKKACiiigAooooAKKKKACiiigAooooAKKKKACiiigAooooAKKKKACiiigAooooAKKKKACiiigAooooAKKKKACiiigAooooAKKKKACiiigAooooAKKKKACiiigAooooAKKKKACiiigAooooAKKKKACiiigAooooAKKKKACiiigAooooAKKKKACiiigAooooAKKKKACiiigAooooAKKKKACiiigAooooAKKKKACiiigAooooAKKKKACiiigAooooAKKKKACiiigAooooAKKKKAPir9ujj9pr9kpvTxRcD85rGvtWvir9uvP/DSX7Jh/wCpslH5zWNfaud3I6GgAooooAKKKKACiiigAooooAKKKKACiiigAooooAKKKKACiiigAooooAKKKKACiiigAooooAKKKKACiiigAooooAKKKKACiiigAooooAKKKKACiiigAooooAKKKKACiiigAooooAKKKKACiiigAooooAKKKKACiiigAooooAKKKKACiiigAooooAKKKKACiiigAooooAKKKKBhRRRQFmFFFFVZiCiiipAKKKKACiiigAooooAKKKKACiiigAooooAKKKKACiiigAooooAKKKKACiiigAooooAKKKKACiiigAooooAKKKKACiiigD4r/buO39or9k09/wDhL2/Weyr7Tr4r/bzGP2hP2Tj/ANTkB+dxZV9q9eaACiiigAooooAKKKKACiiigAooooAKKKKACiiigAooooAKKKKACiiigAooooAKKKKACiiigAooooAKKKKACiiigAooooAKKKKACiiigAooooAKKKKACiiigAooooAKKKKACiiigAooooAKKKKACiiigAooooAKKKKACiiigAooooAKKKKAuFFGPz60m7/J4/nQC1VxaKiuLqC0haaeaOGFRkyOwCj6noK4zWPjT4N0VisutQ3EgGdtpmb8MrkfrWcqkKfxOx3YbA4rGO1Cm5eiO447EH8aTcCcZH5ivFNT/am0aHcNP0m+umBwDO6xqfcbSTiuU1L9qbXJiRY6VZ2q/wDTZ3l/qK4ZZhho7O59ZQ4LznE/8ubf4nY+ljx/9fj+dL2z1+hzXyNeftDeNbrPlXtvZZPW3tk/9mBrJn+NXjifO/X7g+6KqfyFc0s2or4Ynt0/DzNJfHKKPs/r0yT9DS7T6H8jXxFJ8UPF02S3iLURn+7cMP5Gmf8ACyPFf/Qx6p/4Fv8A41n/AGtT/lOv/iG2N/6CI/cz7eyOmQPqQKCwHUj86+J4fiv4xt/ueItQ/wCBzs386v2/xu8b27Arr87H/bjjb+a1f9r0v5TGXhvjo/DUi/vPsrpyeB60ceo6Zz2/Ovk+x/aR8Y2f+sayvD3M1uAT7/Jtro9M/aqv4wov9Bt5T/FJaztH/wCOkHP4mt45nQlvoeTiOA85p7RUvRo+jV+boOMZz1FJXkOk/tO+F711S8gvtPc9XKB0H4qSf0rutH+JXhfXigstcs3lk+7DJKIpD9FfBP4Cu2GIpT+GR8visjzLB/x6El8jpaKOihsHaejY4/PpQ3y4yQPTPGfp6/hXSeI007PcKKKKT03Dry9QooooAKKKKBBRRRQAUUUUAFFFFABRRRQAUUUUAFFFUtV1rT9DtluNRvrexgZtgkuJVQFueOT1wD+VDdldmkacpyUYq7exdornv+FieFf+hl0j/wADov8A4qj/AIWJ4V/6GXSP/A6L/wCKrP2sP5jq+o4v/n1L7mdDRXPf8LE8K/8AQy6R/wCB0X/xVH/CxPCv/Qy6R/4HRf8AxVHtIfzB9Rxf/PqX/gL/AMjoaK57/hYnhX/oZdI/8Dov/iqP+FieFf8AoZdI/wDA6L/4qj2kP5g+o4v/AJ9S/wDAX/kdDRXPf8LE8K/9DLpH/gdF/wDFUf8ACxPCv/Qy6R/4HRf/ABVHtIfzB9Rxf/PqX/gL/wAjoaK57/hYnhX/AKGXSP8AwOi/+Ko/4WJ4V/6GXSP/AAOi/wDiqPaQ/mD6ji/+fUv/AAF/5HQ0Vz3/AAsTwr/0Mukf+B0X/wAVR/wsTwr/ANDLpH/gdF/8VR7SH8wfUcX/AM+pf+Av/I6GhRuIA+YltoC8kn8K57/hYnhX/oZdI/8AA6L/AOKpT8RfCzAA+JdIZQMBWvosAHOehHXJo9pD+YPqOL/59S/8Bf8AkfHv7eWuabJ8fP2WSmo2jm18aAz7Z0bylFxZZLYPyj3Nfbdne2+oW4uLSeO5tycedC4dO/8AEMjOQRjr7V+In7Y37K9z8PvjcIvBd1H4m8P+K7xp9Mlt7lJTBO75e3lYN8hUsMM3BU5J+Vsfp1+yV8PfB37NPwV0zwkPGGk3+pu7ahqVwNRQxtdyIocRgtwihVUEAZCZwCxFHtIfzIPqOK/59S/8Bf8AkfRFFc+3xE8K7jjxLpBH/X9EP/ZqT/hYnhX/AKGXSP8AwOi/+Ko9pD+ZB9Rxf/PqX/gL/wAjoaK57/hYnhX/AKGXSP8AwOi/+Ko/4WJ4V/6GXSP/AAOi/wDiqPaQ/mD6ji/+fUv/AAF/5HQ0Vz3/AAsTwr/0Mukf+B0X/wAVR/wsTwr/ANDLpH/gdF/8VR7SH8wfUcX/AM+pf+Av/I6Giue/4WJ4V/6GXSP/AAOi/wDiqP8AhYnhX/oZdI/8Dov/AIqj2kP5g+o4v/n1L/wF/wCR0NFc9/wsTwr/ANDLpH/gdF/8VR/wsTwr/wBDLpH/AIHRf/FUe0h/MH1HF/8APqX/AIC/8joaK57/AIWJ4V/6GXSP/A6L/wCKo/4WJ4V/6GXSP/A6L/4qj2kP5g+o4v8A59S/8Bf+R0NFc9/wsTwr/wBDLpH/AIHRf/FVc0vxVouuXLW+navY386rvaO3uEcheBng+pH50KpBuyZMsHiYRcpU5JLfRmrRSUtanGFFFFIAooooAKKKKACiiigAooooAKKKKACiiigAooooAKKKKACiiigAooooAKKKKACiiigAooooAKKKKACiiigAooooAKKKKACiiigAooooAKKKKACiiigAooooAKKKCpC7scYz17DqfYD3oWo7PTzDj/IpskiRKzO6oqjLFjjA9fpXmfxA+Peh+EGks7H/AInOpAf6mJh5cZHcvnn6AGvnXxj8VfEXjqc/br90sjytnbkxxD8sE/j+VebiMwp0Phdz7/J+DcxzZqpU9yn57/I+kvFvx48KeF5Gt0uW1W9AyLexwRn/AGnJA/ImvHvFH7SniLVmePSUg0a2P/PIb5PzbIH4Ln3ryJVG0r0XOcL0z/j70bR9K+fqZlXrbOx+yZdwXlWBaqVI+0n3lr+Bo6v4i1bxBOZtV1G4v5OoM8hYD6A9PzrO3Fl+8d3973/D+uaQKV7k/WlK7hzXmSlKT96Vz7eFGnRVoRSXkrfgLz3OT60UAYGKKg6AooooAKKKKACiiigAooooAbtT6fXn/ClVgvCkgdfl4/z+tGPalp3t8LZDinvqdD4f+IviXwmynS9VuIEH/LMvuQ/UHivVvCn7Ul5b7Itf01LlDw1zZt5b/UqeCfxFeDYIyQc/WlUnuARXXSxVWl8EvvPncdw9l2Yr9/QjfutGfbPhP4oeG/GaqunalGbnvbXBEcoP0J5/Amus2nOOn1BFfn4kkkLK8bFXU5XacbT65616d4D+P3iDwp5dtqDnWtO4BjnbEiD/AGW/ofzr3MPm3NpVR+U5t4fVaadTL58y/le59aUVyngf4l6F4/tydNucXSAGSzl4mT/gPOR7jNdXxyc8Dv2/OvchUjUjzReh+RYjC1sLUdKtHlkujCiggg4PBorS5x3CiiigYUUUUAFFFFABRRRQAUUUUAFeO/tSKW8Aadk9NTj4yf8AnlMPX3r2KvHv2ov+RB0//sJR/wDoqWuPGX+rzaZ9VwsrZzhklZcx8ubF9/yFGxf8gUbfc0bfc18HZ9vxP63DYv8AkCjYv+QKNvuaTb7mj5fiK67i7F/yBRsX/IFG33NG33NFn2/EYbF/yBRsX/IFG33NG33NFn2/EA2L/kCjYv8AkCkPHc0u33NPlfb8QDYv+QKNi/5Ao2+5o2+5pWfb8QDYv+QKNi/5Ao2+5pMe7U1FvZfiMNmM4OAfTj/9ZOTz29OuV2r7/jj/AApNv+0aNv8AtGiz7L7ybIXYv+QKNi/5Ao2+5o2+5pWfb8RhsX/IFGxf8gUbfc0bfc0Wfb8QDYv+QKNi/wCQKT15NIMMuQTT5X2/EB2xf8gUbF/yBSDBGcml2+5o5X2/EA2L/kCjYv8AkCk2+5oHPc0rPt+IeYuxf8gUbF/yBSY9zQw2jOTT5Xe1vxATywuSMn8BXsX7Lf8AyUC+OCP+JZIO/wDz1hPYj0/WvH1HfJr2L9l3/kf77/sGSf8Ao2Ku3Bf7xBNnynFSTyXE3V3y/qj6i579aKKK+7Z/JQUUUUhBRRRQAUUUUAFFFFABRRRQAUUUUAFFFFABRRRQAUUUUAFFFFABRRRQAUUUUAFFFFABRRRQAUUUUAFFFFABRRRQAUUUUAFFFFABRRRQAUUUUAFFFFABS7aSqetata6DpVzqF9Ktvb26GR5GPAUUm0k2+hpCnKpJQgrt6INY1iy0DTZtQ1C5jtbOEFpJZDwPb3J9BzXzF8UvjzqHimSbTtEZ9O0jozqdss/1YZwvsK5/4qfFK++ImqcbrbSoCfs9tnHf77Y6sf06c9a4TnHJyfYY/SvlsZmDqe7T0P6F4Y4MpYGCxWPjzVHsukf+CIdzE5ORnP8A9f6073NIc4460DPevDcm99T9WUWtOgtFFFSaBRRRQAUUUUAFFFFABRRRQAUUUUAFFFFABRRRQAUUUUAFFFFAEtjfXWl3UVzaTvBPC+9JI2Ksp9iOn659K+ivhR+0LHqrW+leJ5VjuwdsWoMMJIT2kUcBj6183EFR8tG3JG4fXHGfTiu3D4meHlzXuux81nGQYPO6ThiYa9JLdH6BqysAVOQRkHOR+dOr5w+B3xolsZrbw1rs+bViFs7yQ58k9MN6jsPSvo/pkdCBkgnOB2Oe9fZYfEQxEG47o/mHOcnxOSYl4fEaxfwvuFFFFdK2PnwooooAKKKKACiiigAooooAK8e/ai/5EHT/APsJx/8AoqWvYa8e/ai/5EHT/wDsJx/+ipa4sb/u8z6vhb/kd4X/ABHy7TN/UnjHPNObpUF7O1rZXEke3fHG8o3LuBIU4H0yK+ER/WspckXLsS7QOQSeexp3OcA/oa8C+H3jD4v/ABA8MQ+INPm8KfZZZJES2vIZ0kbYxByy5UZxxz+Veg/Cf4lSfEGw1SDUdP8A7I1/SLr7HqNorblVhwGHJ+UnI69j9a7J4adJNqS038jwMLnVDGShHllHn+HmjZO3Y73nuMH0opFzwACTj0pBIGUlRuHt/P6e9cmul+p9BzK9h1FNV8gkgpjrvG3H59KVmKKSykY55GP/ANVFmPmV7XFHPYk+wJpu8bsd68+8dePNQ8O/ETwToVstuLTXJZ455Jo8su1FxtbIx19Pzr0CT/WF9jr7EHj8a29i1FTezOGjiqderUpLeG/5j6KQEnJwQAcE4pFk3LkA4/zxWHVLudyHc9cHHrj9MdaQsB3rz2b4gX8fx0tvCAS3/s6TSjf7vL/e79xX72emR0r0FV3x5HIHU9h+PQVt7Jxs++pwUMVSrynFfZdn5MXmjn6Hqfp60hYKF3Hbu6buD78e1cf4B+IkPjvVvFVrHZtbQaJffYSzElpSCQxI6DLA4/pURjKV7LY2niqVOcacnZy287HZc9xg0U1WO3JBABwTjj656Uu4+YUKsCP7wx/OlZ2udN0LRSKwbGSqZ6byF+vWjcO+V4z8wxxnGanZXFzK9uom4btnOSccAn09PrSL8igHisbxtq02g+Ddd1O2C/abSxnmiEi5UsEJGRkelcL+z98ZB8WtBuv7RjjttdspQZ4I0KK0LDKSKOeD0+v1Gd4UXOnKa6bnmVswoUMVTwlTSU7tfI9VxwAM4bjIBPr/AIUH5cBhtPUDua860n4ganf/ABw1zwhIlv8A2ZaaUl1Gyptk3s0Y5bPI+c1r+G9Q8U/2j4n/ALas7S2sI5mOkmEL++hAbllDE9hnOOppeydld7q4oZhTqSaitpSj84q7Ot6E7uOM7e9K3Hsa4H4H+PNQ+Inw/g1rVFhW7eaaErDHsUKrYHeu/wBp8wjr3J/r7/hTqU/ZVOU6MLi4YujGvH4XsC5f7o3HvjtTVk3NjGD7jFc14+uvEdv4cdvCVrBfax5igQzbWQoW+Y4JGCK6Nc/IXAD4529M1PIrN38jSNVSqyo22V7klew/su/8j/ff9gyT/wBGxV49XsP7Lv8AyP8Aff8AYMk/9GxV04H/AHiB85xR/wAiTE/4f8j6iooor7s/kkKKKKQBRRRQAUUUUAFFFFABRRRQAUUUUAFFFFABRRRQAUUUUAFFFFABRRRQAUUUUAFFFFABRRRQAUUUUAFFFFABRRRQAUUUUAFFFFABRRRQAUUUUAFFFFAB2GOT6enOB+dfL/7Q3xIfWtfbw5ZT4sLKQC4ZTnzZsd/Xb0x7V778Q/Ew8J+D9U1PgyxRbIR6ucBM/Rifwr4flmeWZpJGMkrEszN1Leprws1xDppU47vc/YvD/JoYmtPMKquo6L16sReg42+3pS0UV8of0AtgopM1heNPG2k/D/Rf7W1ud7Ww81YfMWJn+Zs4GAM/wmqjFyaS3M6tWFGDqVHaK3ZvUVX0zULbWLG2vbOdZrS4jWaKZfusjDIb8qyfDPjjSPF8WqSaZPJOmm3L2l0fJceXIgyw6c/hVcktdNtzP6zRTiuZe9t59TeorlLP4neH77wTdeLIrqQ6JbB2kmMLg/IdrYXGTzW7pOsW2t6VZ6jZs0lpdwrPE7IUJRgCDhgD0IocJJXaCniqNWShCabav8u5eopvmDaT2HvWLrHjTSdB17R9HvZ2j1DVmdbONY2YSbevzAYH41MYuTskaVK1OlHmnKyNyiivP/Fnx08IeCfEEmiatezw6jHEszRx2skgCnocqD/k04wlN2irmWIxVHCw568uVXtr3Z6BRXJ+C/ip4X+IDSx6Fqsd5cRDL27I8co99rgEj6V1YYbdxIUYzyaJxlT+JWLo16VeKnSkpLyFopNw25zQTtUFvlz61NmbXsLRSbh1yAPrWHqPjbSdK8TaZoFzOU1PUkd7aIKSHCKWPzdBwD1NEU5PlW5nUqwpLmm7I3aKwrPxtpGoeLb/AMNQXJfV7GBbiaHy2ChG24IbGCfmHANHhnxtpPi6bVotMneaTS7lrS6V4mTZIpwR8wGeRVcrtexlHFUJSUFLVtr5rdfI3aKQMpOMgH3OPxprSBZFTGWPOPT3qOtjpur2H0Vh6x4z0rQtc0jSLydo7/VmdbSNY2YSbevzAYH4mtynZ2T7mMa1OTaUtV+oUUdaKRuGeOOCp4/nn65r6q/Z9+JDeMPD7aZfTB9U04AZY8yR9Bn1wMZ+or5U+ldR8MPE58H+ONL1EMVhE3lTjpuicbXz9OCPoK9HBV5UayfR7nxXFGT082y6pG3vx1i+z/4J9ufrRTUYMisv3SMj6U78QOmeemTgV9ve+qP5SknFtS3CiiigQUUUUAFFFFABRRRQAV49+1F/yIOn/wDYTj/9FS17DXj37UX/ACIOn/8AYTj/APRUtcWN/wB3mfV8Lf8AI7wv+I+XG6VU1b/kHXn/AF7yf+gtVyquoRtNY3SRqXkaGRVUdyVIA9Oc18LHdH9ZVNYSS7M+a/gN4h+Idt8MbK00HwnYanp/mTiK/udQSMAmU7iYycnBrqJ7PVvgV8MfGXiy+uba88WatP8AaHaAf6OsjtsUL/eCiRm6DkcZ612PwF8I6r4H+GWnaPrdu1lqEE87GJmBKhpCwOQSMEGtr4leDU+I/gnVtAkbyGuYsxSddsgYMh/MAH2r1auJg6rSWjep8Lg8rxH9mxk5SdSMXyp/Zfl5nznLf+D18NnVYPivrUnjcQfaRcebN5JmAz5Xl+XgJ268dMVs+O/HGu+M/h78K9UsNQl0fVtW1EWs80RKrv3eWcqPvKxBbb05rt7XxN8U9N0aHRG8CWN5qlrEIY9UOoxC2YDAErRkbgMc4BXHoOlXfid4H8T+Lm+HUsNpa3V/puqw3V+bN0jiUgAuyBmBK5J55P1rodSKnF6Wv5djxlg60sNONPmu4+8veV3ddW/iWuxwvxQ8Kax8GJdC1Lwz4r1ia+1O+XTbn+1rr7QjNKhHmbSMZyGPtxirHxD8L3vwOm8P+KtK8T65qNxJqUVpqEOo3ZljvFcEklcYHQ+vWu++OngfWPHFr4Yj0S0+1tZ65b3U48xF2RKpyx3EetJ8fvBOsePPCenWmiWn264h1OC6eNZEUiNQ2T8xGeorKNZ2p37u/oehiMrtKuqEXaMYuGr+Ld213OW+P2m6hqnxR+GllpN5/ZuoTyXSJdKoJiG1Szc8Z25Pt2qn8RvB9/8ABTS4vGXh3xNrV49pOgv7TVLrz0u42bBJXjDZ7/yro/jT4F8W+IvG3gnWPC0MRm0mSeaSaZ08pGIUKrDOSGC4OAcBqz/GGmfEL4xQ2nhvUvDEfhXQjOkmo3jXy3JkRDnYgHI55FaRnaMY8ytd3+8zxVDmrYnnpyc3yuDV9+X/AD3uXfFGvXEv7QHw8igurhNPvNNuJmtxIVRj5UpTcvc8Cn/GvVrvT/iR8LILe6nt4LjVHW4jjkKCRR5Zwy9++Kn+K3gnX/8AhKPCni7wlYw6jeaFvjl02SUR74WUgbWbHYmuc8Q6B8QvH3j7wLrt74Xt9I0bRrwTSWwv45JEGV3O7EjggcAZqI8snCTa05jXESxVOFag4S5pSg1+HN92pp3Df8ZbaeMg/wDFOElvQ+a2R+lUficnhubxdc/8Jd8R7jTbKONRa6LpEhieByBlpNgbcT15A61qeNvD/ivSPjdpPi/Q9D/4SHTxpn9nShblYjGxkYliT2w2QKzNL8O+L/hl488WX+n+Ebfxbbaxc/aY71dQihltgSW8ttwOQCccccUocjjC71S/UnEyrQlWpum5KVW97O1rLXTdFf4O+IYfE+ueM/A9p4l1HXvDcdslzZahLIRdRIw2yKJGUHI6Zxg4zXP/AAF+FdreeLvGNzJrmuRyaPrzRxpHfbVudjMQZRjLnI5Peu6+GPgnxfYfFbxL4k8S2ltBDqljGsbWrp5SsuMQjHJ2jgtjkqevWoPCOh+M/ht498Tx2/hw6/oevakLxdQhvVi+zozEnKnqQG9e1XOpbnUGtUjGng5zjh6mKg2oVJWtfSPRvXa5nfEqPwtceNL9vGXxMurSBNqWmjaXK0JtRgEmTYG3MT0yB+HSr37PvjQ6xqni3w7b61N4l0fTHhfTb68JaZkkDbkZiAWK9jgDjI7VU8N+GvGfwn8UeKhp3hC38WR6xfyXdvqcWoxQOqsSfLfILEAnkcd63PhL4K8WaL8QvGWveJILdf7Zjt2intXUxnCklFAO7C5C7iBnbnPNOXsvZuN+mhNBYmWMhVhScbzd972fdvS3ocD8EfA+ofFTwjqd7r/i/wAQ+QuozW9tb2l8UVMHlnyPn5IwOK7/APZ28QarqWk+JdC1e8fU5/D+qyafFeTEl5IxkfMe/I71c/Z+8Fax4G8FXOna1a/Yr59QmuEhWVHLI2MH5SR2p/wZ8Gax4R1jx5Nqtp9mi1LWJL20bzEbzY2ZsHCkkHkHBxWVSop88dLaWPSwODq4b6pV15nzKe+va9zpPillvhx4pJOT/Zdxn/v2a8D0PT7jwP8AD74e/E7SYnkaxtRa6zDGOZ7NnI3Y7lMDBPfH93n6H8eaXc634J17T7NBJeXVjNBDGWC73ZCAMkgdTWN8MPBtxovwp0bw5r1kqXEdm9rcW8jKwIIbKnBIxz+dc9GsqMJPu1od+Z4B4zGxVrJQdn2kndHCeCtRttW/ai8QXlnKs1pceHbaaGVDlXQmAgir3wh1a71HxV8V4bq6mu4rXUmjhimmdkRf3nyqCSFGPQdqxfgj8GfEPw2+LWv3t3G0/h02X2SwvWlVyUEqOibQSwIC4Ixxiut+FvgXWPD/AIq+I9zqVp9mt9X1DzrR/NRvMUh8HAJI4Ydeea6p+zUvdd0oq3qePgYY2Spyqwal7SfN6NWv6PoYn7M7PH8C1Ed4lk/m3my4l2lYvnI8wgnoD1zXBao/gqPT7u6n+LmrXPi6ON5hfW08gt/NzkIiLGRsJ7An6Yro/Afw88Y/8Kn8R/D/AFLRhpKvHcNZ6s10Gjndn3KmwcqD/eP5Ve0GH4jW/gNPB9n4JsfD8kNn9ll1hr+Foj8uDKIh96RsY/HnFaSa9pKfMuh58o1XhMPQlCStGS2fxX0Wmz82Zfjr4gav4g/Zg0rxHJdyW2qTTxpPNbuyF2SQxk8HjJUnA9a+iLbm2h5J+Qcnr0r59vvhL4ol/Zj0vwgunZ1+3nMktr50fCee77t27aeGHAOfavoOGNoYURxhlUAj3ArlxDhyy5NfeufT5NHFe1Uq6a/dxWve7uvUkr2H9l3/AJH++/7Bkn/o2KvHR0Fexfsu/wDI/wB9/wBgyT/0bFWOB/3iBtxVpkmJ/wAP+R9RUUUV92fyQFFFFIAooooAKKKKACiiigAooooAKKKKACiiigAooooAKKKKACiiigAooooAKKKKACiiigAooooAKKKKACiiigAooooAKKKKACiiigAooooAKKKKACiiigDxz9qDUja+BrG0Xj7ReruP+yoLEfqK+XupDe1fTP7U1i9x4T0qZBuWO9CNj+HchAJ9uK+ZN3yr718dmjbxLR/TnAfKsmhy7uUh9FA6UV5B+jje3414z+1oiv8ACsKeN2oW4O3gnhxya9mb5R+NeOftXKZPhagHX+0bc47/AMX+NdWH/jQPCzr/AJF1bzTG/B2/uPAvibVPhpqsjSC1/wBN0SeTOZrViSY8nqVGOPY1X/ZvZVsPiHIwWUL4kuiVIBDYAPpx1xW78cfB97qejWPiXQxt8SeHXF3bFesiA/PCfYrzXJfsp6l/b3g/xrqCxeUb7Wri5WHuN6IQv6/pXoyaq0p1ory/E+MpOphsVhcHPVRUpRfk47P0f4DrzxPa+MP2Y/EuqWukW2g27wXCfYrMYjBWQDdwB16nINdl4a8UN4N+BvhnU4tLvNXdNLtUitbOMtJI7RoBk9lBPJx9K8q8FoZv2PfEMaBmJjvSB3OJef0rS1f4lT6L8B/A58N6xBB5gs9O1DVINkx09TECwIx8hzjO70IqpUua8enN+g6OOlTccRVevsb30v8AG9un9anV3Xxj8X+Dxbal4x8FLpegXEqxvdW2oLI8DN93ev8AP6Gt/wAbeLrXR/iF4H0qfR7TUZdUlnWG/lRTJa4UHKEqSM57EV4X8cP7C0/wFcRWXxM1rxdfXDx/6Gmox3FqyhgzPIqJhQCcD5s5xxivRfiGNvxV+DQXoDOcD0ES/wCFX7GN013f5Gf9qYhwq0pSuvcavZvWS6rQ9xXP+z+FeBt4o0nwv+1N4iudZ1G3021l0KGNZLmQIpcNHjGeDwDXvo4OOPwrwi20TTde/ao8Rwanp1pqUCaFE6xXkKyoCGj5CsOvP8687C6Sd+zPqs+jKpToqnv7SNu3Xcr6hrOkfED9oDwddeEGW9l0+KY6rqVpGUi8srhFZwMNjn862IPjrr+veL/EHhnw74PGp6npl20PmPdiKJIVYructwCx6AZ7+letWOi2mj2pt9PtLfT0BPyW0KxLnvkAcmvIfgLarH8Qviy4HzNrIDMwyMB5MdvU10RqRqczktEtDyamExeEqxjTqKLrT97lVrJLodJ4r+K2o+FdL0Kzk0A6j4x1cZh0W1ufkjwu53aTHAHPt796oab8Vte0nxZpeh+OfDMegPq7GKwvra5W4heQcbDg4Bzxn1rkfjho6WPxi8Ja1qmuaj4b0Oe0exfVNPmEbwybnzlyCADuAPHTJ7VK3hXwLrPiXw7YXHxN1jxJfLeLdWlmNShvI/MjOcsY4yEyc9TyKqnSo+z52jCvi8fHGzp0p25WlG7Wvd23dzsvFXxY1GHxk/hPwj4ebxDrMEQmuvNuRDDACMhWJ6nGPzrz268V6n4g/aI+HtnrWhtoOq2cdyJrdnEsTK0LlJEcfeU88Y4xitbwtrth8OPjp46s/El1DpY1ww3ljeXzLHC6qGyu9uAfnH4rVXXvHOk+Lv2kPAkWjTx31tZxXayX8I3xsxiclVbo+3g8cfPWtKKg4pR0tucOMxE8TRc69dqSqJOHzVtN9tbnf6L4ys7z4zeI/D8ei29vd2enxTvq/DTzq2zCN8oOBn1xx0rifgt4g0zwrF8VdW1OdLTT7XxDM8sjjnALcDHU5wMAd+laHhVQf2pvHCMAP+JRb+4/5ZcfqK8z8HfBq5+KmtfEuG61eeysLfWbo2tlGuFa7JbEknbAAAx/Ksowgk+Z2XLH8zfEYnE+0p1KMeaaq1EvRR0Pc/C/xQvtW8Hax4t1nRJNH0WFHntI3l3XFxCqli5UjC7uOM9Tj3rmdL+M3jO+s7LX5vh+83hm9w0c1heCe7CE8SeUo3Y56Y4qbwl8UoNa+GevW/iqwmudX0GFrLWrCCNWklQAqXVcgbT1J45BxXnPiDVtF+Gnhm2134deP7hzJIjQ+Fri8S5Rt7DMawHLREA8nHtV06cXOScS8RmFeFGhVjiNErz2Ur+nVLbl3PaPHHiy00X4ieCNJm0e21CXVJZ0hvriNRNa4UcplSRnIzyK78KfLI714t8TJJLn4vfCKZ4jHIXuZHj6lTsXI/PNe18jPpXBVjyRivJ/mfS5XiJ18RiG9rxt/wCAoFGFApaBRXEfShTFXO8H7rKR7jOM/wAqcemaFO7GO5x9KpNxd0Zy5eV82zPujwTqZ1bwbot9Jw01jFK57A+WC39a8Mk/by+HN9+0HoXwm0CS78S6jqEz20+raaVaztJQrEIGz+8OVOSoI5GCa9DvvhrH8Qv2fx4Mu7680ldU0ZLSW8sZNk0O6MZI/HgqeGHXNflpov8AwTh+Ifg/9pzwz4O1iHWJPCN9cu6+MvDUbIsUCxs3mGRgRbycKCrcZJAJ61+h0/gV+x/GGOjFYqql/M/zP2W3D1FG4etfFi/8Ev8Aw7tH/F3PiV+Gqxj/ANp0f8OwPD/b4v8AxKH/AHFY/wD43Wh559qUV8V/8Ow9E7fGH4lY/wCwqn/xuj/h2Lo/b4xfErH/AGFU/wDjdAz7TyPUf99Clr4r/wCHZOmdvjR8SgOw/tRf/iaT/h2TYf8ARa/iT/4M1/woA+1aMf5xXxT/AMOyrP8A6Lb8Sf8AwZr/AIUv/Ds21/6Ld8Sf/BkP8KQj7VVS3QZ5xxz7fzrx/wDai/5ELT/+wnH/AOipaz/2df2X0/Z6vNYuE8f+LPGX9oRxx+T4hvfOig2MWBRccEk9av8A7UQA8A6cB0/tKPqc/wDLKWuLG/7vM+r4W/5HeF/xHy7SMu5cHn1PYj0IpaK+EWx/W1hNoXjAZe6/dB+vrSbTjBO736U6igOVJWQ0tIo+U/TBI/Ok2llw3zDtuAI+uMdfxp9FPUOVJWSEZd/UA8YBIzj6UcsV3YOOhIBx9KOaOaNe4WYmCAMY46AgHb9D2pR83BVQB0wBxQvzHAwTkDqM8kD+tH8JOMAde+PTOKNbEXje2lw2jB43EnJ+vr3oVmJH3fl5GQTyep60m44BYbQf0pc5pu6srja/m3E285PJ65b5jkcDn6Ue24hRwOe3ajaOppFUN2NGvcr1Yu3JyeT3I4J/GgL3IUnvwOf8KN2CMcilVtzYGR6Ej3waWtrhdXsC5wc5/wC+iD+HpSFeuOD/AHu/uPx6n+VG7IBAJHfjpRu/L1p2krE2V7oGDFQB8oz93Ix9ego2/LgH6YAA/L/69Abk5/ClXczHCMQPQH0zS1fUGtPQRV2jaDx+GD+BzS9BwAmeoUfpmnFSrlW+Vsgc+/ekHIBxigd0/eG/McE8H2wMfjjmjacYPQdAoAHPWnUc0Xfcr0Qxk3d9vfK8Z+vrTvur8pw3Zs9PXA7UbR3pPLFHNLuRyrRdg4HQDAOQCAcn/ClHAApaKfMy1boFew/su/8AI/33/YMk/wDRsVePV7D+y7/yP99/2DJP/RsVdmB/3iB8pxV/yJMT/h/yPqKiiivuz+SAooopAFFFFABRRRQAUUUUAFFFFABRRRQAUUUUAFFFFABRRRQAUUUUAFFFFABRRRQAUUUUAFFFFABRRRQAUUUUAFFFFABRRRQAUUUUAFFFFABRRRQAUUUUAcX8X/DLeLPh9qtlCubiOP7RHjqzIwOB+GRXxbnrn6iv0FYEqRnOR0PTjoPocnNfH3xs+HreB/F0strGy6VfOZrYgZAbq0XsfT2r53NKLsqyR+1eHebxpyqZbUe+sfXsefUUmcdOfpQTgZxXzR+8h96qmraRp2uWgtdTsbfUbYHcIbuJZUDdmCsCoPvjNW+oox680a3umROEakeWauhpQNzhcbSOVGMdOnTpxVHStB0zRbaaDTNNtNNhmcvLHawLGrsf4mUDDHgDmtA54x0oxzx0q1KUdnoR7Km2puOq28kZ9n4d0rT9Ml0y00yytNNl3iS0gt0WIqw+bKAAHJ9RVLTfA/h7SdLutOtNE023sLpg89tHbKqSkf3gOP0rc2/Nx070u0dMcUc82999TP6vSulyLbsv6+Rztn8OfCdhZ3Npb+GtJitbkATQraRhZACCA3y5IyFI5rSuvD+mXl5Z3NxYWc13Z5+yzyW6F4c8HYSCV49DV5oyXU/wil2/Pmj2k3q2THC0IrSC+5dNgUncc8mqS6Pp0OrSaklhbLqk0fkveiFfOePIO0vjdgYHGccVcZTuBHpS7fnDe1Srx1ubOEZtOS8/RoU/KuF/DgD+VUtP0fTtMuLu4srC1tLi6fzLiSCFI2mb+85AyxySck85q5g789sUqrgn3oV4qyYOnF25ldrUq6hplnq1jLZ3tvDe2swxJBcRh0f6qc1leH/AfhzwrLJLpGh6dpssgwzWlusZb2JAyR7VvLGF7Zpdo9Kr2kkuW+hnPD0pT9o4py72V/v3MrX/AAro/im3SDVtMstUgRtwS7gWQA+oz0ptn4Q0LT5LJ7XRtNt2sSTaPFZxg25JG7YcZXdjBwela6qFGAKNvy4xxQqk0uVMUsNRlL2jgm+9lf7yhDoun2+qTajFp9rHqU6COW8WICWRBjCs+NxHA4JxxTrHRdP0f7S2nWFrZPcO0sxt4Ei82Q/xsVUZPX86u4x0pMHC/Xmjmclyt6GipQumo7a/fuUF0PTIdWn1P7Barqk6bJL5YEE0q427HfBYrtAHXt0rMtfhz4W07VV1S38O6XFqKnIultEEgPqCB3ronjDfWjaSPmNWqk7XuZSwtGolzQVr3tZb9/XzKF1oum6hfWt3dWNtc3dqSbe5mhR5Is9drEZH4EVok/MaYyfMpHanEHcDWUm5bs3jThGTlFWb3FopC2KM8ZpJGq2Dua1fB/h+XxR4q0/So+RdTBTjsuBvP4AZ/CsmTO3C/ePTmvoz9mf4fmxt5PFF/CfOlxFaI46J1Lf8C6fQ/hXdhaTq1Iqx8txJmsMoy+pXb95qyXme7RQrbxJEo2rGAoHoBxTtq7cFMjOcDAA6ZHIPUZz79MUAbQB1xxS19ylZWP5HlJyk5S3YZJ5Y5Pc0UUUEhRRRQAUUUUAFFFFABXj37UX/ACIOn/8AYTj/APRUtew149+1F/yIOn/9hOP/ANFS1xY3/d5n1fC3/I7wv+I+XaKKK+EWx/XAUUUUAFFFFABRRRQB5d+0vqF3pXwh1W7s7u4tLlZIdkkMrI6/vVHBB44rmtZ+EFz4Z8I3evaD498UW2q2dkbtVvNQ8+3YqodgybQQCDjnPPrWx+1NGf8AhSutANjM0BbAzx5qgc+uT0qtH8D/ABD4i0mKy8RfEjWNQ0maJRLY29ulvvXAJRmBJI7civZw7tQvJ21Pz3Mqc8RmVSkqbnaCtZ2s23qzrPAfxQstc8A+GdZ1q7tdOvdXxCBK4jWWYHadozxlgT9K2PD/AI/0DxTqU9jpetWOo3sABlhtZN7AE7e3vgfiK8d/aP8AClg2m/DLw5bQmy01tYjsEWLnykYKuA2OoGPfOa7r4iadp3w4+FviW78NaRaaZdwaa8UUlnAqyKhwC28DJxndk85xWFSnSnD2iWsm16WaO7D43G0KlShOMWqMYuT1u9L6dDdv/ip4N0/V30668TabBeo3lvC1yuQcZweeD2we9dNLdRw27TNJHHAg3NIzjaF9c56Y7183+CdCurj4a6dY/wDCnbfVk1CzV3v5tTs/NuHdQxlBYbweQQM8VR8RaV4o8N/A/wAK+FPEPm6b9t1+PTZP3qyOtm3KgupI46YPYVu8HC/InqclHPq3I6lSmnBRurc2j6J33vfc9Z8afFLw1rXgfxZBofiKzvNTttMuXSO1uR5u5Y2OU7nHXjOMGsPT8eJP2dvDsmpeLJfDjTRQSPqpmYyFs5Cn5++OtXPiz8LPCdv8Jtcit9HstNFhp8s9rcQweVJEyISMNgMd565zkHPXivO/GzGP9j3w7gZ/d2m3I6/MQDnFTTpw5Gqej5ktTnxOKxUK/PiuVr2TlZN9zvfjFql1p/xB+FMFrezxx3OqGOYRyFVmXMeNw78Z6nvXp2teJ9H0F7WHU9St7Oa9cx28cjfPM2cHaoznBP6j1FeJftJ60fDfiL4X6mtpNqBtb2SZbaFSWlYKm1R78jj3pPhP52tfGDWJvH1o8PjRYI59LtJSGggtWGSIRjG9c4J78/7eaeH9pTUnpbm/Mqnm8qOOqUIL3pum1fZJx6/M9j8ReOvDvgtYE1zW7PTWmP7pbmYKzrnG4L1Iz3x2p2oahp3iDwff3VnrMEOnz20v/E1t5VZYQEyWB3Y4AzXlvjjwHr+m/FS/8YWnhmw8dWV5Zpbvp1w6rNb7VAPl7wQA2CeOTuPAp3hHUvC+ofCnx+vhvSrrQJ44btdS0y4LbreVo2DYXO0Dg4xjoeBXP7FezjKGr0uepLMsR9Yq0sRFKGtt7tJbrpr2Wx6R8NrOGw8C6Rbwa23iGFEbbqTf8tgXY5zk8DHqa6ZeR6V5x+zwP+LKeGcqFP2eQYB5O6R+a9GXoTnOea5sRHlqySPdy2r7bCQm9LjqKB0ornPUCiiigAooooAK9h/Zd/5H++/7Bkn/AKNirx6vYf2Xf+R/vv8AsGSf+jYq7sD/ALxA+T4q/wCRJif8P+R9RUUUV92fyQFFFFIAooooAKKKKACiiigAooooAKKKKACiiigAooooAKKKKACiiigAooooAKKKKACiiigAooooAKKKKACiiigAooooAKKKKACiiigAooooAKKKKACiiigArA8beDbHxz4fuNLv0+WT7kg+8hxww9CD+lb9FRKKnDlkjehXq4WrCvRdmtv+CfC/jDwfqXgjWpdM1GIiVcski/dlXsynvnrWCvds8HpX3D468A6V4/0ZrDUIiGGWinTiSJvVT29xXyd8Qvhpq/w81Bo7+PzrJyfJvoxmNxnjP91sdjx6E18ji8DOi+aCuj+leGuLMPm9P2Fd8tXr5+hyVFN3e3tS5/P0ryWrOzP0bbQWik3e1LRZ2uMKKKKQBRRRQAUUUUAFFFFABRRRQAUUUUAFFFFABRRRQAUUmfwpCw7c/SqswFA65pA2W29+/tQpLdBuOeg6/lXrnwp+A914saPUtaElhoykOIhxJP3BHop+vNbUqE687RPGzPM8NldGWIxUrJbLqZ3wc+Edx4+1RL67iaDQ4HBlkx/rmB+6nr79B9a+tbe2js4I4II1hgiULHEn3UA4wKj0vTbXR7GCzsoltrWFQsccQwAAMAYqx+GPYV9nhMLHDR5d2fzDn/EFfPcQ6j0h0XZf5i0UUV2nyewUUUUAFFFFABRRRQAUUUUAFePftRf8iDp//YTj/wDRUtew149+1F/yIOn/APYTj/8ARUtcWN/3eZ9Xwt/yO8L/AIj5dooor4RbH9cBRRRQAUUUUAFFFFAHI/E/wH/wsrwhd6Cb7+zxO8b+eYfN27WBwF3L1x1zXT2kBtbWGDdv8uNU3BcZwMZx2qbHWlrV1HychyrDwVaVe2rSX3HFfEL4b/8ACeX3hm5/tH7AdG1GPUMfZ/N80qVwv3hjgehrqtW0+21bT7qzu4VuLW4iaGSF+jqy4IJ9M/yq3zSAHnPSs+aUko7WJWFpqc6rWst/PSx49Y/B3xh4dsW0fw78SLrT/DoLeVbz6eks0CH+FZC2cY6dMV1epfCvTvEHw5i8JapfX2owoiquo3ThroSA5EgbGMjpgjkdTXanPI7Ujx7lUZIwc8V1vEyk77HnU8owlJOPK7PTduy7eh49d/BHxRr+gzaHr/xBuNR0gwmJII7FIncgNsMjhtzhWbOCefatTWvgqusfCTTvAv8Aa+xbPyR9t+y53qhJxs38ZyO5r0/aKTbjp1pPEVGrLvcmGS4SKlo9Y8uvZ6nE+NPhr/wmHiHwfqb6h9m/4R65NyIxBu88nbkZ3Db9wdjUfxF+GK+OLrRtTttROka/pNx5ttqAi8z5P4omXIyp69fUY+Y13ZzjjrRt3Lg1Pt56O50zy3DyhKE435rX7+7szzHXvhTrUfia+1zwr4tk8O3upKv26FrJLi3lYDG9Ub7hPJ4Jqbwj8GYfDPhXxLp0uqy6nq/iDzWvdUuYuGZ0ZciMHGAXY4zXo6RiMEAk/U0YOck4+lVLE1LcsdjGGU4aNX21ndX3btro9DnPh94N/wCEC8GaZoC3f2/7DGUFwY/LJJdmzjJ7MO9dIBhcdaBnvRzmuaUnN80tz1KFGNCnGlDZC0UUVJ0BRRRQAUUUUAFew/su/wDI/wB9/wBgyT/0bFXj1ew/su/8j/ff9gyT/wBGxV3YH/eIHyfFX/IkxP8Ah/yPqKiiivuz+SAooopAFFFFABRRRQAUUUUAFFFFABRRRQAUUUUAFFFFABRRRQAUUUUAFFFFABRRRQAUUUUAFFFFABRRRQAUUUUAFFFFABRRRQAUUUUAFFFFABRRRQAUUUUAFFFFABVa/wBNtNVtJLW9t47q2lBDxSoCp+o7/pirNFS0pLlaLhUnTlzRdn3R89/ED9mht8t94VlCjljpsxI6/wBx8fkDivCtX0e+8PX7Wep2stndqSDHOuxj9M9fwzX3z7E8fTNZfiDwvpPiq1a21awhvYWGBvUbl9wetePiMrhUV6Lsz9TyXj3FYK1HHR9pDv8Aa/4J8Hb+5BA9cUrfMvH86+iPFn7LsUjvP4b1AQd/st6NyfRWHI/I14/4k+GPiXwjI39oaVcLCOfPhUyx49cqOPxArwKuCrUXZo/Y8t4kyzMlejUSfZ6M5cdBS0hYL147jdxn86FO7p19K4T6m6auLRQcr1GDnGMikLEfwmiwXQtFGaM0D3CiiikIKKKM07MYUUm4etLketFhXuFFH4H+VIzbexx64OKS12AWkz6DI9akghkupRFDG00rdEjG5j9AK73wv8C/FnibZM1h/Zto3H2i/wDk4/2UwWJ/DFbQo1Knwq55uLzHCYFc2JqqPqzz1iOh5HtzXReD/h/rfja7WHSbCSePOHmI2xp7ljwfwzX0L4O/Zt0HQWSfVpH1e8U52kGOIexUHLficf7I6V6vZ2Vvp9ultaW8VtaoAFgiQKgx7ACvaoZVKX8dn5bm/iFQpJ08ujzPu9vuPLvhz+z/AKV4SaK+1by9V1ReQsiZgiP+yvBJHqfyr1jPA5z+WP0oor6KjRp0fhR+KZhmWJzKt7bETbf9dAooorc80KKKKQgooooAKKKKACiiigAooooAK8e/ai/5EHT/APsJx/8AoqWvYa8d/aiP/FB6cP8AqJR/+ipK4sb/AAJH1XC2mdYZv+Y+XqKQMCPSjcPWvhD+uRaKTcPWjcPWgBaKTcPWjcPWgBaKTcPWjcPWgBaKTcPWjcPWgBaKTcPWjcPWgBaKTcPWjcPWgBaKTcPWjcPWgBaKTcPWjcPWgBaKTcPWjcPWgBaKTcPWjcPWgBaKTcPWjcPWgBaKTcPWjcPWgBaKTcPWjcPWgBa9h/Zd/wCR/vv+wZJ/6Nirx3cPWvYf2X2A8fXp9dMk/wDRsVduB/3iJ8nxV/yJcSv7v+R9R0UHqaK+7P5ICiiigAooooAKKKKACiiigAooooAKKKKACiiigAooooAKKKKACiiigAooooAKKKKACiiigAooooAKKKKACiiigAooooAKKKKACiiigAooooAKKKKACiiigAooooAKKKKACiiigBCqnqAfqKCu4EMAw9COP8KWim7y3ElyvmirejOX8QfDHwv4m3/btHt2kbJ86FRC+T3ygGTXnetfst6JdFm03VLyyJ/gmHnJ+pBx+Ne2UVy1MNSq/HE+hwef5lgHbD15fP8A4J8uan+y74mtdzWN9p19GvAXeY3P4YwPzrlNS+C/jTSziXQbiQdmhZZM+/BzX2dn2z9cf4UmApyOD9cfyrz5ZXQltofYUPEHNKdvbRjP5W/I+Erzwdrun5a60XULdR/FLbOo/MisuSN4SQ0bKRx8wxX6A89+f0pjwRy/fjVv95Q38xXPLKF/Me3T8Sqq/i4ZP0Z+f+3v8w/Ol2/X86+9JNB02QkvYWshPXdCv+FN/wCEd0r/AKBln/34X/Cs/wCyJ9JnZ/xEqj/0Dv70fBmTnAGfoRU8FjcXjbYLeSZvSNCTX3nDpdlBjy7SCMDptiUf0qzsUYAUAD2A/kBVf2Ov5jCXiSv+XWG+9nw3ZfD3xLqBH2fw9qUgPIYWr4/PFdJpvwB8b6kAw0kWkfeS6lRMfUZz+lfYPt0HpTdilvurjtkAn/61bRyilHdnlV/EbH1P4NKMfW7PmzSP2V9VmZW1LWLO2TqUt0aY/mwXFd1on7NHhXTWWS8e81KVe0kvlx5/3VAP5mvWv1pa7KeAw9P7J8ti+Ls4xmjr8vpoZGi+EtH8ORhNN021tP8AajiGfxJySfxrXHBJ5ye/f9c8e1FFd8YKPwo+Vq1qtd3qS5n3b1+8T8APp0paKKo5wooooAKKKKACiiigAooooAKKKKACiiigAooooAKxvFfg/SfG2mx2GsWv2q1jmEyxiRo8MARnKEHua2aKlxUlytGtGpUozU6bs11PO/8AhQHgbvozMe5+2T8/+P0f8KA8C/8AQFb/AMDJ/wD4uvRKKz9hQ/lPW/tzMv8AoIn/AOBHnf8AwoDwL/0BW/8AAyf/AOLo/wCFAeBf+gK3/gZP/wDF16JRR7Ch/KH9t5l/0ET/APAjzv8A4UB4F/6Arf8AgZP/APF0f8KA8C/9AVv/AAMn/wDi69DyMqNyjJx8xA7gd/r/AC9Rk5BAIIJ6A8E5zjHr0PT0o9hQ/lD+28yvb6xP/wACPPP+FAeBf+gK3/gZP/8AF0f8KA8C/wDQFb/wMn/+Lr0QYJXkANjBbgc5xz+X4EHpk0cAZY7eM8g0/q9H+UP7bzJafWJ/+BHnf/CgPAv/AEBW/wDAyf8A+Lo/4UB4F/6Arf8AgZP/APF16JjG7PAGOe3/ANb8fT6UYI6jB6ckcHjg+nX/ADxS+r0duUP7bzLf6xP/AMCPO/8AhQHgX/oCt/4GT/8AxdH/AAoDwL/0BW/8DJ//AIuvQ8jrkYxnPtxz9ORS7TxweRkZBGeccetHsKFr8of23mV7fWJ/+BHnf/CgPAv/AEBW/wDAyf8A+Lo/4UB4F25/sVuvH+mT5P4b69DX5sYGcruHbj157e/Q9s0jMoUsFJxjPB3EYGFz1GSf59+KToUFvEFneZS0WIn/AOBHnrfADwKoJ/sRjjr/AKZP/wDF0f8ACgPAv/QFb/wMn/8Ai6NN+M+nXXw68J+K7qxnjn8SPbRWWl2hWWeaSbnauWAIQBmYkjCoTXoj5RSdpwPb8P54Hvmn9Xor7IlnmYvbET/8CPO/+FAeBf8AoCt/4GT/APxdH/CgPAv/AEBW/wDAyf8A+Lr0QgrnPTpmj+EN/DnG7rjtz/ntR7Che3KP+28y/wCgif8A4Eed/wDCgPAv/QFb/wADJ/8A4uj/AIUB4F/6Arf+Bk//AMXXoYOee2N2RyMZxxjr0PT0peehGDjPzcZ7dTx1yPwPYZo+r0F9kP7czJ/8xE//AAI87/4UB4F/6Arf+Bk//wAXR/woDwLjjRWJ9Ptk+f8A0OvQwwOcHPb9M8+nHPNZ3iTVl8O+HtS1aSBplsbeS48p32F9iM5UMfZT7e/Wj6vQ/lD+28y/6CJ/+BHHf8M/+BcZ/sVvT/j8n/8Ai6P+Gf8AwL/0BW/8DJ//AIut3w342k8RLoTpo95Fb6ppSambzCm2gZhGRAzFg28iQkfLjCNkg4B6dRuxjpjOe2M4z+fFH1eh/KH9t5l/0ET/APAjzr/hQHgX/oCt/wCBk/8A8XR/woDwL/0BW/8AAyf/AOLrqrrxVaJo2tahYxzay2kmVJ7SwCtM0sabzCgYqpcgjAz14OKseGvEWneL9A07WtJuVu9N1GBLm1nUEeZGwyDg8j0IOCCKf1ej/KH9t5l/0ET/APAjjf8AhQHgX/oCt/4GT/8AxdH/AAoDwL/0BW/8DJ//AIuvRKKXsKH8of25mX/QRP8A8CPO/wDhQHgX/oCt/wCBk/8A8XW14V+F/hvwXqEt9o9gbW7khMJlM8knykg4w7EdhXVUUlRpRfNGJnWzbHVoOFStNp7q4cdhgdhRRRW55AUUUUAFFFFABRRRQAUUUUAFFFFABRRRQAUUUUAFFFFABRRRQAUUUUAFFFFABRRRQAUUUUAFFFFABRRRQAUUUUAFFFFABRRRQAUUUUAFFFFABRRRQAUUUUAFFFFABRRRQAUUUUAFFFFABRRRQAY5I6n/AOsT/IUev+yNx46CuA+JniDUPB+reEdaS5YeH21FdL1m2I+Ty7r91DMT1ys4gU46CQmn+GvEWp+JPi14kEF0yeHtAjg04QbRtn1Bws8zk/7ETW6gdMsw7UAd4ylWIIOQcH24z/L+VIx2qzEfdBJ9AB1OemB3546HkEDzr9oLXNa8K/CDXdS8O3Y0/WYDbJZ3ToJAu+4iXJDK3HLL0zjPFc14s0fXfg9F4f8AE9t4x1zWy2s6fp2qWWqSxyQXUdzPHBvjAUCFkeVJFWJgCEZSG5IUPe3Htue1bh6r+Y/zwMn2HPcZXnng5BA29Dk9Bg9Px+nXivF9B07xD8QPil8QIdR8UatZeHvD2r2lvYafpU4tyzNYWszCWQKWZC0hwpOPmb/Y2cLH8Sv+E+k8T6neeLfG2gXlrqd5Y6Pb6H4dvprS1SCV4Vkk2Wrxzs7RlyrMV2tsADLuqhH1EMNyrK49VIPf/J9u+DxXPyeN9Oh8UaloLCf7Zp+nRanMyxFk8mRpVQDHJYmF+Mdh34ryjSfFnif4uah4B0K/utR8Fvf+HP7f1+KzQ2t55xMUSW6mZWeBdxkcnAcCNfmw1VfDekap4N+Nfj+3n1671qG38HWU9ldakFa7hUzXuY3cAbwGGV3KW5PXqUgXvbHueh6xa+ItHsdUsTI9pfQR3EDSQvExR1DLuVgChIPRgCCMHmrMl1FC0aySLG0jiJA7AFmK7goB6kgZrwrQfEniL4kw/Dbwq2vX2jnUPCUWv6zqFiY0vbolYFWKJ2UiJTI7u7IufkUDGeKvxW+Hc9hq3wr06Hxt4nEE3iaVRK17G8kanT7t9wLIWPKEDcTwxOTigD6Eb5cZ79KKr6ZYnTNOgtXupr6SJFRri5YNLIQMFmI4LHqeByasUAFFFFABRRRQAUUUUAFFFFABRRRQAUUUUAFFFFABRRRQAUUUUAFFFFABRRRQAUUUUAeOfFDw/wD8Jj8cPAGiX2p39voT6Pq93e6faXslvHe7JLJUEoRgWC7zxyMDp8zA0tF0eD4e/EHx74W0KSaz0JvC9rqcGmvdO8cFw0l3HI0Ss5KBhFESinaShO3Jr1S88I2d54z0nxO81wL/AE2zurKOFHCwuk7wM+4YJP8Ax7J+ZrK8ReC7SG/8SeJkkuZL690L+zXtyQ0PlxGZ02qBkMTM3ej7L+Y38SfkjxHRfhpZ2/7MGm+OxrGqS+OoPC8WtR+JrjUZzM1yLbzdrbnCtCSCrQkbSARznNe9SaxPqnw1k1X95b3N1pLXAwfmWRoN+N3dgTXkXws+BU2p/BXwbomo+LdfXwvPoln9r8OOLcK6tFGz25m8rzxETlSm/O3Cbto217BceEXvNc1K7m1m/wD7PvdNTTv7KXyxbw7WcmVMKG3kSFeTjCrxVv4bCXuzueEaRpJ+HP7MMPxBtrq5v/Hs/haCSTxBfzNNIhmjiLNtfKiNAVIUD+Ank1t/Er4b6Z8G/A6+MfD1xqUHiPR7i1aa9udRnlfVI2mjSaG6DswlModgMrlSyFegr1uy8A6Ra/D238FzRPf6FFpqaU0dyQWkgWJY/mwAN2F6gADPArk7X4IyytpdtrXjTXfEOhaZNFcW2k3yWojMkTAwmaRIVeYRlVZQ7ckAsWK5MdX5tP7ir6LyTX3lj4d6hcXPxR+KSzXMk8EF9Y/Z0ml3IimyhZwpJIIZiT1OSD1ryrxLLqut+Atas4da1GxluPifFp32u1meOSK3N/GjRK4OQCCwwGGMHivXvEPwvu77xZqPiDQPFmqeFbzVIootRjs4ra4juvLBVJMXEUmyQIdmR8pCjcrHpT0H4B+H/D/hmLRIb7VrqBdfTxLJc3VwjzzXizifLvs5Uuo4x/EeaJax/ruRFWl/XY5/UPBOkfCn4nfDuXwwtxpia1qF1Y6jBJezSx3iiznmWSVZHbdKGhjxJjfh2GfmNZfw8+H+mfFnwXd+MvEFzqUniXUbq+e3vo7+eF9NjS4ljhihVHCx7FRQcDLMCxBzXsWveEbTX9Z8OanLNPDcaDdyXltHCQsTu9vLAd64PG2U9D2FcbN8E5bWTVbTRPGeu6B4b1Saa4udEs1tiiPMSZzBK8TSQiQsWKqTtYllKk0vsOD8/wAy4+64nlPwLWTUb39nyyupvPFj4JvdSjLKFEl1usoBJgcAhJpR9JCOhzXVN401X4d+FvH3heO4muvEunagsHh57pzLJNHqMg+xMT/EIpXmi9ltyecYrZ1P4QyeB7b4aTeCraa+Xwe39mtYPKnnXGlTBYpvmYgFoysDjJGTB71RtbPTPi5+0Bo/iDS4LiXTfCtjMlzd+VJFBc30m5YIBuUeYYU+0sdudpnU9c4qXkZfDdryPWvCvh9fDXhfSdIW4kuxY2sVv9pnk3yS7EC72J6k4yT715HN4JtPiP8AtCeN7PxDd32p6Jp+kaSYNDN5KLXzpGuizsiMNzYVcZJxxgCu51Dxx4rtdQuIYPh1qt7AkjLHdR6hZIsqgkBwrTgqCOcEAjNefWPgnV/FPxy8Za7b6lq3grVP7C0eFzGkNzFIrNdF4ZUkV0co23DIcjPDY4o+0n5MtbHL+MLzVfC/w7+L3hPSNbvoLXQ9W05NIvpbhpprOO5+yuYRI5LOAzvhWJ+R1X7oFdF8WPDtr8KfCej6T4Ws9YkufFOu2um6rPZX+/U7qLy3llPnTSpiR1iZfMLK3z8MTtx3dv8ABPR28E6r4fu9R1S/fWbxNR1PVp5YxeXc6vE2SURUQFYY0ARFCqMKK6Xxt4MsfH3h86TqMk0CrLHcQXdq5Sa3mjYPHLHzwytzjoRwQQTQvdX9dhfE+3/Dnjng3TdV8L/ELT7vw54A8TeFfDDadeLrVrrN9bPA8y4e3kVVuZWSUsChZQudwLNuVaxrT4Y6d4y/ZtuvG+o6lqDeNdX8OTaxLr8d9MkkM0kBlCom7aIU4QQldmEIIJYmvbPCXg/X9D1A3Gr+OtW8SQKmxLO7tLKKPqPmYwwIzOMcHO3k/JXKTfs+xtoN34Xh8Y69a+B7lXhPh6P7PtjgflrdLjyvOWHPRA3yg4BA4ojuUzmdA8SXeg6t4NmjeSWK1+Gk159gWQlXlU2e0bD95vvYJ/vnNb/wn+Feia14T8L+L9ZF5rni2+tLfVbjV5L6ff5sih8Rru2pGCxCoF2hcZBPNdpo/wANNK0TVtEv4JrqVtI0M+H4IZnUxvbFomJdQoyx8lBxjvWJ4X+EN74LnsbTRfG2s2fhWzl3w+HngtJoYosk/Zo5ZITIsPTALMy4AVlHFAM5T9nXwDoWi6n421i2iuheweJ9Utkme+uJtsYdQR5ckj5I45xntknNb37PKmx8O+LdHiQR22l+KdWtLWNMFVjacyCNfQAyOoA6ba0ofAeo+BdV8Ra/oOo6lqVtfSTai3hUCAJc3bRYPlzOA8e5kU7d+3dk45xVv4N+B7zwB8P7HTdUmjm1yaWbUdSngIKNeXErzTFSP4VaRlX2Aq09WJ7HcEhiSvTtiik+gxS1mAUUUUAFFFFABRRRQAUUUUAFFFFABRRRQAUUUUAFFFFABRRRQAUUUUAFFFFABRRRQAUUUUAFFFFABRRRQAUUUUAFFFFABRRRQAUUUUAFFFFABRRRQAUUUUAFFFFABRRRQAUUUUAFFFFABRRRQAUUUUAFFFFAHn/x01fw9YfDDxHa+IryO3hvLGaKKFJALieTbhRAhILS7mjAC5Odp4yKo+AIZvhH8KtFj1+11LV9bu2Nzq50uwlupZLy4LSzkpGpYKHdgCR0wOgFeg32i6fqV1aXV5YW17cWrBreS4iVnhOSSUYg7SeOQM4GPQi4uVA+Yk+xKjPr1z+GcURGzwD49eNrTx98G/Euk2+n+ItKkmFoTeXulT2gBN3AnyO6hd43bgAfUV18nw48XeKtQ0WDxh4j0nUPD2lXkN/9m0vS3tZ9QlhYPB57tK6qiyKJSiL8zgcqBg+m3VtDewmK4jW5iOCY5lBViCCuR04Kr27U8DaAOtC91O3dfkG8o37HMeFfBP8AwjPiHxbqv2tbptf1CO+MbQBfJC2sFuYyQfnB8gPnAwTwK5a3+HfjHwbqOqL4L17RYNF1G+k1EWOu6ZLcvYXErF5mhkimjLI0haTy2AIZ2IcDivUaKaJWx574o+H+v32r6D4m0XW7Gw8V6bZyWNw1zYvJY3sMhjZ0aIShlxJGro29imSPmFU/Dvwn1iHxR4m8S694jh1DVNc0qLSTbWdk0FraRRmYqI1MrMQTMxbccse46V6dRSG/I8p/4UzqWhaX4Km8Na/b2fiLwzpK6Mbi9sTJZajbbIleOaBZFYZaFJAwfKnjnrVnxF4D8Z+KtF0O5vdf0WHxVoerrq1jPBpsptOIpIjFKjTFnyk0vzhl5KkL8mG9NooAqaML+PTbUam9tJfhB55tI2WItjnbuJbGemST6k1aHAFLRQAUUUUAFFFFABRRRQAUUUUAFFFFABRRRQAUUUUAFFFFABRRRQAUUUUAFFFFABRRRQAULwQdxB3ZyOOMdKKKAEUYAAAA9AOKWiigAooooAKKKKACiiigA4OByR6Nhvf0+v04pGVWUqVyhG0pnGR1OSMewyADjuaWigBOec4JPUgY/TtTl+VhzwCCMDkdO/fvwfWkooASloooAKKKKACiiigA9eW+bGcHHTGDjB5GPxyaTgcAADsAMClooAKKKKACiiigAooooA//2Q==)"
   ]
  },
  {
   "cell_type": "markdown",
   "metadata": {
    "id": "oX07BLNDzjr1"
   },
   "source": [
    "Data penjualan berupa data diskrit sedangkan ouput model regresi biasanya berupa data kontinu. Oleh karena itu, akan dilakukannya pembulatan pada hasil prediksi menggunakan library numpy.round\n"
   ]
  },
  {
   "cell_type": "markdown",
   "metadata": {
    "id": "cxXsOcB5z0IF"
   },
   "source": [
    "## Model Train-Testing"
   ]
  },
  {
   "cell_type": "code",
   "execution_count": 11,
   "metadata": {
    "executionInfo": {
     "elapsed": 606,
     "status": "ok",
     "timestamp": 1638778868892,
     "user": {
      "displayName": "006_Berryl Bagas",
      "photoUrl": "https://lh3.googleusercontent.com/a-/AOh14GiDZMNEtuSWWuS-fsix3MeuvW88AemkkLEu8OFTyg=s64",
      "userId": "09798621404980976797"
     },
     "user_tz": -420
    },
    "id": "b06RLCQDw2_s"
   },
   "outputs": [],
   "source": [
    "from sklearn.linear_model import ElasticNet, LinearRegression, Lasso, Ridge, HuberRegressor, PoissonRegressor, ElasticNet\n",
    "from sklearn.svm import LinearSVR, SVR\n",
    "from sklearn.ensemble import RandomForestRegressor, GradientBoostingRegressor, AdaBoostRegressor\n",
    "from sklearn.tree import DecisionTreeRegressor\n",
    "from xgboost import XGBRegressor\n",
    "from sklearn.neural_network import MLPRegressor\n",
    "\n",
    "from sklearn.metrics import mean_absolute_error, mean_squared_error,r2_score,mean_absolute_percentage_error"
   ]
  },
  {
   "cell_type": "code",
   "execution_count": 14,
   "metadata": {
    "executionInfo": {
     "elapsed": 2711,
     "status": "ok",
     "timestamp": 1638778894075,
     "user": {
      "displayName": "006_Berryl Bagas",
      "photoUrl": "https://lh3.googleusercontent.com/a-/AOh14GiDZMNEtuSWWuS-fsix3MeuvW88AemkkLEu8OFTyg=s64",
      "userId": "09798621404980976797"
     },
     "user_tz": -420
    },
    "id": "LOzi6XhaxABf"
   },
   "outputs": [],
   "source": [
    "ad =  AdaBoostRegressor()\n",
    "ad.fit(x_train,y_train) \n",
    "y_jawaban = ad.predict(x_test)\n",
    "ad.mse = mean_squared_error(y_test,y_jawaban)\n",
    "ad.rmse = np.sqrt(mean_squared_error(y_test,y_jawaban))\n",
    "ad.r2 = r2_score(y_test,y_jawaban)\n",
    "ad.mae = mean_absolute_error(y_test,y_jawaban)\n",
    "ad.mape = mean_absolute_percentage_error(y_test,y_jawaban)\n",
    "\n",
    "h =  GradientBoostingRegressor()\n",
    "h.fit(x_train,y_train) \n",
    "y_jawaban = h.predict(x_test)\n",
    "h.mse = mean_squared_error(y_test,y_jawaban)\n",
    "h.rmse = np.sqrt(mean_squared_error(y_test,y_jawaban))\n",
    "h.r2 = r2_score(y_test,y_jawaban)\n",
    "h.mae = mean_absolute_error(y_test,y_jawaban)\n",
    "h.mape = mean_absolute_percentage_error(y_test,y_jawaban)\n",
    "\n",
    "en =  ElasticNet()\n",
    "en.fit(x_train,y_train) \n",
    "y_jawaban = en.predict(x_test)\n",
    "en.mse = mean_squared_error(y_test,y_jawaban)\n",
    "en.rmse = np.sqrt(mean_squared_error(y_test,y_jawaban))\n",
    "en.r2 = r2_score(y_test,y_jawaban)\n",
    "en.mae = mean_absolute_error(y_test,y_jawaban)\n",
    "en.mape = mean_absolute_percentage_error(y_test,y_jawaban)\n",
    "\n",
    "ls = Lasso()\n",
    "ls.fit(x_train,y_train) \n",
    "y_jawaban = ls.predict(x_test)\n",
    "ls.mse = mean_squared_error(y_test,y_jawaban)\n",
    "ls.rmse = np.sqrt(mean_squared_error(y_test,y_jawaban))\n",
    "ls.r2 = r2_score(y_test,y_jawaban)\n",
    "ls.mae = mean_absolute_error(y_test,y_jawaban)\n",
    "ls.mape = mean_absolute_percentage_error(y_test,y_jawaban)\n",
    "\n",
    "lr = LinearRegression()\n",
    "lr.fit(x_train,y_train) \n",
    "y_jawaban = lr.predict(x_test)\n",
    "lr.mse = mean_squared_error(y_test,y_jawaban)\n",
    "lr.rmse = np.sqrt(mean_squared_error(y_test,y_jawaban))\n",
    "lr.r2 = r2_score(y_test,y_jawaban)\n",
    "lr.mae = mean_absolute_error(y_test,y_jawaban)\n",
    "lr.mape = mean_absolute_percentage_error(y_test,y_jawaban)\n",
    "\n",
    "mlp = MLPRegressor()\n",
    "mlp.fit(x_train,y_train)\n",
    "y_jawaban = mlp.predict(x_test)\n",
    "mlp.mse = mean_squared_error(y_test,y_jawaban)\n",
    "mlp.rmse = np.sqrt(mean_squared_error(y_test,y_jawaban))\n",
    "mlp.r2 = r2_score(y_test,y_jawaban)\n",
    "mlp.mae = mean_absolute_error(y_test,y_jawaban)\n",
    "mlp.mape = mean_absolute_percentage_error(y_test,y_jawaban)\n",
    "\n",
    "r =  Ridge()\n",
    "r.fit(x_train,y_train)\n",
    "y_jawaban = r.predict(x_test)\n",
    "r.mse = mean_squared_error(y_test,y_jawaban)\n",
    "r.rmse = np.sqrt(mean_squared_error(y_test,y_jawaban))\n",
    "r.r2 = r2_score(y_test,y_jawaban)\n",
    "r.mae = mean_absolute_error(y_test,y_jawaban)\n",
    "r.mape = mean_absolute_percentage_error(y_test,y_jawaban)\n",
    "\n",
    "lsvr = LinearSVR()\n",
    "lsvr.fit(x_train,y_train) \n",
    "y_jawaban = lsvr.predict(x_test)\n",
    "lsvr.mse = mean_squared_error(y_test,y_jawaban)\n",
    "lsvr.rmse = np.sqrt(mean_squared_error(y_test,y_jawaban))\n",
    "lsvr.r2 = r2_score(y_test,y_jawaban)\n",
    "lsvr.mae = mean_absolute_error(y_test,y_jawaban)\n",
    "lsvr.mape = mean_absolute_percentage_error(y_test,y_jawaban)\n",
    "\n",
    "rf = RandomForestRegressor()\n",
    "rf.fit(x_train,y_train) \n",
    "y_jawaban = rf.predict(x_test)\n",
    "rf.mse = mean_squared_error(y_test,y_jawaban)\n",
    "rf.rmse = np.sqrt(mean_squared_error(y_test,y_jawaban))\n",
    "rf.r2 = r2_score(y_test,y_jawaban)\n",
    "rf.mae = mean_absolute_error(y_test,y_jawaban)\n",
    "rf.mape = mean_absolute_percentage_error(y_test,y_jawaban)\n",
    "\n",
    "d = DecisionTreeRegressor()\n",
    "d.fit(x_train,y_train) \n",
    "y_jawaban = d.predict(x_test)\n",
    "d.mse = mean_squared_error(y_test,y_jawaban)\n",
    "d.rmse = np.sqrt(mean_squared_error(y_test,y_jawaban))\n",
    "d.r2 = r2_score(y_test,y_jawaban)\n",
    "d.mae = mean_absolute_error(y_test,y_jawaban)\n",
    "d.mape = mean_absolute_percentage_error(y_test,y_jawaban)\n",
    "\n",
    "hb =  HuberRegressor()\n",
    "hb.fit(x_train,y_train) \n",
    "y_jawaban = hb.predict(x_test)\n",
    "hb.mse = mean_squared_error(y_test,y_jawaban)\n",
    "hb.rmse = np.sqrt(mean_squared_error(y_test,y_jawaban))\n",
    "hb.r2 = r2_score(y_test,y_jawaban)\n",
    "hb.mae = mean_absolute_error(y_test,y_jawaban)\n",
    "hb.mape = mean_absolute_percentage_error(y_test,y_jawaban)\n",
    "\n",
    "p =  PoissonRegressor()\n",
    "p.fit(x_train,y_train) \n",
    "y_jawaban = p.predict(x_test)\n",
    "p.mse = mean_squared_error(y_test,y_jawaban)\n",
    "p.rmse = np.sqrt(mean_squared_error(y_test,y_jawaban))\n",
    "p.r2 = r2_score(y_test,y_jawaban)\n",
    "p.mae = mean_absolute_error(y_test,y_jawaban)\n",
    "p.mape = mean_absolute_percentage_error(y_test,y_jawaban)\n",
    "\n",
    "nb = LinearRegression(positive=True)\n",
    "nb.fit(x_train,y_train) \n",
    "y_jawaban = nb.predict(x_test)\n",
    "nb.mse = mean_squared_error(y_test,y_jawaban)\n",
    "nb.rmse = np.sqrt(mean_squared_error(y_test,y_jawaban))\n",
    "nb.r2 = r2_score(y_test,y_jawaban)\n",
    "nb.mae = mean_absolute_error(y_test,y_jawaban)\n",
    "nb.mape = mean_absolute_percentage_error(y_test,y_jawaban)"
   ]
  },
  {
   "cell_type": "code",
   "execution_count": 13,
   "metadata": {
    "colab": {
     "base_uri": "https://localhost:8080/",
     "height": 362
    },
    "executionInfo": {
     "elapsed": 682,
     "status": "ok",
     "timestamp": 1638778883041,
     "user": {
      "displayName": "006_Berryl Bagas",
      "photoUrl": "https://lh3.googleusercontent.com/a-/AOh14GiDZMNEtuSWWuS-fsix3MeuvW88AemkkLEu8OFTyg=s64",
      "userId": "09798621404980976797"
     },
     "user_tz": -420
    },
    "id": "w-WaVJ_OxDzc",
    "outputId": "2bfefaa9-a6c3-493d-b60c-2c13177436cf"
   },
   "outputs": [
    {
     "data": {
      "text/html": [
       "<div>\n",
       "<style scoped>\n",
       "    .dataframe tbody tr th:only-of-type {\n",
       "        vertical-align: middle;\n",
       "    }\n",
       "\n",
       "    .dataframe tbody tr th {\n",
       "        vertical-align: top;\n",
       "    }\n",
       "\n",
       "    .dataframe thead th {\n",
       "        text-align: right;\n",
       "    }\n",
       "</style>\n",
       "<table border=\"1\" class=\"dataframe\">\n",
       "  <thead>\n",
       "    <tr style=\"text-align: right;\">\n",
       "      <th></th>\n",
       "      <th>Model</th>\n",
       "      <th>MAE</th>\n",
       "      <th>MSE</th>\n",
       "      <th>RMSE</th>\n",
       "      <th>R2</th>\n",
       "      <th>MAPE</th>\n",
       "    </tr>\n",
       "  </thead>\n",
       "  <tbody>\n",
       "    <tr>\n",
       "      <th>6</th>\n",
       "      <td>HuberRegressor</td>\n",
       "      <td>0.622570</td>\n",
       "      <td>0.941489</td>\n",
       "      <td>0.970304</td>\n",
       "      <td>0.777791</td>\n",
       "      <td>9.385760e+14</td>\n",
       "    </tr>\n",
       "    <tr>\n",
       "      <th>3</th>\n",
       "      <td>RidgeRegression</td>\n",
       "      <td>0.631801</td>\n",
       "      <td>0.968902</td>\n",
       "      <td>0.984328</td>\n",
       "      <td>0.771321</td>\n",
       "      <td>9.774772e+14</td>\n",
       "    </tr>\n",
       "    <tr>\n",
       "      <th>2</th>\n",
       "      <td>LinearRegression</td>\n",
       "      <td>0.631862</td>\n",
       "      <td>0.969251</td>\n",
       "      <td>0.984506</td>\n",
       "      <td>0.771239</td>\n",
       "      <td>9.774455e+14</td>\n",
       "    </tr>\n",
       "    <tr>\n",
       "      <th>0</th>\n",
       "      <td>ElasticNetRegression</td>\n",
       "      <td>0.660180</td>\n",
       "      <td>1.076061</td>\n",
       "      <td>1.037333</td>\n",
       "      <td>0.746030</td>\n",
       "      <td>1.284684e+15</td>\n",
       "    </tr>\n",
       "    <tr>\n",
       "      <th>1</th>\n",
       "      <td>LassoRegression</td>\n",
       "      <td>0.682898</td>\n",
       "      <td>1.222001</td>\n",
       "      <td>1.105442</td>\n",
       "      <td>0.711585</td>\n",
       "      <td>1.390312e+15</td>\n",
       "    </tr>\n",
       "    <tr>\n",
       "      <th>9</th>\n",
       "      <td>AdaBoostRegressor</td>\n",
       "      <td>0.702077</td>\n",
       "      <td>1.256984</td>\n",
       "      <td>1.121153</td>\n",
       "      <td>0.703328</td>\n",
       "      <td>1.228754e+15</td>\n",
       "    </tr>\n",
       "    <tr>\n",
       "      <th>8</th>\n",
       "      <td>GradientBoostingRegressor</td>\n",
       "      <td>0.671627</td>\n",
       "      <td>1.345160</td>\n",
       "      <td>1.159810</td>\n",
       "      <td>0.682517</td>\n",
       "      <td>1.004038e+15</td>\n",
       "    </tr>\n",
       "    <tr>\n",
       "      <th>5</th>\n",
       "      <td>RandomForestRegressor</td>\n",
       "      <td>0.691004</td>\n",
       "      <td>1.463477</td>\n",
       "      <td>1.209742</td>\n",
       "      <td>0.654592</td>\n",
       "      <td>1.039565e+15</td>\n",
       "    </tr>\n",
       "    <tr>\n",
       "      <th>4</th>\n",
       "      <td>DecisionTreeRegressor</td>\n",
       "      <td>0.737991</td>\n",
       "      <td>1.567686</td>\n",
       "      <td>1.252073</td>\n",
       "      <td>0.629997</td>\n",
       "      <td>1.061984e+15</td>\n",
       "    </tr>\n",
       "    <tr>\n",
       "      <th>7</th>\n",
       "      <td>PoissonRegressor</td>\n",
       "      <td>2.461530</td>\n",
       "      <td>635.762721</td>\n",
       "      <td>25.214336</td>\n",
       "      <td>-149.051905</td>\n",
       "      <td>1.471061e+15</td>\n",
       "    </tr>\n",
       "  </tbody>\n",
       "</table>\n",
       "</div>"
      ],
      "text/plain": [
       "                       Model       MAE  ...          R2          MAPE\n",
       "6             HuberRegressor  0.622570  ...    0.777791  9.385760e+14\n",
       "3            RidgeRegression  0.631801  ...    0.771321  9.774772e+14\n",
       "2           LinearRegression  0.631862  ...    0.771239  9.774455e+14\n",
       "0       ElasticNetRegression  0.660180  ...    0.746030  1.284684e+15\n",
       "1            LassoRegression  0.682898  ...    0.711585  1.390312e+15\n",
       "9          AdaBoostRegressor  0.702077  ...    0.703328  1.228754e+15\n",
       "8  GradientBoostingRegressor  0.671627  ...    0.682517  1.004038e+15\n",
       "5      RandomForestRegressor  0.691004  ...    0.654592  1.039565e+15\n",
       "4      DecisionTreeRegressor  0.737991  ...    0.629997  1.061984e+15\n",
       "7           PoissonRegressor  2.461530  ... -149.051905  1.471061e+15\n",
       "\n",
       "[10 rows x 6 columns]"
      ]
     },
     "execution_count": 13,
     "metadata": {},
     "output_type": "execute_result"
    }
   ],
   "source": [
    "dic = {'Model':['ElasticNetRegression','LassoRegression','LinearRegression','RidgeRegression','DecisionTreeRegressor','RandomForestRegressor','HuberRegressor', 'PoissonRegressor','GradientBoostingRegressor','AdaBoostRegressor'],\n",
    "       'MAE':[ en.mae , ls.mae,lr.mae,r.mae,d.mae,rf.mae,hb.mae,p.mae,h.mae,ad.mae],\n",
    "       'MSE':[ en.mse , ls.mse,lr.mse,r.mse,d.mse,rf.mse,hb.mse,p.mse,h.mse,ad.mse],\n",
    "       'RMSE':[ en.rmse , ls.rmse,lr.rmse,r.rmse,d.rmse,rf.rmse,hb.rmse,p.rmse,h.rmse,ad.rmse],\n",
    "       'R2':[ en.r2 , ls.r2,lr.r2,r.r2,d.r2,rf.r2,hb.r2,p.r2,h.r2,ad.r2],\n",
    "       'MAPE':[ en.mape , ls.mape,lr.mape,r.mape,d.mape,rf.mape,hb.mape,p.mape,h.mape,ad.mape]}\n",
    "compare = pd.DataFrame(dic)\n",
    "compare.sort_values(by='R2',ascending=False)"
   ]
  },
  {
   "cell_type": "markdown",
   "metadata": {
    "id": "3DXWgRvnz94G"
   },
   "source": [
    "Model linear cendrung memiliki nilai R-squared yang lebih besar dibandingkan\n",
    "dengan metode model lainnya (TreeBased, Ensemble)\n",
    " \n",
    "\n",
    "*   Huber merupakan model yang robust terhadap outlier\n",
    "*   Ridge cocok untuk data yang memiliki multikolinearitas"
   ]
  },
  {
   "cell_type": "markdown",
   "metadata": {
    "id": "yEZE-Doa3yCU"
   },
   "source": [
    "**Persamaan garis regresi model awal HuberRegressor**\n",
    "\n",
    "\n",
    "> ypred = 0.236-0.010(Age)-0.078(Female)+0.158(Male)-0.022(Interest)+0.107(Impression)-0.137(Clicks)+0.691(Total_Conversion)\n"
   ]
  },
  {
   "cell_type": "markdown",
   "metadata": {
    "id": "gBth4ZjT4aZ-"
   },
   "source": [
    "**Persamaan garis regresi model awal RidgeRegression**\n",
    "\n",
    "\n",
    "> ypred = 0.331+0.011(Age)-0.042(Female)+0.042(Male)-0.044(Interest)+0.129(Impression)-0.196(Clicks)+0.728 (Total_Conversion)"
   ]
  },
  {
   "cell_type": "markdown",
   "metadata": {
    "id": "y4UMEZDXnS35"
   },
   "source": [
    "# Tuning Hyperparameter"
   ]
  },
  {
   "cell_type": "markdown",
   "metadata": {
    "id": "izSMvuA34vGo"
   },
   "source": [
    "Selajutnya saya akan memilih 2 model awal dengan nilai MAE terendah (Huber dan Ridge) untuk dilakukannya Tuning Hyperparameter "
   ]
  },
  {
   "cell_type": "markdown",
   "metadata": {
    "id": "JucZ_tcG0x3a"
   },
   "source": [
    "## Tuning Huber Regressor"
   ]
  },
  {
   "cell_type": "code",
   "execution_count": 15,
   "metadata": {
    "colab": {
     "base_uri": "https://localhost:8080/"
    },
    "executionInfo": {
     "elapsed": 28437,
     "status": "ok",
     "timestamp": 1638778927992,
     "user": {
      "displayName": "006_Berryl Bagas",
      "photoUrl": "https://lh3.googleusercontent.com/a-/AOh14GiDZMNEtuSWWuS-fsix3MeuvW88AemkkLEu8OFTyg=s64",
      "userId": "09798621404980976797"
     },
     "user_tz": -420
    },
    "id": "x71xwJ-f0xXi",
    "outputId": "33b756a9-de39-4b7f-d2e1-e720ecb4594a"
   },
   "outputs": [
    {
     "data": {
      "text/plain": [
       "GridSearchCV(cv=10, estimator=HuberRegressor(),\n",
       "             param_grid={'alpha': [0.1, 0.2, 0.5, 1, 10],\n",
       "                         'epsilon': [0.5, 1, 1.35, 4, 1.5],\n",
       "                         'fit_intercept': ['True', 'False'],\n",
       "                         'max_iter': [100, 300, 500]},\n",
       "             scoring='r2')"
      ]
     },
     "execution_count": 15,
     "metadata": {},
     "output_type": "execute_result"
    }
   ],
   "source": [
    "from sklearn.model_selection import GridSearchCV\n",
    "\n",
    "huber = HuberRegressor( )\n",
    "alpha = [0.1,0.2,0.5,1,10]\n",
    "epsilon =[0.5,1,1.35,4,1.5]\n",
    "iter = [100,300,500]\n",
    "fit = ['True','False']\n",
    "\n",
    "param_grid = dict(alpha=alpha,epsilon=epsilon,max_iter=iter,fit_intercept=fit)\n",
    "gridhub = GridSearchCV(huber, param_grid, cv=10, scoring='r2', return_train_score=False)\n",
    "gridhub.fit(x_train,y_train)"
   ]
  },
  {
   "cell_type": "code",
   "execution_count": 16,
   "metadata": {
    "colab": {
     "base_uri": "https://localhost:8080/"
    },
    "executionInfo": {
     "elapsed": 624,
     "status": "ok",
     "timestamp": 1638778933930,
     "user": {
      "displayName": "006_Berryl Bagas",
      "photoUrl": "https://lh3.googleusercontent.com/a-/AOh14GiDZMNEtuSWWuS-fsix3MeuvW88AemkkLEu8OFTyg=s64",
      "userId": "09798621404980976797"
     },
     "user_tz": -420
    },
    "id": "9um76QYW1JUP",
    "outputId": "9f4f0c9d-6569-4b9d-e784-543a4ce2fe17"
   },
   "outputs": [
    {
     "name": "stdout",
     "output_type": "stream",
     "text": [
      "parameter  {'alpha': 10, 'epsilon': 1.35, 'fit_intercept': 'True', 'max_iter': 100}\n"
     ]
    }
   ],
   "source": [
    "print('parameter ',gridhub.best_params_)"
   ]
  },
  {
   "cell_type": "markdown",
   "metadata": {
    "id": "dK7gGSKl1LiW"
   },
   "source": [
    "Didapatkan parameter terbaik untuk HuberRegressor dengan:\n",
    "\n",
    "\n",
    "*   alpha = 10\n",
    "*   epsilon = 1.35\n",
    "*   fit_intercept = True\n",
    "*   max_iter = 100\n",
    "\n",
    "\n",
    "Semakin besar nilai epsilon maka garis model HuberRegressor akan mendekati RidgeRegression\n"
   ]
  },
  {
   "cell_type": "markdown",
   "metadata": {
    "id": "1NAQb_m01v0f"
   },
   "source": [
    "## Tuning Ridge Regression"
   ]
  },
  {
   "cell_type": "code",
   "execution_count": 17,
   "metadata": {
    "colab": {
     "base_uri": "https://localhost:8080/"
    },
    "executionInfo": {
     "elapsed": 1827,
     "status": "ok",
     "timestamp": 1638778940233,
     "user": {
      "displayName": "006_Berryl Bagas",
      "photoUrl": "https://lh3.googleusercontent.com/a-/AOh14GiDZMNEtuSWWuS-fsix3MeuvW88AemkkLEu8OFTyg=s64",
      "userId": "09798621404980976797"
     },
     "user_tz": -420
    },
    "id": "Nw1c3YqU12Rq",
    "outputId": "f39c5d12-d6a2-4c0f-c1b6-6b8cf7325433"
   },
   "outputs": [
    {
     "data": {
      "text/plain": [
       "GridSearchCV(cv=10, estimator=Ridge(),\n",
       "             param_grid={'alpha': [0.1, 0.2, 0.5, 1, 10]}, scoring='r2')"
      ]
     },
     "execution_count": 17,
     "metadata": {},
     "output_type": "execute_result"
    }
   ],
   "source": [
    "from sklearn.model_selection import GridSearchCV\n",
    "\n",
    "ridge = Ridge()\n",
    "alpha = [0.1,0.2,0.5,1,10]\n",
    "\n",
    "param_grid = dict(alpha=alpha)\n",
    "gridr = GridSearchCV(ridge, param_grid, cv=10, scoring='r2', return_train_score=False)\n",
    "gridr.fit(x_train,y_train)"
   ]
  },
  {
   "cell_type": "code",
   "execution_count": 18,
   "metadata": {
    "colab": {
     "base_uri": "https://localhost:8080/"
    },
    "executionInfo": {
     "elapsed": 29,
     "status": "ok",
     "timestamp": 1638778943973,
     "user": {
      "displayName": "006_Berryl Bagas",
      "photoUrl": "https://lh3.googleusercontent.com/a-/AOh14GiDZMNEtuSWWuS-fsix3MeuvW88AemkkLEu8OFTyg=s64",
      "userId": "09798621404980976797"
     },
     "user_tz": -420
    },
    "id": "k47emJ-i19b9",
    "outputId": "81b36ef4-8a1b-433e-bef5-6ef315ff772e"
   },
   "outputs": [
    {
     "name": "stdout",
     "output_type": "stream",
     "text": [
      "parameter  {'alpha': 10}\n"
     ]
    }
   ],
   "source": [
    "print('parameter ',gridr.best_params_)"
   ]
  },
  {
   "cell_type": "markdown",
   "metadata": {
    "id": "nVIVKnlv2EyP"
   },
   "source": [
    "Didapatkan parameter terbaik untuk RidgeRegression dengan:\n",
    "\n",
    "\n",
    "*   alpha = 10"
   ]
  },
  {
   "cell_type": "markdown",
   "metadata": {
    "id": "VATkYdk62Mrq"
   },
   "source": [
    "## Model Tuning Train-Test"
   ]
  },
  {
   "cell_type": "code",
   "execution_count": 19,
   "metadata": {
    "colab": {
     "base_uri": "https://localhost:8080/",
     "height": 175
    },
    "executionInfo": {
     "elapsed": 801,
     "status": "ok",
     "timestamp": 1638778948027,
     "user": {
      "displayName": "006_Berryl Bagas",
      "photoUrl": "https://lh3.googleusercontent.com/a-/AOh14GiDZMNEtuSWWuS-fsix3MeuvW88AemkkLEu8OFTyg=s64",
      "userId": "09798621404980976797"
     },
     "user_tz": -420
    },
    "id": "epWL8nQE2Q-p",
    "outputId": "926a94f0-58a6-4af5-dcc3-c929e593ca09"
   },
   "outputs": [
    {
     "data": {
      "text/html": [
       "<div>\n",
       "<style scoped>\n",
       "    .dataframe tbody tr th:only-of-type {\n",
       "        vertical-align: middle;\n",
       "    }\n",
       "\n",
       "    .dataframe tbody tr th {\n",
       "        vertical-align: top;\n",
       "    }\n",
       "\n",
       "    .dataframe thead th {\n",
       "        text-align: right;\n",
       "    }\n",
       "</style>\n",
       "<table border=\"1\" class=\"dataframe\">\n",
       "  <thead>\n",
       "    <tr style=\"text-align: right;\">\n",
       "      <th></th>\n",
       "      <th>Model</th>\n",
       "      <th>MAE</th>\n",
       "      <th>MSE</th>\n",
       "      <th>RMSE</th>\n",
       "      <th>R2</th>\n",
       "      <th>MAPE</th>\n",
       "    </tr>\n",
       "  </thead>\n",
       "  <tbody>\n",
       "    <tr>\n",
       "      <th>3</th>\n",
       "      <td>Tuning HuberRegressor</td>\n",
       "      <td>0.622010</td>\n",
       "      <td>0.938860</td>\n",
       "      <td>0.968948</td>\n",
       "      <td>0.778411</td>\n",
       "      <td>9.395662e+14</td>\n",
       "    </tr>\n",
       "    <tr>\n",
       "      <th>2</th>\n",
       "      <td>HubberRegressor</td>\n",
       "      <td>0.622570</td>\n",
       "      <td>0.941489</td>\n",
       "      <td>0.970304</td>\n",
       "      <td>0.777791</td>\n",
       "      <td>9.385760e+14</td>\n",
       "    </tr>\n",
       "    <tr>\n",
       "      <th>1</th>\n",
       "      <td>Tuning RidgeRegression</td>\n",
       "      <td>0.631285</td>\n",
       "      <td>0.965790</td>\n",
       "      <td>0.982746</td>\n",
       "      <td>0.772055</td>\n",
       "      <td>9.777415e+14</td>\n",
       "    </tr>\n",
       "    <tr>\n",
       "      <th>0</th>\n",
       "      <td>RidgeRegression</td>\n",
       "      <td>0.631801</td>\n",
       "      <td>0.968902</td>\n",
       "      <td>0.984328</td>\n",
       "      <td>0.771321</td>\n",
       "      <td>9.774772e+14</td>\n",
       "    </tr>\n",
       "  </tbody>\n",
       "</table>\n",
       "</div>"
      ],
      "text/plain": [
       "                    Model       MAE       MSE      RMSE        R2          MAPE\n",
       "3   Tuning HuberRegressor  0.622010  0.938860  0.968948  0.778411  9.395662e+14\n",
       "2         HubberRegressor  0.622570  0.941489  0.970304  0.777791  9.385760e+14\n",
       "1  Tuning RidgeRegression  0.631285  0.965790  0.982746  0.772055  9.777415e+14\n",
       "0         RidgeRegression  0.631801  0.968902  0.984328  0.771321  9.774772e+14"
      ]
     },
     "execution_count": 19,
     "metadata": {},
     "output_type": "execute_result"
    }
   ],
   "source": [
    "r =  Ridge()\n",
    "r.fit(x_train,y_train)\n",
    "y_jawaban = r.predict(x_test)\n",
    "r.mse = mean_squared_error(y_test,y_jawaban)\n",
    "r.rmse = np.sqrt(mean_squared_error(y_test,y_jawaban))\n",
    "r.r2 = r2_score(y_test,y_jawaban)\n",
    "r.mae = mean_absolute_error(y_test,y_jawaban)\n",
    "r.mape = mean_absolute_percentage_error(y_test,y_jawaban)\n",
    "\n",
    "gridr =  Ridge(alpha=10)\n",
    "gridr.fit(x_train,y_train)\n",
    "y_jawaban = gridr.predict(x_test)\n",
    "gridr.mse = mean_squared_error(y_test,y_jawaban)\n",
    "gridr.rmse = np.sqrt(mean_squared_error(y_test,y_jawaban))\n",
    "gridr.r2 = r2_score(y_test,y_jawaban)\n",
    "gridr.mae = mean_absolute_error(y_test,y_jawaban)\n",
    "gridr.mape = mean_absolute_percentage_error(y_test,y_jawaban)\n",
    "\n",
    "hb =  HuberRegressor()\n",
    "hb.fit(x_train,y_train) \n",
    "y_jawaban = hb.predict(x_test)\n",
    "hb.mse = mean_squared_error(y_test,y_jawaban)\n",
    "hb.rmse = np.sqrt(mean_squared_error(y_test,y_jawaban))\n",
    "hb.r2 = r2_score(y_test,y_jawaban)\n",
    "hb.mae = mean_absolute_error(y_test,y_jawaban)\n",
    "hb.mape = mean_absolute_percentage_error(y_test,y_jawaban)\n",
    "\n",
    "gridhub =  HuberRegressor(alpha= 10, epsilon= 1.35, fit_intercept='True', max_iter= 100)\n",
    "gridhub.fit(x_train,y_train) \n",
    "y_jawaban = gridhub.predict(x_test)\n",
    "gridhub.mse = mean_squared_error(y_test,y_jawaban)\n",
    "gridhub.rmse = np.sqrt(mean_squared_error(y_test,y_jawaban))\n",
    "gridhub.r2 = r2_score(y_test,y_jawaban)\n",
    "gridhub.mae = mean_absolute_error(y_test,y_jawaban)\n",
    "gridhub.mape = mean_absolute_percentage_error(y_test,y_jawaban)\n",
    "\n",
    "\n",
    "dic = {'Model':['RidgeRegression','Tuning RidgeRegression','HubberRegressor','Tuning HuberRegressor'],\n",
    "       'MAE':[r.mae,gridr.mae,hb.mae,gridhub.mae],\n",
    "       'MSE':[ r.mse,gridr.mse,hb.mse,gridhub.mse],\n",
    "       'RMSE':[r.rmse,gridr.rmse,hb.rmse,gridhub.rmse],\n",
    "       'R2':[ r.r2,gridr.r2,hb.r2,gridhub.r2],\n",
    "       'MAPE':[ r.mape,gridr.mape,hb.mape,gridhub.mape]}\n",
    "compare = pd.DataFrame(dic)\n",
    "compare.sort_values(by='R2',ascending=False)"
   ]
  },
  {
   "cell_type": "markdown",
   "metadata": {
    "id": "gGlqbJ6w2ozP"
   },
   "source": [
    "Model Tuning mampu menaikan R-squared kedua model awal. Tuning HuberRegressor memberikan R-squared paling besar yaitu 77,84%"
   ]
  },
  {
   "cell_type": "markdown",
   "metadata": {
    "id": "cWwSxpyq47Dk"
   },
   "source": [
    "**Persamaan garis regresi model tuning HuberRegressor**\n",
    "\n",
    "\n",
    "> ypred = 0.358-0.012(Age)-0.040(Female)+0.040(Male)-0.022(Interest)+0.097(Impression)-0.124(Clicks)+0.686(Total_Conversion)"
   ]
  },
  {
   "cell_type": "markdown",
   "metadata": {
    "id": "GVWHJ_A6nXKf"
   },
   "source": [
    "# Model Evaluation"
   ]
  },
  {
   "cell_type": "code",
   "execution_count": 20,
   "metadata": {
    "colab": {
     "base_uri": "https://localhost:8080/",
     "height": 175
    },
    "executionInfo": {
     "elapsed": 29,
     "status": "ok",
     "timestamp": 1638778955492,
     "user": {
      "displayName": "006_Berryl Bagas",
      "photoUrl": "https://lh3.googleusercontent.com/a-/AOh14GiDZMNEtuSWWuS-fsix3MeuvW88AemkkLEu8OFTyg=s64",
      "userId": "09798621404980976797"
     },
     "user_tz": -420
    },
    "id": "-aURQ7PK3PeC",
    "outputId": "f42e9dcc-99b3-455e-d3bc-d736f988a632"
   },
   "outputs": [
    {
     "data": {
      "text/html": [
       "<div>\n",
       "<style scoped>\n",
       "    .dataframe tbody tr th:only-of-type {\n",
       "        vertical-align: middle;\n",
       "    }\n",
       "\n",
       "    .dataframe tbody tr th {\n",
       "        vertical-align: top;\n",
       "    }\n",
       "\n",
       "    .dataframe thead th {\n",
       "        text-align: right;\n",
       "    }\n",
       "</style>\n",
       "<table border=\"1\" class=\"dataframe\">\n",
       "  <thead>\n",
       "    <tr style=\"text-align: right;\">\n",
       "      <th></th>\n",
       "      <th>Model</th>\n",
       "      <th>Data</th>\n",
       "      <th>MSE</th>\n",
       "      <th>MAE</th>\n",
       "      <th>RMSE</th>\n",
       "      <th>R2</th>\n",
       "      <th>MAPE</th>\n",
       "    </tr>\n",
       "  </thead>\n",
       "  <tbody>\n",
       "    <tr>\n",
       "      <th>0</th>\n",
       "      <td>Tuning RidgeRegression</td>\n",
       "      <td>Testing</td>\n",
       "      <td>0.965790</td>\n",
       "      <td>0.631285</td>\n",
       "      <td>0.982746</td>\n",
       "      <td>0.772055</td>\n",
       "      <td>9.777415e+14</td>\n",
       "    </tr>\n",
       "    <tr>\n",
       "      <th>1</th>\n",
       "      <td>Tuning RidgeRegression</td>\n",
       "      <td>Training</td>\n",
       "      <td>0.688778</td>\n",
       "      <td>0.615401</td>\n",
       "      <td>0.829927</td>\n",
       "      <td>0.745963</td>\n",
       "      <td>9.974336e+14</td>\n",
       "    </tr>\n",
       "    <tr>\n",
       "      <th>2</th>\n",
       "      <td>Tuning HubberRegressor</td>\n",
       "      <td>Testing</td>\n",
       "      <td>0.938860</td>\n",
       "      <td>0.622010</td>\n",
       "      <td>0.968948</td>\n",
       "      <td>0.778411</td>\n",
       "      <td>9.395662e+14</td>\n",
       "    </tr>\n",
       "    <tr>\n",
       "      <th>3</th>\n",
       "      <td>Tuning HuberRegressor</td>\n",
       "      <td>Training</td>\n",
       "      <td>0.694537</td>\n",
       "      <td>0.612884</td>\n",
       "      <td>0.833389</td>\n",
       "      <td>0.743839</td>\n",
       "      <td>9.672641e+14</td>\n",
       "    </tr>\n",
       "  </tbody>\n",
       "</table>\n",
       "</div>"
      ],
      "text/plain": [
       "                    Model      Data       MSE  ...      RMSE        R2          MAPE\n",
       "0  Tuning RidgeRegression   Testing  0.965790  ...  0.982746  0.772055  9.777415e+14\n",
       "1  Tuning RidgeRegression  Training  0.688778  ...  0.829927  0.745963  9.974336e+14\n",
       "2  Tuning HubberRegressor   Testing  0.938860  ...  0.968948  0.778411  9.395662e+14\n",
       "3   Tuning HuberRegressor  Training  0.694537  ...  0.833389  0.743839  9.672641e+14\n",
       "\n",
       "[4 rows x 7 columns]"
      ]
     },
     "execution_count": 20,
     "metadata": {},
     "output_type": "execute_result"
    }
   ],
   "source": [
    "r =  Ridge(alpha=10)\n",
    "r.fit(x_train,y_train)\n",
    "y_jawaban = r.predict(x_test)\n",
    "r.mse = mean_squared_error(y_test,y_jawaban)\n",
    "r.rmse = np.sqrt(mean_squared_error(y_test,y_jawaban))\n",
    "r.r2 = r2_score(y_test,y_jawaban)\n",
    "r.mae = mean_absolute_error(y_test,y_jawaban)\n",
    "r.mape = mean_absolute_percentage_error(y_test,y_jawaban)\n",
    "\n",
    "gridr =  Ridge(alpha=10)\n",
    "gridr.fit(x_train,y_train)\n",
    "y_jawaban = gridr.predict(x_train)\n",
    "gridr.mse = mean_squared_error(y_train,y_jawaban)\n",
    "gridr.rmse = np.sqrt(mean_squared_error(y_train,y_jawaban))\n",
    "gridr.r2 = r2_score(y_train,y_jawaban)\n",
    "gridr.mae = mean_absolute_error(y_train,y_jawaban)\n",
    "gridr.mape = mean_absolute_percentage_error(y_train,y_jawaban)\n",
    "\n",
    "hb =  HuberRegressor(alpha= 10, epsilon= 1.35, fit_intercept='True', max_iter= 100)\n",
    "hb.fit(x_train,y_train) \n",
    "y_jawaban = hb.predict(x_test)\n",
    "hb.mse = mean_squared_error(y_test,y_jawaban)\n",
    "hb.rmse = np.sqrt(mean_squared_error(y_test,y_jawaban))\n",
    "hb.r2 = r2_score(y_test,y_jawaban)\n",
    "hb.mae = mean_absolute_error(y_test,y_jawaban)\n",
    "hb.mape = mean_absolute_percentage_error(y_test,y_jawaban)\n",
    "\n",
    "gridhub =  HuberRegressor(alpha= 10, epsilon= 1.35, fit_intercept='True', max_iter= 100)\n",
    "gridhub.fit(x_train,y_train) \n",
    "y_jawaban = gridhub.predict(x_train)\n",
    "gridhub.mse = mean_squared_error(y_train,y_jawaban)\n",
    "gridhub.rmse = np.sqrt(mean_squared_error(y_train,y_jawaban))\n",
    "gridhub.r2 = r2_score(y_train,y_jawaban)\n",
    "gridhub.mae = mean_absolute_error(y_train,y_jawaban)\n",
    "gridhub.mape = mean_absolute_percentage_error(y_train,y_jawaban)\n",
    "\n",
    "dic = {'Model':['Tuning RidgeRegression','Tuning RidgeRegression','Tuning HubberRegressor','Tuning HuberRegressor'],\n",
    "       'Data':['Testing','Training','Testing','Training'],\n",
    "       'MSE':[r.mse,gridr.mse,hb.mse,gridhub.mse],\n",
    "       'MAE':[r.mae,gridr.mae,hb.mae,gridhub.mae],\n",
    "       'RMSE':[r.rmse,gridr.rmse,hb.rmse,gridhub.rmse],\n",
    "       'R2':[ r.r2,gridr.r2,hb.r2,gridhub.r2],\n",
    "       'MAPE':[ r.mape,gridr.mape,hb.mape,gridhub.mape]}\n",
    "compare = pd.DataFrame(dic)\n",
    "compare.to_csv('test train.csv', index=False)\n",
    "compare"
   ]
  },
  {
   "cell_type": "markdown",
   "metadata": {
    "id": "oOgQYG-Q3hln"
   },
   "source": [
    "Penurunan Rsquared pada data testing dan training tidak terlalu jauh, maka bisa dikatakan model tersebut Good-fit"
   ]
  },
  {
   "cell_type": "markdown",
   "metadata": {
    "id": "QaS97zsX7Tng"
   },
   "source": [
    "# Predict Example (Huber Regressor)"
   ]
  },
  {
   "cell_type": "code",
   "execution_count": 21,
   "metadata": {
    "colab": {
     "base_uri": "https://localhost:8080/",
     "height": 265
    },
    "executionInfo": {
     "elapsed": 40,
     "status": "ok",
     "timestamp": 1638778963854,
     "user": {
      "displayName": "006_Berryl Bagas",
      "photoUrl": "https://lh3.googleusercontent.com/a-/AOh14GiDZMNEtuSWWuS-fsix3MeuvW88AemkkLEu8OFTyg=s64",
      "userId": "09798621404980976797"
     },
     "user_tz": -420
    },
    "id": "LjdNbuom7YbB",
    "outputId": "60f1f947-83c9-40ca-803f-59ba1e28a5d7"
   },
   "outputs": [
    {
     "data": {
      "image/png": "[encoded data removed]",
      "text/plain": [
       "<Figure size 432x288 with 1 Axes>"
      ]
     },
     "metadata": {
      "needs_background": "light"
     },
     "output_type": "display_data"
    }
   ],
   "source": [
    "hb =  HuberRegressor(alpha= 10, epsilon= 1.35, fit_intercept='True', max_iter= 100)\n",
    "hb.fit(x_train,y_train) \n",
    "y_pred = hb.predict(x_test.head(7))\n",
    "y_jawaban = [np.round(item) for item in y_pred]\n",
    "x_ax = range(len(x_test.head(7)))\n",
    "plt.scatter(x_ax, y_test.head(7), s=5, color=\"blue\", label=\"Nilai_Aktual\")\n",
    "plt.plot(x_ax, y_jawaban, lw=0.8, color=\"red\", label=\"Nilai_Prediksi (Round)\")\n",
    "plt.legend()\n",
    "plt.show()"
   ]
  },
  {
   "cell_type": "code",
   "execution_count": 22,
   "metadata": {
    "colab": {
     "base_uri": "https://localhost:8080/",
     "height": 268
    },
    "executionInfo": {
     "elapsed": 24,
     "status": "ok",
     "timestamp": 1638778969425,
     "user": {
      "displayName": "006_Berryl Bagas",
      "photoUrl": "https://lh3.googleusercontent.com/a-/AOh14GiDZMNEtuSWWuS-fsix3MeuvW88AemkkLEu8OFTyg=s64",
      "userId": "09798621404980976797"
     },
     "user_tz": -420
    },
    "id": "1pR8qq977nAj",
    "outputId": "a130af39-fa57-44c5-ed77-65079f4a9bfd"
   },
   "outputs": [
    {
     "data": {
      "text/html": [
       "<div>\n",
       "<style scoped>\n",
       "    .dataframe tbody tr th:only-of-type {\n",
       "        vertical-align: middle;\n",
       "    }\n",
       "\n",
       "    .dataframe tbody tr th {\n",
       "        vertical-align: top;\n",
       "    }\n",
       "\n",
       "    .dataframe thead th {\n",
       "        text-align: right;\n",
       "    }\n",
       "</style>\n",
       "<table border=\"1\" class=\"dataframe\">\n",
       "  <thead>\n",
       "    <tr style=\"text-align: right;\">\n",
       "      <th></th>\n",
       "      <th>Nilai_Aktual</th>\n",
       "      <th>Nilai_Prediksi</th>\n",
       "      <th>Nilai_Prediksi(Round)</th>\n",
       "    </tr>\n",
       "  </thead>\n",
       "  <tbody>\n",
       "    <tr>\n",
       "      <th>0</th>\n",
       "      <td>0</td>\n",
       "      <td>0.375595</td>\n",
       "      <td>0.0</td>\n",
       "    </tr>\n",
       "    <tr>\n",
       "      <th>1</th>\n",
       "      <td>0</td>\n",
       "      <td>0.227703</td>\n",
       "      <td>0.0</td>\n",
       "    </tr>\n",
       "    <tr>\n",
       "      <th>2</th>\n",
       "      <td>0</td>\n",
       "      <td>0.288956</td>\n",
       "      <td>0.0</td>\n",
       "    </tr>\n",
       "    <tr>\n",
       "      <th>3</th>\n",
       "      <td>21</td>\n",
       "      <td>14.049124</td>\n",
       "      <td>14.0</td>\n",
       "    </tr>\n",
       "    <tr>\n",
       "      <th>4</th>\n",
       "      <td>0</td>\n",
       "      <td>0.230973</td>\n",
       "      <td>0.0</td>\n",
       "    </tr>\n",
       "    <tr>\n",
       "      <th>5</th>\n",
       "      <td>0</td>\n",
       "      <td>0.402268</td>\n",
       "      <td>0.0</td>\n",
       "    </tr>\n",
       "    <tr>\n",
       "      <th>6</th>\n",
       "      <td>0</td>\n",
       "      <td>0.949662</td>\n",
       "      <td>1.0</td>\n",
       "    </tr>\n",
       "  </tbody>\n",
       "</table>\n",
       "</div>"
      ],
      "text/plain": [
       "   Nilai_Aktual  Nilai_Prediksi  Nilai_Prediksi(Round)\n",
       "0             0        0.375595                    0.0\n",
       "1             0        0.227703                    0.0\n",
       "2             0        0.288956                    0.0\n",
       "3            21       14.049124                   14.0\n",
       "4             0        0.230973                    0.0\n",
       "5             0        0.402268                    0.0\n",
       "6             0        0.949662                    1.0"
      ]
     },
     "execution_count": 22,
     "metadata": {},
     "output_type": "execute_result"
    }
   ],
   "source": [
    "b = y_test.head(7).reset_index()\n",
    "b.drop('index',axis=1,inplace=True)\n",
    "b= b.rename(columns={'Approved_Conversion':'Nilai_Aktual'})\n",
    "a = pd.DataFrame(y_pred)\n",
    "a= a.rename(columns={0:'Nilai_Prediksi'})\n",
    "c = pd.DataFrame(y_jawaban)\n",
    "c= c.rename(columns={0:'Nilai_Prediksi(Round)'})\n",
    "predict = [b,a,c]\n",
    "predict = pd.concat(predict,axis=1,join='inner')\n",
    "predict"
   ]
  },
  {
   "cell_type": "markdown",
   "metadata": {
    "id": "vMacSon6nal_"
   },
   "source": [
    "# Kesimpulan dan Saran"
   ]
  },
  {
   "cell_type": "markdown",
   "metadata": {
    "id": "Tt7RsfEW5nf_"
   },
   "source": [
    "## Kesimpulan"
   ]
  },
  {
   "cell_type": "markdown",
   "metadata": {
    "id": "aF8SHvy76WNX"
   },
   "source": [
    "Dari hasil analisis deskriptif didapatkan kelompok gender wanita cendrung lebih banyak melakukan clicks dibandingkan laki-laki, selain itu kelompok umur 30-34 merupakan customer yang paling banyak membeli produk."
   ]
  },
  {
   "cell_type": "markdown",
   "metadata": {
    "id": "_SRiO7T153vL"
   },
   "source": [
    "Didapatkan model regresi terbaik menggunakan Huber Regressor dengan nilai MAE sebesar 0,66201 dan r-squared 77,84%. Artinya peubah-peubah independen pada model tersebut mampu memprediksi ragam Approved_Conversion sebesar 77,84% dan sisanya dipengaruhi oleh peubah di luar model kami.\n",
    "\n",
    "**Persamaan garis regresi model tuning HuberRegressor**\n",
    "\n",
    "\n",
    "> ypred = 0.358-0.012(Age)-0.040(Female)+0.040(Male)-0.022(Interest)+0.097(Impression)-0.124(Clicks)+0.686(Total_Conversion)\n",
    "\n",
    "Peubah Total_Conversion merupakan peubah yang memiliki koefesien paling besar, dengan customer melakukan 1 kali Total_Conversion makan akan meningkatkan rataan penjualan sebesar 0.686"
   ]
  },
  {
   "cell_type": "markdown",
   "metadata": {
    "id": "ljmZW5BF6uDe"
   },
   "source": [
    "Model ini masih memiliki kekurangan ketika memprediksi data penjualan yang besar\n",
    "dikarenakan terbatasnya ketersediaan data. Jika dikembangkan lebih lanjut, model ini dapat digunakan untuk digital marketing dimana perusahaan dapat memonitoring kualitas konten mereka. Jadi ketika konten dalam beberapa prediksi memiliki target pembelian rendah, maka mereka dapat membuat konten baru atau menambahkan inovasi pada konten lama sehinggan dapat tepat sasaran."
   ]
  },
  {
   "cell_type": "markdown",
   "metadata": {
    "id": "-J9Cy4Xs66EN"
   },
   "source": [
    "## Saran"
   ]
  },
  {
   "cell_type": "markdown",
   "metadata": {
    "id": "ndZNKBK46__D"
   },
   "source": [
    "Untuk kedepannya apabila ingin menggunakan FB Ads dengan optimal bisa melakukan\n",
    "penyetelan kriteria umur pada selang 30-34."
   ]
  },
  {
   "cell_type": "markdown",
   "metadata": {
    "id": "T3_gjvCN9D_e"
   },
   "source": [
    "![WhatsApp Image 2021-12-06 at 11.14.27.jpeg](data:image/jpeg;base64,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)"
   ]
  }
 ],
 "metadata": {
  "colab": {
   "authorship_tag": "ABX9TyPr4oSDV8XmnINNvyxH4xgT",
   "collapsed_sections": [],
   "name": "Prediksi Jumlah Penjualan Produk Melalui FB Ads.ipynb",
   "provenance": []
  },
  "kernelspec": {
   "display_name": "Python 3",
   "language": "python",
   "name": "python3"
  },
  "language_info": {
   "codemirror_mode": {
    "name": "ipython",
    "version": 3
   },
   "file_extension": ".py",
   "mimetype": "text/x-python",
   "name": "python",
   "nbconvert_exporter": "python",
   "pygments_lexer": "ipython3",
   "version": "3.8.8"
  }
 },
 "nbformat": 4,
 "nbformat_minor": 1
}
